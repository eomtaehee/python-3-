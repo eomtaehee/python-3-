{
 "cells": [
  {
   "cell_type": "markdown",
   "id": "13a12eca",
   "metadata": {},
   "source": [
    "### 문제 6002\n",
    "```\n",
    "이번에는 공백( )을 포함한 문장을 출력한다.\n",
    "다음 문장을 출력해보자.\n",
    "\n",
    "Hello World\n",
    "(대소문자에 주의한다.)\n",
    "```"
   ]
  },
  {
   "cell_type": "code",
   "execution_count": null,
   "id": "56eda4ac",
   "metadata": {
    "scrolled": true
   },
   "outputs": [
    {
     "name": "stdout",
     "output_type": "stream",
     "text": [
      "Hello World\n"
     ]
    }
   ],
   "source": [
    "print(\"Hello World\")"
   ]
  },
  {
   "cell_type": "markdown",
   "id": "81311c65",
   "metadata": {},
   "source": [
    "### 문제 6003\n",
    "```\n",
    "이번에는 줄을 바꿔 출력하는 출력문을 연습해보자.\n",
    "다음과 같이 줄을 바꿔 출력해야 한다.\n",
    "\n",
    "Hello\n",
    "World\n",
    "(두 줄에 걸쳐 줄을 바꿔 출력)\n",
    "```"
   ]
  },
  {
   "cell_type": "code",
   "execution_count": 6,
   "id": "df9ad47d",
   "metadata": {},
   "outputs": [
    {
     "name": "stdout",
     "output_type": "stream",
     "text": [
      "Hello     \n",
      "World\n"
     ]
    }
   ],
   "source": [
    "print(\"Hello     \")\n",
    "print(\"World\")"
   ]
  },
  {
   "cell_type": "markdown",
   "id": "e2b08318",
   "metadata": {},
   "source": [
    "### 문제 6004\n",
    "```\n",
    "이번에는 작은 따옴표(')(single quotation mark)가 들어있는\n",
    "출력문 연습을 해보자.\n",
    "\n",
    "다음 문장을 출력하시오.\n",
    "\n",
    "'Hello'\n",
    "```"
   ]
  },
  {
   "cell_type": "code",
   "execution_count": 7,
   "id": "bd734af2",
   "metadata": {},
   "outputs": [
    {
     "name": "stdout",
     "output_type": "stream",
     "text": [
      "'Hello'\n"
     ]
    }
   ],
   "source": [
    "print(\"'Hello'\")"
   ]
  },
  {
   "cell_type": "markdown",
   "id": "0059227a",
   "metadata": {},
   "source": [
    "### 문제 6005\n",
    "```\n",
    "이번에는 큰따옴표(\")(double quotation mark)가 포함된 출력문을 연습해보자.\n",
    "\n",
    "다음 문장을 출력하시오.\n",
    "\n",
    "\"Hello World\"\n",
    "(단, 큰따옴표도 함께 출력한다.)\n",
    "```"
   ]
  },
  {
   "cell_type": "code",
   "execution_count": 8,
   "id": "73b4c229",
   "metadata": {},
   "outputs": [
    {
     "name": "stdout",
     "output_type": "stream",
     "text": [
      "\"Hello World\"\n"
     ]
    }
   ],
   "source": [
    "print('\"Hello World\"')"
   ]
  },
  {
   "cell_type": "markdown",
   "id": "fb07cce5",
   "metadata": {},
   "source": [
    "### 문제 6006\n",
    "```\n",
    "이번에는 특수문자 출력에 도전하자!!\n",
    "\n",
    "다음 문장을 출력하시오.\n",
    "\n",
    "\"!@#$%^&*()'\n",
    "(단, 큰따옴표와 작은따옴표도 함께 출력한다.)\n",
    "```"
   ]
  },
  {
   "cell_type": "code",
   "execution_count": 19,
   "id": "821a940a",
   "metadata": {},
   "outputs": [
    {
     "name": "stdout",
     "output_type": "stream",
     "text": [
      "\"!@#$%^&*()'\n"
     ]
    }
   ],
   "source": [
    "print(\"\\\"!@#$%^&*()'\")"
   ]
  },
  {
   "cell_type": "markdown",
   "id": "7d1fe566",
   "metadata": {},
   "source": [
    "### 문제 6007\n",
    "```\n",
    "윈도우 운영체제의 파일 경로를 출력하는 연습을 해보자.\n",
    " \n",
    "파일 경로에는 특수문자들이 포함된다.\n",
    "\n",
    "다음 경로를 출력하시오.\n",
    "\n",
    "\"C:\\Download\\'hello'.py\"\n",
    "(단, 따옴표도 함께 출력한다.)\n",
    "```"
   ]
  },
  {
   "cell_type": "code",
   "execution_count": 47,
   "id": "4048ad17",
   "metadata": {},
   "outputs": [
    {
     "name": "stdout",
     "output_type": "stream",
     "text": [
      "\"C:\\Download\\'hello'.py\"\n"
     ]
    }
   ],
   "source": [
    "print('\\\"C:\\\\Download\\\\\\'hello\\'.py\\\"')"
   ]
  },
  {
   "cell_type": "markdown",
   "id": "af20cabd",
   "metadata": {},
   "source": [
    "### 문제 6008\n",
    "```\n",
    "출력문 연습의 마지막 문제이다.\n",
    "(생각과 시도를 많이 해야하는 문제들은 한 두 문제씩 넘겼다가 나중에 풀어보면 된다.)\n",
    "\n",
    "이번에는 다음과 같은 python프로그램의 소스코드를 출력해보자.\n",
    "\n",
    "print(\"Hello\\nWorld\")\n",
    "\n",
    "위 코드를 정확히 그대로 출력하시오.(공백문자 주의)\n",
    "```"
   ]
  },
  {
   "cell_type": "code",
   "execution_count": 1,
   "id": "7d8b4ba5",
   "metadata": {},
   "outputs": [
    {
     "name": "stdout",
     "output_type": "stream",
     "text": [
      "print(\"Hello\\nWorld\")\n"
     ]
    }
   ],
   "source": [
    "print('print(\"Hello\\\\nWorld\")')"
   ]
  }
 ],
 "metadata": {
  "kernelspec": {
   "display_name": "Python 3 (ipykernel)",
   "language": "python",
   "name": "python3"
  },
  "language_info": {
   "codemirror_mode": {
    "name": "ipython",
    "version": 3
   },
   "file_extension": ".py",
   "mimetype": "text/x-python",
   "name": "python",
   "nbconvert_exporter": "python",
   "pygments_lexer": "ipython3",
   "version": "3.9.13"
  },
  "vscode": {
   "interpreter": {
    "hash": "40ea231ce006ed65b013ba3e9b5a48267321b4d32b910ea3a649228a606377c3"
   }
  }
 },
 "nbformat": 4,
 "nbformat_minor": 5
}
