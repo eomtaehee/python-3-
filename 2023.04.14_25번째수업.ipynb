{
 "cells": [
  {
   "cell_type": "markdown",
   "id": "43c0b682",
   "metadata": {},
   "source": [
    "## 4. 이차원 리스트"
   ]
  },
  {
   "cell_type": "code",
   "execution_count": 1,
   "id": "adad8865",
   "metadata": {},
   "outputs": [
    {
     "name": "stdout",
     "output_type": "stream",
     "text": [
      "[[1, 2, 3], [4, 5, 6], [7, 8, 9]]\n"
     ]
    }
   ],
   "source": [
    "abc = [[1,2,3], [4,5,6], [7,8,9]]\n",
    "print(abc)"
   ]
  },
  {
   "cell_type": "code",
   "execution_count": 2,
   "id": "25cce1ac",
   "metadata": {},
   "outputs": [
    {
     "name": "stdout",
     "output_type": "stream",
     "text": [
      "[1, 2, 3]\n",
      "[4, 5, 6]\n",
      "[7, 8, 9]\n"
     ]
    }
   ],
   "source": [
    "print(abc[0])\n",
    "print(abc[1])\n",
    "print(abc[2])"
   ]
  },
  {
   "cell_type": "markdown",
   "id": "87fba60b",
   "metadata": {},
   "source": [
    "> - 이차원 리스트의 인덱스"
   ]
  },
  {
   "cell_type": "code",
   "execution_count": 3,
   "id": "2afef9cc",
   "metadata": {},
   "outputs": [],
   "source": [
    "abc = [[1,2,3], [4,5,6], [7,8,9]]"
   ]
  },
  {
   "cell_type": "code",
   "execution_count": 4,
   "id": "55bb53f8",
   "metadata": {},
   "outputs": [
    {
     "name": "stdout",
     "output_type": "stream",
     "text": [
      "1\n"
     ]
    }
   ],
   "source": [
    "# 1을 출력하기\n",
    "print(abc[0][0])"
   ]
  },
  {
   "cell_type": "code",
   "execution_count": 5,
   "id": "67465536",
   "metadata": {},
   "outputs": [
    {
     "name": "stdout",
     "output_type": "stream",
     "text": [
      "6\n"
     ]
    }
   ],
   "source": [
    "# 6을 출력하기\n",
    "print(abc[1][2])"
   ]
  },
  {
   "cell_type": "code",
   "execution_count": 6,
   "id": "590a4e94",
   "metadata": {},
   "outputs": [
    {
     "name": "stdout",
     "output_type": "stream",
     "text": [
      "8\n"
     ]
    }
   ],
   "source": [
    "# 8을 출력하기\n",
    "print(abc[2][1])"
   ]
  },
  {
   "cell_type": "code",
   "execution_count": 7,
   "id": "c76d0712",
   "metadata": {},
   "outputs": [
    {
     "name": "stdout",
     "output_type": "stream",
     "text": [
      "[1, 2, 3]\n",
      "[4, 5, 6]\n",
      "[7, 8, 9]\n"
     ]
    }
   ],
   "source": [
    "# 반복문을 이용해서 출력하기\n",
    "abc = [[1,2,3], [4,5,6], [7,8,9]]\n",
    "\n",
    "for i in abc :\n",
    "    print(i)"
   ]
  },
  {
   "cell_type": "markdown",
   "id": "1f618003",
   "metadata": {},
   "source": [
    "> - 이차원리스트 반복 원리"
   ]
  },
  {
   "cell_type": "code",
   "execution_count": 8,
   "id": "3e5628cb",
   "metadata": {},
   "outputs": [
    {
     "name": "stdout",
     "output_type": "stream",
     "text": [
      "1\n",
      "4\n",
      "7\n"
     ]
    }
   ],
   "source": [
    "# 모든 줄의 첫번째 데이터만 출력\n",
    "abc = [[1,2,3], [4,5,6], [7,8,9]]\n",
    "\n",
    "for i in abc :\n",
    "    print(i[0])"
   ]
  },
  {
   "cell_type": "code",
   "execution_count": 9,
   "id": "137b1ffe",
   "metadata": {},
   "outputs": [
    {
     "name": "stdout",
     "output_type": "stream",
     "text": [
      "2\n",
      "5\n",
      "8\n"
     ]
    }
   ],
   "source": [
    "# 모든 줄의 두번째 데이터만 출력\n",
    "abc = [[1,2,3], [4,5,6], [7,8,9]]\n",
    "\n",
    "for i in abc :\n",
    "    print(i[1])"
   ]
  },
  {
   "cell_type": "code",
   "execution_count": 10,
   "id": "ebc66d35",
   "metadata": {},
   "outputs": [
    {
     "name": "stdout",
     "output_type": "stream",
     "text": [
      "3\n",
      "6\n",
      "9\n"
     ]
    }
   ],
   "source": [
    "# 모든 줄의 세번째 데이터만 출력\n",
    "abc = [[1,2,3], [4,5,6], [7,8,9]]\n",
    "\n",
    "for i in abc :\n",
    "    print(i[-1])"
   ]
  },
  {
   "cell_type": "code",
   "execution_count": 11,
   "id": "fa46c5cf",
   "metadata": {},
   "outputs": [],
   "source": [
    "data =[\n",
    "    [1,'미국',46,37,38,121],\n",
    "    [2,'영국',27,23,17,67],\n",
    "    [3,'중국',26,18,26,70],        \n",
    "    [4,'러시아',19,18,19,56],\n",
    "    [5,'독일',17,10,15,42],\n",
    "    [6,'일본',12,8,21,41],\n",
    "    [7,'프랑스',10,18,14,42],\n",
    "    [8,'대한민국',9,3,9,21]\n",
    "]"
   ]
  },
  {
   "cell_type": "code",
   "execution_count": 12,
   "id": "a4957777",
   "metadata": {},
   "outputs": [
    {
     "name": "stdout",
     "output_type": "stream",
     "text": [
      "[[1, '미국', 46, 37, 38, 121], [2, '영국', 27, 23, 17, 67], [3, '중국', 26, 18, 26, 70], [4, '러시아', 19, 18, 19, 56], [5, '독일', 17, 10, 15, 42], [6, '일본', 12, 8, 21, 41], [7, '프랑스', 10, 18, 14, 42], [8, '대한민국', 9, 3, 9, 21]]\n"
     ]
    }
   ],
   "source": [
    "print(data)"
   ]
  },
  {
   "cell_type": "code",
   "execution_count": 13,
   "id": "8e6f1433",
   "metadata": {},
   "outputs": [
    {
     "name": "stdout",
     "output_type": "stream",
     "text": [
      "미국\n",
      "영국\n",
      "중국\n",
      "러시아\n",
      "독일\n",
      "일본\n",
      "프랑스\n",
      "대한민국\n"
     ]
    }
   ],
   "source": [
    "#문제 국가 이름만 출력하세요\n",
    "for i in data :\n",
    "    print(i[1])"
   ]
  },
  {
   "cell_type": "code",
   "execution_count": 14,
   "id": "f819804b",
   "metadata": {},
   "outputs": [
    {
     "name": "stdout",
     "output_type": "stream",
     "text": [
      "프랑스 금메달- 10 은메달- 18\n"
     ]
    }
   ],
   "source": [
    "#문제 금메달보다 은메달 개수가 많은 나라를 출력 하시오\n",
    "for i in data :\n",
    "    if i[2] < i[3]:\n",
    "        print(i[1],'금메달-',i[2],'은메달-',i[3])"
   ]
  },
  {
   "cell_type": "code",
   "execution_count": 15,
   "id": "fd3e9c73",
   "metadata": {},
   "outputs": [
    {
     "name": "stdout",
     "output_type": "stream",
     "text": [
      "일본 금메달- 12 동메달- 21\n",
      "프랑스 금메달- 10 동메달- 14\n"
     ]
    }
   ],
   "source": [
    "#문제 금메달보다 동메달 개수가 많은 나라를 출력 하세요\n",
    "for i in data :\n",
    "    if i[2] < i[4]:\n",
    "        print(i[1],'금메달-',i[2],'동메달-',i[4])"
   ]
  },
  {
   "cell_type": "code",
   "execution_count": 16,
   "id": "57a30d11",
   "metadata": {},
   "outputs": [
    {
     "name": "stdout",
     "output_type": "stream",
     "text": [
      "모든 나라의 금메달 총합계는 166\n"
     ]
    }
   ],
   "source": [
    "#모든 나라의 금메달 합을 구하시오\n",
    "gold = 0\n",
    "for i in data :\n",
    "    gold += i[2]\n",
    "print('모든 나라의 금메달 총합계는', gold)"
   ]
  }
 ],
 "metadata": {
  "kernelspec": {
   "display_name": "Python 3 (ipykernel)",
   "language": "python",
   "name": "python3"
  },
  "language_info": {
   "codemirror_mode": {
    "name": "ipython",
    "version": 3
   },
   "file_extension": ".py",
   "mimetype": "text/x-python",
   "name": "python",
   "nbconvert_exporter": "python",
   "pygments_lexer": "ipython3",
   "version": "3.9.13"
  }
 },
 "nbformat": 4,
 "nbformat_minor": 5
}
