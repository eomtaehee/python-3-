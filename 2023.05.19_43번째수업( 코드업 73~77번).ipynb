{
 "cells": [
  {
   "cell_type": "markdown",
   "id": "92d7560d",
   "metadata": {},
   "source": [
    "## 73번 [기초-반복실행구조] 정수 1개 입력받아 카운트다운 출력하기2\n",
    "```\n",
    "정수(1 ~ 100) 1개가 입력되었을 때 카운트다운을 출력해보자.\n",
    "\n",
    "while 조건식 :\n",
    "  ...\n",
    "  ...\n",
    "\n",
    "반복 실행구조를 사용해 보자.\n",
    "\n",
    "참고\n",
    "조건검사, 출력, 감소의 순서와 타이밍을 잘 생각해보자.\n",
    "```"
   ]
  },
  {
   "cell_type": "code",
   "execution_count": 2,
   "id": "df73cc9a",
   "metadata": {},
   "outputs": [
    {
     "name": "stdout",
     "output_type": "stream",
     "text": [
      "5\n",
      "4\n",
      "3\n",
      "2\n",
      "1\n",
      "0\n"
     ]
    }
   ],
   "source": [
    "a = int(input())\n",
    "\n",
    "while True:\n",
    "    a = a - 1\n",
    "    print(a)\n",
    "    if (a == 0):\n",
    "        break"
   ]
  },
  {
   "cell_type": "markdown",
   "id": "3b5c319b",
   "metadata": {},
   "source": [
    "## 74번 \t[기초-반복실행구조] 문자 1개 입력받아 알파벳 출력하기\n",
    "```\n",
    "영문 소문자(a ~ z) 1개가 입력되었을 때,\n",
    "a부터 그 문자까지의 알파벳을 순서대로 출력해보자.\n",
    "\n",
    "예시\n",
    "c = ord(input())\n",
    "t = ord('a')\n",
    "while t<=c :\n",
    "  print(chr(t), end=' ')\n",
    "  t += 1\n",
    "\n",
    "참고\n",
    "알파벳 문자 a의 정수값은 ord('a')로 알아낼 수 있다.\n",
    "chr(정수값)을 이용하면 유니코드 문자로 출력할 수 있다.\n",
    "print(..., end=' ') 와 같이 작성하면 값 출력 후 공백문자 ' '를 출력한다. 즉, 마지막에 줄을 바꾸지 않고 빈칸만 띄운다.\n",
    "(end='\\n'로 작성하거나 생략하면, 값을 출력한 후 마지막(end)에 줄바꿈(newline)이 된다.)\n",
    "```"
   ]
  },
  {
   "cell_type": "code",
   "execution_count": 3,
   "id": "2c3ea05e",
   "metadata": {},
   "outputs": [
    {
     "name": "stdout",
     "output_type": "stream",
     "text": [
      "f\n",
      "a b c d e f "
     ]
    }
   ],
   "source": [
    "c = ord(input())\n",
    "t = ord('a')\n",
    "while t<=c :\n",
    "  print(chr(t), end=' ')\n",
    "  t += 1"
   ]
  },
  {
   "cell_type": "markdown",
   "id": "409a2742",
   "metadata": {},
   "source": [
    "## 75번 [기초-반복실행구조] 정수 1개 입력받아 그 수까지 출력하기1\n",
    "```\n",
    "[기초-반복실행구조] 정수 1개 입력받아 그 수까지 출력하기1\n",
    "```"
   ]
  },
  {
   "cell_type": "code",
   "execution_count": 4,
   "id": "f5fa3157",
   "metadata": {},
   "outputs": [
    {
     "name": "stdout",
     "output_type": "stream",
     "text": [
      "4\n",
      "0\n",
      "1\n",
      "2\n",
      "3\n",
      "4\n"
     ]
    }
   ],
   "source": [
    "n = int(input())\n",
    "for i in range(n+1) :\n",
    "  print(i)"
   ]
  },
  {
   "cell_type": "markdown",
   "id": "74936fd6",
   "metadata": {},
   "source": [
    "##  76번 [기초-반복실행구조] 정수 1개 입력받아 그 수까지 출력하기2\n",
    "```\n",
    "정수(0 ~ 100) 1개를 입력받아 0부터 그 수까지 순서대로 출력해보자.\n",
    "\n",
    "예시\n",
    "n = int(input())\n",
    "for i in range(n+1) :\n",
    "  print(i)\n",
    "\n",
    "참고\n",
    "range(n) 은 0, 1, 2, ... , n-2, n-1 까지의 수열을 의미한다.\n",
    "예를 들어 range(3) 은 0, 1, 2 인 수열을 의미한다.\n",
    "\n",
    "for i in range(n) :    #range(n)에 들어있는(in) 각각의 수에 대해서(for) 순서대로 i에 저장해 가면서...\n",
    "이때의 for는 각각의 값에 대하여... 라는 for each 의 의미를 가진다고 생각할 수 있다.\n",
    "\n",
    "range(끝)\n",
    "range(시작, 끝)\n",
    "range(시작, 끝, 증감)\n",
    "형태로 수열을 표현할 수 있다. 시작 수는 포함이고, 끝 수는 포함되지 않는다. [시작, 끝)\n",
    "증감할 수를 작성하지 않으면 +1이 된다.\n",
    "\n",
    "반복 실행구조에 반복 횟수를 기록/저장하는 변수로 i를 자주 사용하는데,\n",
    "i 는 반복자(iterator)를 나타내는 i라고 생각할 수 있다. i, j, k ... 알파벳 순으로 사용하기도 한다.\n",
    "```"
   ]
  },
  {
   "cell_type": "code",
   "execution_count": 5,
   "id": "0123f212",
   "metadata": {},
   "outputs": [
    {
     "name": "stdout",
     "output_type": "stream",
     "text": [
      "4\n",
      "0\n",
      "1\n",
      "2\n",
      "3\n",
      "4\n"
     ]
    }
   ],
   "source": [
    "n = int(input())\n",
    "for i in range(n+1) :\n",
    "  print(i)"
   ]
  },
  {
   "cell_type": "markdown",
   "id": "9a5de0d6",
   "metadata": {},
   "source": [
    "## 77번 [기초-종합] 짝수 합 구하기(설명)\n",
    "```\n",
    "정수(1 ~ 100) 1개를 입력받아 1부터 그 수까지 짝수의 합을 구해보자.\n",
    "\n",
    "예시\n",
    "#다음 코드는 홀 수만 더해 출력한다.\n",
    "n = int(input())\n",
    "s = 0\n",
    "for i in range(1, n+1) :\n",
    "  if i%2==1 :\n",
    "    s += i\n",
    "\n",
    "print(s)\n",
    "\n",
    "참고\n",
    "while 이나 for 반복실행구조를 이용할 수 있다.\n",
    "다른 방법이나 while 반복실행구조를 이용해서도 성공시켜 보자.\n",
    "```"
   ]
  },
  {
   "cell_type": "code",
   "execution_count": 6,
   "id": "6e007d8d",
   "metadata": {},
   "outputs": [
    {
     "name": "stdout",
     "output_type": "stream",
     "text": [
      "5\n",
      "6\n"
     ]
    }
   ],
   "source": [
    "n = int(input())\n",
    "s = 0\n",
    "for i in range(1, n+1) :\n",
    "  if i%2==0 :\n",
    "    s += i\n",
    "\n",
    "print(s)"
   ]
  }
 ],
 "metadata": {
  "kernelspec": {
   "display_name": "Python 3 (ipykernel)",
   "language": "python",
   "name": "python3"
  },
  "language_info": {
   "codemirror_mode": {
    "name": "ipython",
    "version": 3
   },
   "file_extension": ".py",
   "mimetype": "text/x-python",
   "name": "python",
   "nbconvert_exporter": "python",
   "pygments_lexer": "ipython3",
   "version": "3.9.13"
  }
 },
 "nbformat": 4,
 "nbformat_minor": 5
}
