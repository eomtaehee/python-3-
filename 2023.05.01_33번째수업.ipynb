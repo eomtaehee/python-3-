{
 "cells": [
  {
   "cell_type": "markdown",
   "id": "359317cb",
   "metadata": {},
   "source": [
    "## 딕셔너리명 = {키1:값1, 키2:값2,.....,}\n",
    "* 중괄호 안에 키:값의 쌍으로 된 항목을 콤마(,)로 구분하여 적어준다.\n",
    "\n",
    "|메뉴|가격|\n",
    "|----|----|\n",
    "|김밥|2000|\n",
    "|떡볶이|2500|\n",
    "|어묵|2000|\n",
    "|튀김|3000|"
   ]
  },
  {
   "cell_type": "code",
   "execution_count": 2,
   "id": "4f58a940",
   "metadata": {},
   "outputs": [
    {
     "data": {
      "text/plain": [
       "{'김밥': 2000, '떡볶이': 2500, '어묵': 2000, '튀김': 3000}"
      ]
     },
     "execution_count": 2,
     "metadata": {},
     "output_type": "execute_result"
    }
   ],
   "source": [
    "menu = {'김밥':2000,  '떡볶이':2500, '어묵':2000, '튀김':3000}\n",
    "menu"
   ]
  },
  {
   "cell_type": "code",
   "execution_count": 3,
   "id": "025e5be2",
   "metadata": {},
   "outputs": [
    {
     "data": {
      "text/plain": [
       "{'김밥': 2000, '떡볶이': 2500, '어묵': 2000, '튀김': 3000}"
      ]
     },
     "execution_count": 3,
     "metadata": {},
     "output_type": "execute_result"
    }
   ],
   "source": [
    "menu2 = {'김밥':2000,  \n",
    "         '떡볶이':2500, \n",
    "         '어묵':2000, \n",
    "         '튀김':3000}\n",
    "menu2"
   ]
  },
  {
   "cell_type": "code",
   "execution_count": 4,
   "id": "3280ef74",
   "metadata": {},
   "outputs": [
    {
     "data": {
      "text/plain": [
       "{'김밥': 2000, '떡볶이': 2500, '어묵': 2000, '튀김': 3000}"
      ]
     },
     "execution_count": 4,
     "metadata": {},
     "output_type": "execute_result"
    }
   ],
   "source": [
    "menu2 = {'김밥':2000,  \n",
    "         '떡볶이':2500, \n",
    "         '어묵':2000, \n",
    "         '튀김':3000}\n",
    "menu2"
   ]
  },
  {
   "cell_type": "code",
   "execution_count": 5,
   "id": "305a45b1",
   "metadata": {},
   "outputs": [
    {
     "data": {
      "text/plain": [
       "{'김밥': 2000, '떡볶이': 2500, '어묵': 2000, '튀김': 3000}"
      ]
     },
     "execution_count": 5,
     "metadata": {},
     "output_type": "execute_result"
    }
   ],
   "source": [
    "menu1 = dict(김밥=2000, 떡볶이=2500, 어묵=2000, 튀김=3000)\n",
    "menu1"
   ]
  },
  {
   "cell_type": "markdown",
   "id": "7c6099d0",
   "metadata": {},
   "source": [
    "* 딕셔너리명 = dict(zip(key리스트, value리스트))"
   ]
  },
  {
   "cell_type": "code",
   "execution_count": 6,
   "id": "aa402a3f",
   "metadata": {},
   "outputs": [],
   "source": [
    "person = {'name':'james',\n",
    "         '나이':25,\n",
    "         '키':175.5,\n",
    "         '시력':(1.0,1.0),\n",
    "         '취미':['운동','독서']}"
   ]
  },
  {
   "cell_type": "code",
   "execution_count": 7,
   "id": "df466518",
   "metadata": {},
   "outputs": [
    {
     "data": {
      "text/plain": [
       "{'name': 'james', '나이': 25, '키': 175.5, '시력': (1.0, 1.0), '취미': ['운동', '독서']}"
      ]
     },
     "execution_count": 7,
     "metadata": {},
     "output_type": "execute_result"
    }
   ],
   "source": [
    "person"
   ]
  },
  {
   "cell_type": "code",
   "execution_count": 8,
   "id": "742a1868",
   "metadata": {},
   "outputs": [
    {
     "data": {
      "text/plain": [
       "['운동', '독서']"
      ]
     },
     "execution_count": 8,
     "metadata": {},
     "output_type": "execute_result"
    }
   ],
   "source": [
    "# 취미 출력하기\n",
    "person['취미']"
   ]
  },
  {
   "cell_type": "markdown",
   "id": "29d5b1eb",
   "metadata": {},
   "source": [
    "## 딕셔너리명.get(key, msg)\n",
    "* 존재하지 않는 key로 추출 시도해도 오류가 발생하지 않는다.\n",
    "* 존재하지 않는 key로 추출 시도할 경우 출력할 메시지를 설정할 수 있다."
   ]
  },
  {
   "cell_type": "code",
   "execution_count": 9,
   "id": "f14f1bb2",
   "metadata": {},
   "outputs": [
    {
     "data": {
      "text/plain": [
       "25"
      ]
     },
     "execution_count": 9,
     "metadata": {},
     "output_type": "execute_result"
    }
   ],
   "source": [
    "person.get('나이')"
   ]
  },
  {
   "cell_type": "code",
   "execution_count": 10,
   "id": "8dd25d09",
   "metadata": {},
   "outputs": [
    {
     "data": {
      "text/plain": [
       "'존재하지 않음'"
      ]
     },
     "execution_count": 10,
     "metadata": {},
     "output_type": "execute_result"
    }
   ],
   "source": [
    "person.get('몸무게','존재하지 않음')"
   ]
  },
  {
   "cell_type": "code",
   "execution_count": 11,
   "id": "fe736947",
   "metadata": {},
   "outputs": [
    {
     "ename": "KeyError",
     "evalue": "'몸무게'",
     "output_type": "error",
     "traceback": [
      "\u001b[1;31m---------------------------------------------------------------------------\u001b[0m",
      "\u001b[1;31mKeyError\u001b[0m                                  Traceback (most recent call last)",
      "\u001b[1;32m~\\AppData\\Local\\Temp\\ipykernel_2268\\3774943577.py\u001b[0m in \u001b[0;36m<module>\u001b[1;34m\u001b[0m\n\u001b[1;32m----> 1\u001b[1;33m \u001b[0mperson\u001b[0m\u001b[1;33m[\u001b[0m\u001b[1;34m'몸무게'\u001b[0m\u001b[1;33m]\u001b[0m\u001b[1;33m\u001b[0m\u001b[1;33m\u001b[0m\u001b[0m\n\u001b[0m",
      "\u001b[1;31mKeyError\u001b[0m: '몸무게'"
     ]
    }
   ],
   "source": [
    "person['몸무게']"
   ]
  },
  {
   "cell_type": "markdown",
   "id": "ad5334ff",
   "metadata": {},
   "source": [
    "## 딕셔너리 항목 추가/수정\n",
    "### 딕셔너리명[키]=값\n",
    "* 키가 존재하지 않으면 추가, 존재하면 수정된다."
   ]
  },
  {
   "cell_type": "code",
   "execution_count": 12,
   "id": "03526b19",
   "metadata": {},
   "outputs": [
    {
     "data": {
      "text/plain": [
       "{'kor': 100, 'eng': 90, 'math': 85, 'music': 95}"
      ]
     },
     "execution_count": 12,
     "metadata": {},
     "output_type": "execute_result"
    }
   ],
   "source": [
    "scores = {'kor':100, 'eng':90, 'math':80}\n",
    "\n",
    "# math 85점으로 -> 값을 바로 써 주면 됩니다.\n",
    "scores['math'] = 85\n",
    "# music 95점으로 추가\n",
    "scores['music'] = 95\n",
    "scores"
   ]
  }
 ],
 "metadata": {
  "kernelspec": {
   "display_name": "Python 3 (ipykernel)",
   "language": "python",
   "name": "python3"
  },
  "language_info": {
   "codemirror_mode": {
    "name": "ipython",
    "version": 3
   },
   "file_extension": ".py",
   "mimetype": "text/x-python",
   "name": "python",
   "nbconvert_exporter": "python",
   "pygments_lexer": "ipython3",
   "version": "3.9.13"
  }
 },
 "nbformat": 4,
 "nbformat_minor": 5
}
