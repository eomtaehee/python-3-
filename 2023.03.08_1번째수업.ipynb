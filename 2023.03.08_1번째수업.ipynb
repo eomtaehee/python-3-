{
 "cells": [
  {
   "cell_type": "code",
   "execution_count": 1,
   "id": "b0c2c4f7",
   "metadata": {},
   "outputs": [
    {
     "name": "stdout",
     "output_type": "stream",
     "text": [
      "안녕하세요 반갑습니다 저는 엄태희입니다.\n"
     ]
    }
   ],
   "source": [
    "print('안녕하세요 반갑습니다 저는 엄태희입니다.')"
   ]
  },
  {
   "cell_type": "code",
   "execution_count": 3,
   "id": "5245ebb3",
   "metadata": {},
   "outputs": [
    {
     "name": "stdout",
     "output_type": "stream",
     "text": [
      "안녕\n",
      "안녕 하세요\n"
     ]
    }
   ],
   "source": [
    "a = \"안녕\"\n",
    "b = \" 하세요\"\n",
    "print(a)\n",
    "print(a+b)"
   ]
  },
  {
   "cell_type": "markdown",
   "id": "62be19d1",
   "metadata": {},
   "source": [
    "- cell type 변경 명령은 esc는 누르고 y 하면 코드셀 esc를 누르고 m 누르면 마크다운셀이 된다.\n",
    "- 이렇게 연결합니다."
   ]
  }
 ],
 "metadata": {
  "kernelspec": {
   "display_name": "Python 3 (ipykernel)",
   "language": "python",
   "name": "python3"
  },
  "language_info": {
   "codemirror_mode": {
    "name": "ipython",
    "version": 3
   },
   "file_extension": ".py",
   "mimetype": "text/x-python",
   "name": "python",
   "nbconvert_exporter": "python",
   "pygments_lexer": "ipython3",
   "version": "3.9.13"
  }
 },
 "nbformat": 4,
 "nbformat_minor": 5
}
