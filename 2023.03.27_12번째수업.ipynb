{
 "cells": [
  {
   "cell_type": "markdown",
   "id": "b106d4a6",
   "metadata": {},
   "source": [
    "### 1. 반복문\n",
    "```\n",
    "for a in data : \n",
    "     명령어\n",
    "```"
   ]
  },
  {
   "cell_type": "code",
   "execution_count": 2,
   "id": "3103c03c",
   "metadata": {},
   "outputs": [
    {
     "name": "stdout",
     "output_type": "stream",
     "text": [
      "안녕하세요\n",
      "안녕하세요\n",
      "안녕하세요\n",
      "안녕하세요\n",
      "안녕하세요\n"
     ]
    }
   ],
   "source": [
    "# 안녕하세요를 5번 반복\n",
    "\n",
    "for a in [1,2,3,4,5] :\n",
    "    print('안녕하세요')"
   ]
  },
  {
   "cell_type": "markdown",
   "id": "f99a26a4",
   "metadata": {},
   "source": [
    "### 범위 range\n",
    "```\n",
    "range(시작숫자, 종료숫자)\n",
    "```"
   ]
  },
  {
   "cell_type": "code",
   "execution_count": 3,
   "id": "d74b81cd",
   "metadata": {},
   "outputs": [
    {
     "name": "stdout",
     "output_type": "stream",
     "text": [
      "1 성일정보고 화이팅!!!\n",
      "2 성일정보고 화이팅!!!\n",
      "3 성일정보고 화이팅!!!\n",
      "4 성일정보고 화이팅!!!\n",
      "5 성일정보고 화이팅!!!\n",
      "6 성일정보고 화이팅!!!\n",
      "7 성일정보고 화이팅!!!\n",
      "8 성일정보고 화이팅!!!\n",
      "9 성일정보고 화이팅!!!\n"
     ]
    }
   ],
   "source": [
    "for a in range(1,10) :\n",
    "    print(a, '성일정보고 화이팅!!!')"
   ]
  },
  {
   "cell_type": "markdown",
   "id": "5e8fce62",
   "metadata": {},
   "source": [
    "> 1.range()는 종료숫자-1까지 포함한다.<br>\n",
    "  2.시작숫자를 지우면 0부터 시작한다.<br>\n",
    "  3.시작숫자를 넣고 싶르면 시작숫자를 지정한다."
   ]
  },
  {
   "cell_type": "markdown",
   "id": "e533470b",
   "metadata": {},
   "source": [
    "```\n",
    "1부터 50까지의 숫자의 합을 구해보자.\n",
    "ex) 1+2+3+...49+50\n",
    "```\n",
    "1275"
   ]
  },
  {
   "cell_type": "code",
   "execution_count": 4,
   "id": "5572ffe0",
   "metadata": {},
   "outputs": [
    {
     "name": "stdout",
     "output_type": "stream",
     "text": [
      "1275\n"
     ]
    }
   ],
   "source": [
    "result = 0\n",
    "\n",
    "for i in range(1,51) :\n",
    "    result = result + i\n",
    "print(result)"
   ]
  },
  {
   "cell_type": "markdown",
   "id": "05ae7caf",
   "metadata": {},
   "source": [
    "숫자 하나를 입력받고, 1부터 입력받은 숫자까지의 곱을 구해보세요.<br>\n",
    "ex) 5를 입력받은 경우, 1x2x3x4x5 결과 출력하기"
   ]
  },
  {
   "cell_type": "code",
   "execution_count": 5,
   "id": "f321627a",
   "metadata": {},
   "outputs": [
    {
     "name": "stdout",
     "output_type": "stream",
     "text": [
      "숫자 입력 -> 5\n",
      "120\n"
     ]
    }
   ],
   "source": [
    "num = int(input('숫자 입력 -> '))\n",
    "result = 1\n",
    "\n",
    "for i in range(1,num+1) :\n",
    "    result = result * i\n",
    "print(result)"
   ]
  }
 ],
 "metadata": {
  "kernelspec": {
   "display_name": "Python 3 (ipykernel)",
   "language": "python",
   "name": "python3"
  },
  "language_info": {
   "codemirror_mode": {
    "name": "ipython",
    "version": 3
   },
   "file_extension": ".py",
   "mimetype": "text/x-python",
   "name": "python",
   "nbconvert_exporter": "python",
   "pygments_lexer": "ipython3",
   "version": "3.9.13"
  }
 },
 "nbformat": 4,
 "nbformat_minor": 5
}
