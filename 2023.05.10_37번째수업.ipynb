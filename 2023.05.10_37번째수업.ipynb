{
 "cells": [
  {
   "cell_type": "markdown",
   "id": "7dc90f05",
   "metadata": {},
   "source": [
    "## for문과 while문"
   ]
  },
  {
   "cell_type": "code",
   "execution_count": 1,
   "id": "f931c82d",
   "metadata": {},
   "outputs": [
    {
     "name": "stdout",
     "output_type": "stream",
     "text": [
      "1\n",
      "2\n",
      "3\n",
      "4\n",
      "5\n"
     ]
    }
   ],
   "source": [
    "## 1부터 5까지 출력하기\n",
    "## for문 사용\n",
    "for i in range(1,6) :\n",
    "    print(f'{i}')"
   ]
  },
  {
   "cell_type": "code",
   "execution_count": 2,
   "id": "bd7abc04",
   "metadata": {},
   "outputs": [
    {
     "name": "stdout",
     "output_type": "stream",
     "text": [
      "1\n",
      "2\n",
      "3\n",
      "4\n",
      "5\n"
     ]
    }
   ],
   "source": [
    "## 1부터 5까지 출력하기\n",
    "## while문 사용 증가변수, 조건\n",
    "\n",
    "n = 1\n",
    "while n<=5:\n",
    "    print(f'{n}')\n",
    "    n+=1    # 1씩 증가"
   ]
  },
  {
   "cell_type": "markdown",
   "id": "1564ed87",
   "metadata": {},
   "source": [
    "## 1부터 10까지 더하기"
   ]
  },
  {
   "cell_type": "code",
   "execution_count": 3,
   "id": "658ecffc",
   "metadata": {},
   "outputs": [
    {
     "name": "stdout",
     "output_type": "stream",
     "text": [
      "1~10까지 합계 : 55\n"
     ]
    }
   ],
   "source": [
    "# for문\n",
    "total = 0\n",
    "for i in range(1,11) :\n",
    "    total += i\n",
    "print(f'1~10까지 합계 : {total}')"
   ]
  },
  {
   "cell_type": "code",
   "execution_count": 4,
   "id": "57e7ec77",
   "metadata": {},
   "outputs": [
    {
     "name": "stdout",
     "output_type": "stream",
     "text": [
      "1~10까지 합계 : 55\n"
     ]
    }
   ],
   "source": [
    "# while문\n",
    "n = 1\n",
    "total = 0\n",
    "while n<=10:\n",
    "    total += n\n",
    "    n+=1\n",
    "print(f'1~10까지 합계 : {total}')"
   ]
  },
  {
   "cell_type": "markdown",
   "id": "cdf04cd7",
   "metadata": {},
   "source": [
    "## while문만 가능한 경우"
   ]
  },
  {
   "cell_type": "markdown",
   "id": "da27f200",
   "metadata": {},
   "source": [
    "* 'q'를 입력할 때까지 반복하여 이름 입력받기"
   ]
  },
  {
   "cell_type": "code",
   "execution_count": 5,
   "id": "00350966",
   "metadata": {},
   "outputs": [
    {
     "name": "stdout",
     "output_type": "stream",
     "text": [
      "이름이 뭐에요? : a\n",
      "이름이 뭐에요? : b\n",
      "이름이 뭐에요? : c\n",
      "이름이 뭐에요? : d\n",
      "이름이 뭐에요? : \n",
      "이름이 뭐에요? : q\n"
     ]
    }
   ],
   "source": [
    "name = input('이름이 뭐에요? : ')\n",
    "while name != 'q': #q가 아니면 입력을 다시 보여줌 q이면 나가버림\n",
    "    name = input('이름이 뭐에요? : ')"
   ]
  },
  {
   "cell_type": "code",
   "execution_count": 6,
   "id": "15caa14f",
   "metadata": {},
   "outputs": [
    {
     "name": "stdout",
     "output_type": "stream",
     "text": [
      "이름이 뭐에요? : a\n",
      "이름이 뭐에요? : b\n",
      "이름이 뭐에요? : c\n",
      "이름이 뭐에요? : q\n"
     ]
    }
   ],
   "source": [
    "# break -> if\n",
    "while True:\n",
    "    name = input('이름이 뭐에요? : ')\n",
    "    if name == 'q':\n",
    "        break"
   ]
  },
  {
   "cell_type": "markdown",
   "id": "e1263fc4",
   "metadata": {},
   "source": [
    "## 연습문제\n",
    "* 올바른 아이디/비밀번호를 입력할 때까지 아이디와 비밀번호를 입력하는 프로그램 만들기"
   ]
  },
  {
   "cell_type": "code",
   "execution_count": 7,
   "id": "1d262f17",
   "metadata": {},
   "outputs": [
    {
     "name": "stdout",
     "output_type": "stream",
     "text": [
      "id : id123\n",
      "pwd : pwd123\n"
     ]
    }
   ],
   "source": [
    "#주어진 아이디와 비밀번호\n",
    "id = 'id123'\n",
    "pwd = 'pwd123'\n",
    "\n",
    "while True:\n",
    "    input_id = input('id : ')\n",
    "    input_pwd = input('pwd : ')\n",
    "    \n",
    "    if id == input_id and pwd == input_pwd:\n",
    "        break"
   ]
  },
  {
   "cell_type": "markdown",
   "id": "8e0b01d6",
   "metadata": {},
   "source": [
    "* 확장하기\n",
    "아이디가 잘못되었으면 '아이디를 확인하세요' 출력\n",
    "비밀번호가 잘못되었으면 '비밀번호를 확인하세요' 출력"
   ]
  },
  {
   "cell_type": "code",
   "execution_count": 8,
   "id": "109516ce",
   "metadata": {},
   "outputs": [
    {
     "name": "stdout",
     "output_type": "stream",
     "text": [
      "id : id12\n",
      "pwd : id123\n",
      "아이디를 확인하세요\n",
      "id : d\n",
      "pwd : d\n",
      "아이디를 확인하세요\n",
      "비밀번호를 확인하세요\n",
      "id : id123\n",
      "pwd : qwd123\n",
      "비밀번호를 확인하세요\n",
      "id : id123\n",
      "pwd : pwd123\n"
     ]
    }
   ],
   "source": [
    "id = 'id123'\n",
    "pwd = 'pwd123'\n",
    "\n",
    "while True:\n",
    "    input_id = input('id : ')\n",
    "    input_pwd = input('pwd : ')\n",
    "    \n",
    "    if id == input_id and pwd == input_pwd:\n",
    "        break\n",
    "    if id != input_id :\n",
    "        print(f'아이디를 확인하세요')\n",
    "    if id != input_pwd :\n",
    "        print(f'비밀번호를 확인하세요')"
   ]
  }
 ],
 "metadata": {
  "kernelspec": {
   "display_name": "Python 3 (ipykernel)",
   "language": "python",
   "name": "python3"
  },
  "language_info": {
   "codemirror_mode": {
    "name": "ipython",
    "version": 3
   },
   "file_extension": ".py",
   "mimetype": "text/x-python",
   "name": "python",
   "nbconvert_exporter": "python",
   "pygments_lexer": "ipython3",
   "version": "3.9.13"
  }
 },
 "nbformat": 4,
 "nbformat_minor": 5
}
