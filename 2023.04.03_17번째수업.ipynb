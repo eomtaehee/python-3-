{
 "cells": [
  {
   "cell_type": "markdown",
   "id": "e47d941b",
   "metadata": {},
   "source": [
    "## 문제1 : 세 정수의 최대값 구하기 - (1)\n",
    "#### 실습 1-1\n",
    "> - a,b,c에 정수값을 입력 받아 비교하고 <br>\n",
    " maximum으로 최대값을 구하는 프로그램\n",
    "  \n",
    "#### 순차구조 sequential stucture\n",
    "> -  한 문장씩 순서대로 처리되는 구조\n",
    "  \n",
    "#### 선택구조select structure\n",
    "> - 조건식으로 평가한 결과에 따라 <br>\n",
    "프로그램의 실행 흐름이 변결되는 구조"
   ]
  },
  {
   "cell_type": "code",
   "execution_count": 1,
   "id": "fac6e55a",
   "metadata": {},
   "outputs": [
    {
     "name": "stdout",
     "output_type": "stream",
     "text": [
      "세 정수의 최대값을 구합니다.\n",
      "정수 a의 값을 입력하세요.: 5\n",
      "정수 b의 값을 입력하세요.: 6\n",
      "정수 c의 값을 입력하세요.: 7\n",
      "최댓값은 7입니다\n"
     ]
    }
   ],
   "source": [
    "# 세 정수를 입력받아 최대값 구하기\n",
    "\n",
    "print('세 정수의 최대값을 구합니다.')\n",
    "a = int(input('정수 a의 값을 입력하세요.: '))\n",
    "b = int(input('정수 b의 값을 입력하세요.: '))\n",
    "c = int(input('정수 c의 값을 입력하세요.: '))\n",
    "\n",
    "maximum = a\n",
    "if b > maximum: maximum = b\n",
    "if c > maximum: maximum = c\n",
    "    \n",
    "print(f'최댓값은 {maximum}입니다')"
   ]
  },
  {
   "cell_type": "markdown",
   "id": "eed5d650",
   "metadata": {},
   "source": [
    "## 문제2 : 조건문과 분기 - (1)\n",
    "#### 실습 1-3\n",
    "> - 입력 받은 정숫값의 부호(양수, 음수, 0)를 <br>\n",
    "판단하여 출력하는 프로그램\n",
    "> - n이 양수면 1이, 음수면 2가, 0이면 3이 실행됨\n",
    "> - 흐름이 3개로 분기됨"
   ]
  },
  {
   "cell_type": "code",
   "execution_count": 2,
   "id": "1307aa61",
   "metadata": {},
   "outputs": [
    {
     "name": "stdout",
     "output_type": "stream",
     "text": [
      "정수를 입력하세요.: 2\n",
      "이 수는 양수입니다.\n"
     ]
    }
   ],
   "source": [
    "# 입력받은 정수의 부호(양수,음수,0)출력하기\n",
    "\n",
    "n = int(input('정수를 입력하세요.: '))\n",
    "\n",
    "if n > 0:\n",
    "    print('이 수는 양수입니다.')\n",
    "elif n < 0:\n",
    "    print('이 수는 음수입니다.')\n",
    "else:\n",
    "    print('이 수는 0입니다.')"
   ]
  },
  {
   "cell_type": "markdown",
   "id": "dfd50f52",
   "metadata": {},
   "source": [
    "## 문제3"
   ]
  },
  {
   "cell_type": "code",
   "execution_count": 3,
   "id": "c08aa8a1",
   "metadata": {},
   "outputs": [
    {
     "name": "stdout",
     "output_type": "stream",
     "text": [
      "정수를 입력하세요: 3\n",
      "C\n"
     ]
    }
   ],
   "source": [
    "# 3개로 분기하는 조건문\n",
    "\n",
    "n = int(input('정수를 입력하세요: '))\n",
    "\n",
    "if n == 1:\n",
    "    print('A')\n",
    "elif n == 2:\n",
    "    print('B')\n",
    "else:\n",
    "    print('C')"
   ]
  },
  {
   "cell_type": "code",
   "execution_count": 4,
   "id": "0e71c72b",
   "metadata": {},
   "outputs": [
    {
     "name": "stdout",
     "output_type": "stream",
     "text": [
      "정수를 입력하세요: 4\n"
     ]
    }
   ],
   "source": [
    "# 4개로 분기하는 조건문\n",
    "\n",
    "n = int(input('정수를 입력하세요: '))\n",
    "\n",
    "if n == 1:\n",
    "    print('A')\n",
    "elif n == 2:\n",
    "    print('B')\n",
    "elif n == 3:\n",
    "    print('C')"
   ]
  }
 ],
 "metadata": {
  "kernelspec": {
   "display_name": "Python 3 (ipykernel)",
   "language": "python",
   "name": "python3"
  },
  "language_info": {
   "codemirror_mode": {
    "name": "ipython",
    "version": 3
   },
   "file_extension": ".py",
   "mimetype": "text/x-python",
   "name": "python",
   "nbconvert_exporter": "python",
   "pygments_lexer": "ipython3",
   "version": "3.9.13"
  }
 },
 "nbformat": 4,
 "nbformat_minor": 5
}
