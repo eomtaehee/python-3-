{
 "cells": [
  {
   "cell_type": "markdown",
   "id": "e3d7b9bd",
   "metadata": {},
   "source": [
    "## 함수 정의하고 호출하기\n",
    "\n",
    "* 자기소개 함수 정의하고 호출하기 "
   ]
  },
  {
   "cell_type": "code",
   "execution_count": 1,
   "id": "8f0162eb",
   "metadata": {},
   "outputs": [
    {
     "name": "stdout",
     "output_type": "stream",
     "text": [
      "안녕하세요!\n",
      "저의 이름은 엄태희입니다.\n"
     ]
    }
   ],
   "source": [
    "## 자기소개 ##\n",
    "print('안녕하세요!')\n",
    "print('저의 이름은 엄태희입니다.')"
   ]
  },
  {
   "cell_type": "code",
   "execution_count": 2,
   "id": "06ccc137",
   "metadata": {},
   "outputs": [
    {
     "name": "stdout",
     "output_type": "stream",
     "text": [
      "안녕하세요!\n",
      "저의 이름은 엄태희입니다.\n"
     ]
    }
   ],
   "source": [
    "# 함수 정의 def name():\n",
    "\n",
    "# 함수 정의\n",
    "def introduce2():\n",
    "    print('안녕하세요!')\n",
    "    print('저의 이름은 엄태희입니다.')\n",
    "    \n",
    "# 함수 호출 함수이름을 작성\n",
    "introduce2()\n",
    "\n",
    "# 코드는 위에서부터 아래로 순차적으로 실행된다.\n",
    "# 함수를 호출하는 시점에서 함수가 정의되어 있지 않으면 에러가 발생"
   ]
  },
  {
   "cell_type": "markdown",
   "id": "9abe1061",
   "metadata": {},
   "source": [
    "## 매개변수 전달하기"
   ]
  },
  {
   "cell_type": "code",
   "execution_count": 3,
   "id": "5d2e237f",
   "metadata": {},
   "outputs": [
    {
     "name": "stdout",
     "output_type": "stream",
     "text": [
      "안녕하세요!\n",
      "저의 이름은 엄태희입니다.\n"
     ]
    }
   ],
   "source": [
    "## 자기소개 ##\n",
    "name = '엄태희'\n",
    "\n",
    "print('안녕하세요!')\n",
    "print(f'저의 이름은 {name}입니다.')"
   ]
  },
  {
   "cell_type": "code",
   "execution_count": 4,
   "id": "141f505f",
   "metadata": {},
   "outputs": [
    {
     "name": "stdout",
     "output_type": "stream",
     "text": [
      "안녕하세요!\n",
      "저의 이름은 엄태희입니다\n",
      "안녕하세요!\n",
      "저의 이름은 홍길동입니다\n"
     ]
    }
   ],
   "source": [
    "# 매개변수 1개 전달\n",
    "def introduce(name):\n",
    "    print('안녕하세요!')\n",
    "    print(f'저의 이름은 {name}입니다')\n",
    "    \n",
    "introduce('엄태희')\n",
    "introduce('홍길동')"
   ]
  },
  {
   "cell_type": "code",
   "execution_count": 5,
   "id": "b913c87f",
   "metadata": {},
   "outputs": [
    {
     "name": "stdout",
     "output_type": "stream",
     "text": [
      "안녕하세요!\n",
      "저의 이름은 엄태희입니다\n",
      "저의 나이는 19살입니다\n",
      "안녕하세요!\n",
      "저의 이름은 ㅇㅇㅇ입니다\n",
      "저의 나이는 20살입니다\n"
     ]
    }
   ],
   "source": [
    "# 문제 이름과 나이를 전달하는 함수를 정의하고 출력해 봅시다.\n",
    "# def 함수이름(매개1,매개2)\n",
    "\n",
    "\n",
    "def introduce(name,age):\n",
    "    print('안녕하세요!')\n",
    "    print(f'저의 이름은 {name}입니다')\n",
    "    print(f'저의 나이는 {age}살입니다')\n",
    "    \n",
    "introduce('엄태희',19)\n",
    "introduce('ㅇㅇㅇ',20)"
   ]
  },
  {
   "cell_type": "code",
   "execution_count": 6,
   "id": "1078c904",
   "metadata": {},
   "outputs": [
    {
     "name": "stdout",
     "output_type": "stream",
     "text": [
      "이름 : 엄태희\n",
      "나이 : 19\n",
      "안녕하세요!\n",
      "저의 이름은 엄태희입니다\n",
      "저의 나이는 19살입니다\n"
     ]
    }
   ],
   "source": [
    "name = input('이름 : ')\n",
    "age = input('나이 : ')\n",
    "\n",
    "def introduce(name,age):\n",
    "    print('안녕하세요!')\n",
    "    print(f'저의 이름은 {name}입니다')\n",
    "    print(f'저의 나이는 {age}살입니다')\n",
    "    \n",
    "introduce(name,age)"
   ]
  },
  {
   "cell_type": "code",
   "execution_count": 7,
   "id": "4e9316dd",
   "metadata": {},
   "outputs": [
    {
     "name": "stdout",
     "output_type": "stream",
     "text": [
      "3\n",
      "plus:3\n"
     ]
    }
   ],
   "source": [
    "# 두 수를 더하는 함수를 만들어 봅니다.\n",
    "\n",
    "def get_plus(n1,n2):\n",
    "    return n1+n2\n",
    "\n",
    "print(get_plus(1,2))\n",
    "\n",
    "plus = get_plus(1,2)\n",
    "print(f'plus:{plus}')"
   ]
  }
 ],
 "metadata": {
  "kernelspec": {
   "display_name": "Python 3 (ipykernel)",
   "language": "python",
   "name": "python3"
  },
  "language_info": {
   "codemirror_mode": {
    "name": "ipython",
    "version": 3
   },
   "file_extension": ".py",
   "mimetype": "text/x-python",
   "name": "python",
   "nbconvert_exporter": "python",
   "pygments_lexer": "ipython3",
   "version": "3.9.13"
  }
 },
 "nbformat": 4,
 "nbformat_minor": 5
}
