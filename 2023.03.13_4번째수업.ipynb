{
 "cells": [
  {
   "cell_type": "markdown",
   "id": "ad935619",
   "metadata": {},
   "source": [
    "# header1\n",
    "## h2\n",
    "### h3\n",
    "#### h4"
   ]
  },
  {
   "cell_type": "markdown",
   "id": "4d8c7b4c",
   "metadata": {},
   "source": [
    "1. 날짜\n",
    "- 학번\n",
    "> 이름"
   ]
  },
  {
   "cell_type": "code",
   "execution_count": 1,
   "id": "d908f416",
   "metadata": {},
   "outputs": [
    {
     "name": "stdout",
     "output_type": "stream",
     "text": [
      "313\n"
     ]
    }
   ],
   "source": [
    "# 숫자 출력\n",
    "# 출력 명령어 print\n",
    "print(313)"
   ]
  },
  {
   "cell_type": "code",
   "execution_count": 2,
   "id": "878a849a",
   "metadata": {},
   "outputs": [
    {
     "name": "stdout",
     "output_type": "stream",
     "text": [
      "3월 13일\n"
     ]
    }
   ],
   "source": [
    "# 문자 출력\n",
    "# print(' '), print(\" \")\n",
    "print('3월 13일')"
   ]
  },
  {
   "cell_type": "code",
   "execution_count": 3,
   "id": "02f6c75d",
   "metadata": {},
   "outputs": [
    {
     "name": "stdout",
     "output_type": "stream",
     "text": [
      "23\n",
      "-3\n",
      "130\n",
      "0.7692307692307693\n"
     ]
    }
   ],
   "source": [
    "# 연산 사칙 연산\n",
    "# +, -, *, /\n",
    "a = 10\n",
    "b = 13\n",
    "print(a + b)\n",
    "print(a - b)\n",
    "print(a * b)\n",
    "print(a / b)"
   ]
  },
  {
   "cell_type": "code",
   "execution_count": 4,
   "id": "32b6bd99",
   "metadata": {},
   "outputs": [
    {
     "name": "stdout",
     "output_type": "stream",
     "text": [
      "25\n",
      "2\n",
      "1\n"
     ]
    }
   ],
   "source": [
    "# 제곱 **\n",
    "# 몫 //\n",
    "# 나머지 %\n",
    "\n",
    "c = 5\n",
    "d = 2\n",
    "\n",
    "print(c**d)\n",
    "print(c//d)\n",
    "print(c%d)"
   ]
  },
  {
   "cell_type": "code",
   "execution_count": 5,
   "id": "cb0e211a",
   "metadata": {},
   "outputs": [
    {
     "name": "stdout",
     "output_type": "stream",
     "text": [
      "파이썬 Hello!!!!\n",
      "파이썬 Hello!!!!\n"
     ]
    }
   ],
   "source": [
    "# 연결하기 , + 콤마는 자동으로 띄어쓰기가 된다.\n",
    "e = '파이썬'\n",
    "f = 'Hello!!!!'\n",
    "print(e,f)\n",
    "print(e+' '+f)"
   ]
  },
  {
   "cell_type": "markdown",
   "id": "528b0b05",
   "metadata": {},
   "source": [
    "### 입력명령어\n",
    "-입력명령어 형식\n",
    ">input('입력안내문')"
   ]
  },
  {
   "cell_type": "code",
   "execution_count": 6,
   "id": "73d89286",
   "metadata": {},
   "outputs": [
    {
     "name": "stdout",
     "output_type": "stream",
     "text": [
      "aaaa\n"
     ]
    },
    {
     "data": {
      "text/plain": [
       "'aaaa'"
      ]
     },
     "execution_count": 6,
     "metadata": {},
     "output_type": "execute_result"
    }
   ],
   "source": [
    "# 입력명령어 input\n",
    "input()"
   ]
  },
  {
   "cell_type": "code",
   "execution_count": 8,
   "id": "844384d7",
   "metadata": {},
   "outputs": [
    {
     "name": "stdout",
     "output_type": "stream",
     "text": [
      "너 생일이 언제니? 11월 17일\n",
      "어 생일은 11월 17일야\n"
     ]
    }
   ],
   "source": [
    "g = input('너 생일이 언제니? ')\n",
    "print('어 생일은 '+ g +'야')"
   ]
  },
  {
   "cell_type": "code",
   "execution_count": 9,
   "id": "d6dde544",
   "metadata": {},
   "outputs": [
    {
     "name": "stdout",
     "output_type": "stream",
     "text": [
      "11월 17일\n"
     ]
    }
   ],
   "source": [
    "print(g)"
   ]
  }
 ],
 "metadata": {
  "kernelspec": {
   "display_name": "Python 3 (ipykernel)",
   "language": "python",
   "name": "python3"
  },
  "language_info": {
   "codemirror_mode": {
    "name": "ipython",
    "version": 3
   },
   "file_extension": ".py",
   "mimetype": "text/x-python",
   "name": "python",
   "nbconvert_exporter": "python",
   "pygments_lexer": "ipython3",
   "version": "3.9.13"
  }
 },
 "nbformat": 4,
 "nbformat_minor": 5
}
