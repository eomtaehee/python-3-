{
 "cells": [
  {
   "cell_type": "markdown",
   "id": "4d237b02",
   "metadata": {},
   "source": [
    "## 수행평가 예상문제\n",
    "> 문제 9<br>\n",
    "up&down 숫자 맞추기 게임 프로그램\n",
    "```\n",
    "1~100 사이의 정답 숫자를 랜덤으로 하나 정하고, 정답 숫자를 맞출 때까지\n",
    "숫자를 입력하는 게임이다.\n",
    "\n",
    "내가 입력한 숫자가 정답보다 작으면 'DOWN', 정답보다 크면 'UP'을 출력하고 숫자를 다시 입력받는다.\n",
    "\n",
    "정답을 맞추면 '정답!'이라고 출력하고 게임을 끝낸다.\n",
    "기회는 5번까지만 주어집니다.\n",
    "5회가 넘으면 '횟수초과' 메시지와 함께 정답을 알려줍니다.\n",
    "정답을 맞추면 몇번째에 맞추었는지 출력합니다.\n",
    "```\n",
    "- 랜덤함수이용\n",
    "- 함수 만들어 봅니다."
   ]
  },
  {
   "cell_type": "code",
   "execution_count": 1,
   "id": "a7cca3bf",
   "metadata": {},
   "outputs": [
    {
     "name": "stdout",
     "output_type": "stream",
     "text": [
      "Attempt 1. 예상 숫자를 입력하세요(1-100: )50\n",
      "Down\n",
      "Attempt 2. 예상 숫자를 입력하세요(1-100: )40\n",
      "Down\n",
      "Attempt 3. 예상 숫자를 입력하세요(1-100: )30\n",
      "UP\n",
      "Attempt 4. 예상 숫자를 입력하세요(1-100: )35\n",
      "정답 입니다!\n",
      "4번 만에 맞추었습니다\n"
     ]
    }
   ],
   "source": [
    "import random\n",
    "\n",
    "def guess_number_game(max_attempts=5):\n",
    "    cnt = 0\n",
    "    num = random.randint(1,100)\n",
    "    \n",
    "    while cnt < max_attempts:\n",
    "        cnt += 1\n",
    "        answer = int(input(f'Attempt {cnt}. 예상 숫자를 입력하세요(1-100: )'))\n",
    "        if answer == num:\n",
    "            print(f'정답 입니다!')\n",
    "            print(f'{cnt}번 만에 맞추었습니다')\n",
    "            return\n",
    "        \n",
    "        if answer < num:\n",
    "            print('UP')\n",
    "        else:\n",
    "            print('Down')\n",
    "            \n",
    "    print(f'횟수 초과입니다. 정답은 {num}였습니다')\n",
    "# 시작\n",
    "guess_number_game()"
   ]
  },
  {
   "cell_type": "markdown",
   "id": "9c80d646",
   "metadata": {},
   "source": [
    "## 수행평가 예상문제\n",
    "> 문제 10 <br>\n",
    "아이디/비밀번호 프로그램\n",
    "```\n",
    "올바른 아이디/비밀번호를 입력할 때까지 아이디와 비밀번호를<br>\n",
    "입력하는 프로그램 만들기<br>\n",
    "아이디가 잘못되었으면 '아이디를 확인하세요' 출력\n",
    "비밀번호가 잘못되었으면 '비밀번호를 확인하세요' 출력\n",
    "```"
   ]
  },
  {
   "cell_type": "code",
   "execution_count": 2,
   "id": "e94b1ad8",
   "metadata": {},
   "outputs": [
    {
     "name": "stdout",
     "output_type": "stream",
     "text": [
      "id : id123\n",
      "pwd : pwd123\n"
     ]
    }
   ],
   "source": [
    "# 주어진 아이디와 비밀번호\n",
    "id = 'id123'\n",
    "pwd = 'pwd123'\n",
    "\n",
    "while True:\n",
    "    input_id = input('id : ')\n",
    "    input_pwd = input('pwd : ')\n",
    "    \n",
    "    if id == input_id and pwd == input_pwd:\n",
    "        break\n",
    "    if id != input_id : \n",
    "        print(f'아이디를 확인하세요')\n",
    "    if pwd != input_pwd : \n",
    "        print(f'비밀번호를 확인하세요')"
   ]
  }
 ],
 "metadata": {
  "kernelspec": {
   "display_name": "Python 3 (ipykernel)",
   "language": "python",
   "name": "python3"
  },
  "language_info": {
   "codemirror_mode": {
    "name": "ipython",
    "version": 3
   },
   "file_extension": ".py",
   "mimetype": "text/x-python",
   "name": "python",
   "nbconvert_exporter": "python",
   "pygments_lexer": "ipython3",
   "version": "3.9.13"
  }
 },
 "nbformat": 4,
 "nbformat_minor": 5
}
