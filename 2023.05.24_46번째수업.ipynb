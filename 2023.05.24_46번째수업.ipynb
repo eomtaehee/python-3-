{
 "cells": [
  {
   "cell_type": "markdown",
   "id": "653c155a",
   "metadata": {},
   "source": [
    "## 위치인수\n",
    "\n",
    "- 기본적인 인수 전달 방법\n",
    "- 함수에 정의된 매개변수와 순서에 맞게 짝을 맞추어 인수를 전달합니다,"
   ]
  },
  {
   "cell_type": "code",
   "execution_count": 1,
   "id": "f2a2248a",
   "metadata": {},
   "outputs": [
    {
     "name": "stdout",
     "output_type": "stream",
     "text": [
      "안녕!! ㅇㅇ아 오랜만이야\n"
     ]
    }
   ],
   "source": [
    "def greet(name,msg):\n",
    "    print(f'안녕!! {name} {msg}')\n",
    "    \n",
    "greet('ㅇㅇ아','오랜만이야')"
   ]
  },
  {
   "cell_type": "markdown",
   "id": "0be7d228",
   "metadata": {},
   "source": [
    "## 디폴트 인수 default value 기본값\n",
    "\n",
    "- 함수를 정의할 때 매개변수에 디폴트값을 지정하면 디폴트값이 지정된 인수를 생략할 수 있다."
   ]
  },
  {
   "cell_type": "code",
   "execution_count": 2,
   "id": "3ec0f5d6",
   "metadata": {},
   "outputs": [
    {
     "name": "stdout",
     "output_type": "stream",
     "text": [
      "안녕!! ㅇㅇ아 오랜만이야\n",
      "안녕!! ㅇㅇ아 반가워!\n"
     ]
    }
   ],
   "source": [
    "def greet(name, msg='오랜만이야'):\n",
    "    print(f'안녕!! {name} {msg}')\n",
    "    \n",
    "greet('ㅇㅇ아')\n",
    "greet('ㅇㅇ아','반가워!')\n",
    "# 디폴트 인수는 기본 위치 인수를 다 적은다음 다음에 적어야 한다."
   ]
  }
 ],
 "metadata": {
  "kernelspec": {
   "display_name": "Python 3 (ipykernel)",
   "language": "python",
   "name": "python3"
  },
  "language_info": {
   "codemirror_mode": {
    "name": "ipython",
    "version": 3
   },
   "file_extension": ".py",
   "mimetype": "text/x-python",
   "name": "python",
   "nbconvert_exporter": "python",
   "pygments_lexer": "ipython3",
   "version": "3.9.13"
  }
 },
 "nbformat": 4,
 "nbformat_minor": 5
}
