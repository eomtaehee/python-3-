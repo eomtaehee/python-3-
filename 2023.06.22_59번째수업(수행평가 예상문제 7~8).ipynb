{
 "cells": [
  {
   "cell_type": "markdown",
   "id": "ba5a47eb",
   "metadata": {},
   "source": [
    "## 수행평가 예상문제\n",
    "> 문제 7 <br>\n",
    "할인된 금액 계산 프로그램\n",
    "```\n",
    "금액                         할인율\n",
    "1만원이상 5만원미만           5%\n",
    "5만원이상 10만원미만          7%\n",
    "10만원 이상                   10%\n",
    "```"
   ]
  },
  {
   "cell_type": "code",
   "execution_count": 1,
   "id": "3571ca2e",
   "metadata": {},
   "outputs": [
    {
     "name": "stdout",
     "output_type": "stream",
     "text": [
      "물건구매가 : 15000\n",
      "\n",
      "구매가 : 15000\n",
      "할인율 : 5%\n",
      "할인금액 : 750.0\n",
      "지불금액 : 14250.0\n",
      "\n"
     ]
    }
   ],
   "source": [
    "price = int(input('물건구매가 : '))\n",
    "\n",
    "#할인율 결정\n",
    "if price >= 100000:\n",
    "    dc = 10\n",
    "elif price >= 50000:\n",
    "    dc = 7\n",
    "elif price >= 10000:\n",
    "    dc = 5\n",
    "else :\n",
    "    dc = 0\n",
    "\n",
    "#출력\n",
    "print(f'''\n",
    "구매가 : {price}\n",
    "할인율 : {dc}%\n",
    "할인금액 : {price*(dc/100)}\n",
    "지불금액 : {price - price*(dc/100)}\n",
    "''')"
   ]
  },
  {
   "cell_type": "markdown",
   "id": "c3358213",
   "metadata": {},
   "source": [
    "## 수행평가 예상문제\n",
    "> 문제 8<br>\n",
    "사칙연산 프로그램\n",
    "- 두 수와 사칙연산기호(+-*/)을 입력받아 연산 기호에 연산 결과를 출력하는 프로그램을 작성하세요.\n",
    "- 사칙연산기호(+-*/)가 아닌 경우 '잘못입력하셨습니다' 출력"
   ]
  },
  {
   "cell_type": "code",
   "execution_count": 3,
   "id": "356af912",
   "metadata": {},
   "outputs": [
    {
     "name": "stdout",
     "output_type": "stream",
     "text": [
      "숫자1 : 5\n",
      "숫자2 : 6\n",
      "연산기호 : *\n",
      "곱셈 : 5 * 6 = 30\n"
     ]
    }
   ],
   "source": [
    "num1 = int(input('숫자1 : '))\n",
    "num2 = int(input('숫자2 : '))\n",
    "op = input('연산기호 : ')\n",
    "\n",
    "if op == '+':\n",
    "    print(f'덧셈 : {num1} + {num2} = {num1+num2}')\n",
    "elif op == '-':\n",
    "    print(f'뺄셈 : {num1} - {num2} = {num1-num2}')\n",
    "elif op == '*':\n",
    "    print(f'곱셈 : {num1} * {num2} = {num1*num2}')\n",
    "elif op == '/':\n",
    "    print(f'나눗셈 : {num1} / {num2} = {num1/num2}')\n",
    "else:\n",
    "    print(f'잘못 입력하셨습니다')"
   ]
  }
 ],
 "metadata": {
  "kernelspec": {
   "display_name": "Python 3 (ipykernel)",
   "language": "python",
   "name": "python3"
  },
  "language_info": {
   "codemirror_mode": {
    "name": "ipython",
    "version": 3
   },
   "file_extension": ".py",
   "mimetype": "text/x-python",
   "name": "python",
   "nbconvert_exporter": "python",
   "pygments_lexer": "ipython3",
   "version": "3.9.13"
  }
 },
 "nbformat": 4,
 "nbformat_minor": 5
}
