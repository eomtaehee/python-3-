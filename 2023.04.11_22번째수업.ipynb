{
 "cells": [
  {
   "cell_type": "markdown",
   "id": "43693403",
   "metadata": {},
   "source": [
    "### (오빠 군대 수료식으로 현체)\n",
    "> - 민제껄로 :)"
   ]
  },
  {
   "cell_type": "markdown",
   "id": "70dcb39a",
   "metadata": {},
   "source": [
    "# 2.   리스트의 다양한 기능 \n",
    "\n",
    "### 리스트 길이 확인\n",
    "> len(리스트이름)"
   ]
  },
  {
   "cell_type": "code",
   "execution_count": 1,
   "id": "e3b16fed",
   "metadata": {},
   "outputs": [],
   "source": [
    "# 1월 지출부터 6월 지출까지 리스트로 만들기\n",
    "spending = [25, 36, 8, 53, 24, 56]"
   ]
  },
  {
   "cell_type": "code",
   "execution_count": 2,
   "id": "15843b02",
   "metadata": {},
   "outputs": [
    {
     "data": {
      "text/plain": [
       "6"
      ]
     },
     "execution_count": 2,
     "metadata": {},
     "output_type": "execute_result"
    }
   ],
   "source": [
    "len(spending )"
   ]
  },
  {
   "cell_type": "markdown",
   "id": "79b80284",
   "metadata": {},
   "source": [
    "### 리스트 데이터 추가하기\n",
    "> 리스트이름.append(데이터) <br>\n",
    "리스트마지막에 추가됨\n",
    "```\n",
    "food = ['피자','치킨','떡볶이','스테이크,파스타']\n",
    "```"
   ]
  },
  {
   "cell_type": "code",
   "execution_count": 4,
   "id": "435cfbe2",
   "metadata": {},
   "outputs": [],
   "source": [
    "food = ['피자','치킨','떡볶이','스테이크','파스타']"
   ]
  },
  {
   "cell_type": "code",
   "execution_count": 5,
   "id": "b6f3e3ad",
   "metadata": {},
   "outputs": [
    {
     "data": {
      "text/plain": [
       "5"
      ]
     },
     "execution_count": 5,
     "metadata": {},
     "output_type": "execute_result"
    }
   ],
   "source": [
    "len(food)"
   ]
  },
  {
   "cell_type": "code",
   "execution_count": 6,
   "id": "57603873",
   "metadata": {},
   "outputs": [
    {
     "name": "stdout",
     "output_type": "stream",
     "text": [
      "['피자', '치킨', '떡볶이', '스테이크', '파스타', '햄버거']\n"
     ]
    }
   ],
   "source": [
    "# 햄버거 추가 \n",
    "food.append('햄버거')\n",
    "print(food)"
   ]
  },
  {
   "cell_type": "code",
   "execution_count": 7,
   "id": "afed37cf",
   "metadata": {},
   "outputs": [
    {
     "name": "stdout",
     "output_type": "stream",
     "text": [
      "['피자', '치킨', '떡볶이', '스테이크', '파스타', '햄버거', '돈가스']\n"
     ]
    }
   ],
   "source": [
    "# 돈가스 추가 \n",
    "food.append('돈가스')\n",
    "print(food)"
   ]
  },
  {
   "cell_type": "markdown",
   "id": "5e139bed",
   "metadata": {},
   "source": [
    "### 빈 리스트 만들고 데이터 추가하기\n",
    "> 리스트 = []  <br> 빈 리스트"
   ]
  },
  {
   "cell_type": "code",
   "execution_count": 8,
   "id": "73865561",
   "metadata": {},
   "outputs": [
    {
     "name": "stdout",
     "output_type": "stream",
     "text": [
      "[]\n",
      "['파인썬 공부']\n"
     ]
    }
   ],
   "source": [
    "# 해야할 일을 저장하는  빈 리스트 to_do 만들어 봅시다\n",
    "to_do = []\n",
    "\n",
    "#파이썬 공부를 추가해 봅시다.\n",
    "print(to_do)\n",
    "to_do.append('파인썬 공부')\n",
    "print(to_do)"
   ]
  },
  {
   "cell_type": "code",
   "execution_count": 9,
   "id": "a5156bd0",
   "metadata": {},
   "outputs": [
    {
     "name": "stdout",
     "output_type": "stream",
     "text": [
      "해야할 일을 입력하세요책읽기\n",
      "['파인썬 공부', '책읽기']\n"
     ]
    }
   ],
   "source": [
    "#해야 할 일을 입력 받아 to_do 저장하기\n",
    "task = input('해야할 일을 입력하세요')\n",
    "to_do.append(task)\n",
    "print(to_do)"
   ]
  },
  {
   "cell_type": "code",
   "execution_count": 10,
   "id": "fde6e3a2",
   "metadata": {},
   "outputs": [
    {
     "name": "stdout",
     "output_type": "stream",
     "text": [
      "해야할 일을 입력하세요?빅데이터수업\n",
      "['파인썬 공부', '책읽기', '빅데이터수업']\n"
     ]
    }
   ],
   "source": [
    "to_do.append(input('해야할 일을 입력하세요?'))\n",
    "print(to_do)"
   ]
  },
  {
   "cell_type": "markdown",
   "id": "1230504f",
   "metadata": {},
   "source": [
    "### 리스트 슬라이싱\n",
    "> 리스트[시작숫자 : 종료숫자]\n",
    "\n",
    "종료슛자-1 까지 잘라내는것\n",
    "\n",
    "```\n",
    "and[2:5]  # adc[2]~abc[4]까지 슬라이싱\n",
    "and[4:9] # adc[4]~abc[8]까지 슬라이싱\n",
    "```\n",
    "```\n",
    "food = ['피자','치킨','떡볶이','스테이크','파스타']\n",
    "```"
   ]
  },
  {
   "cell_type": "code",
   "execution_count": 11,
   "id": "05a6d7d8",
   "metadata": {},
   "outputs": [],
   "source": [
    "food = ['피자','치킨','떡볶이','스테이크','파스타']"
   ]
  },
  {
   "cell_type": "code",
   "execution_count": 12,
   "id": "b54349cf",
   "metadata": {},
   "outputs": [
    {
     "data": {
      "text/plain": [
       "['떡볶이', '스테이크']"
      ]
     },
     "execution_count": 12,
     "metadata": {},
     "output_type": "execute_result"
    }
   ],
   "source": [
    "# 떡볶이, 스테이크만 골라내기\n",
    "food[2:4]"
   ]
  },
  {
   "cell_type": "code",
   "execution_count": 13,
   "id": "290d639e",
   "metadata": {},
   "outputs": [
    {
     "data": {
      "text/plain": [
       "['피자', '치킨', '떡볶이', '스테이크']"
      ]
     },
     "execution_count": 13,
     "metadata": {},
     "output_type": "execute_result"
    }
   ],
   "source": [
    "# 처음부터 스테이크까지 골라내기\n",
    "# 0은 생략 가능합니다\n",
    "food[0:4]"
   ]
  },
  {
   "cell_type": "code",
   "execution_count": 14,
   "id": "231517f4",
   "metadata": {},
   "outputs": [
    {
     "data": {
      "text/plain": [
       "['피자', '치킨', '떡볶이', '스테이크']"
      ]
     },
     "execution_count": 14,
     "metadata": {},
     "output_type": "execute_result"
    }
   ],
   "source": [
    "# 0은 생략 가능합니다\n",
    "food[:4]"
   ]
  },
  {
   "cell_type": "code",
   "execution_count": 15,
   "id": "c7b68534",
   "metadata": {},
   "outputs": [
    {
     "data": {
      "text/plain": [
       "['스테이크', '파스타']"
      ]
     },
     "execution_count": 15,
     "metadata": {},
     "output_type": "execute_result"
    }
   ],
   "source": [
    "# 뒷에서 슬라이싱 2개\n",
    "food[-2:]"
   ]
  }
 ],
 "metadata": {
  "kernelspec": {
   "display_name": "Python 3 (ipykernel)",
   "language": "python",
   "name": "python3"
  },
  "language_info": {
   "codemirror_mode": {
    "name": "ipython",
    "version": 3
   },
   "file_extension": ".py",
   "mimetype": "text/x-python",
   "name": "python",
   "nbconvert_exporter": "python",
   "pygments_lexer": "ipython3",
   "version": "3.9.13"
  }
 },
 "nbformat": 4,
 "nbformat_minor": 5
}
