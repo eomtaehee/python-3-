{
 "cells": [
  {
   "cell_type": "markdown",
   "id": "24e7cf43",
   "metadata": {},
   "source": [
    "## 1. 출력명령어\n",
    "### 출력 명령어 형식\n",
    "\n",
    ">print (출력할 내용)"
   ]
  },
  {
   "cell_type": "code",
   "execution_count": 9,
   "id": "0719a4e7",
   "metadata": {},
   "outputs": [
    {
     "name": "stdout",
     "output_type": "stream",
     "text": [
      "7201300\n"
     ]
    }
   ],
   "source": [
    "# 숫자 출력 7201300\n",
    "print (7201300)"
   ]
  },
  {
   "cell_type": "code",
   "execution_count": 10,
   "id": "b95ae38b",
   "metadata": {},
   "outputs": [
    {
     "name": "stdout",
     "output_type": "stream",
     "text": [
      "11월 17일\n"
     ]
    }
   ],
   "source": [
    "# 문자 출력 본인 생일 출력해 보기\n",
    "print ('11월 17일')"
   ]
  },
  {
   "cell_type": "markdown",
   "id": "bdd0ea99",
   "metadata": {},
   "source": [
    "문자는 따옴표로 감싸주어야 함\n",
    ">print('문자')"
   ]
  },
  {
   "cell_type": "code",
   "execution_count": 11,
   "id": "1f8dd1e6",
   "metadata": {},
   "outputs": [
    {
     "name": "stdout",
     "output_type": "stream",
     "text": [
      "20\n",
      "-10\n",
      "75\n",
      "0.3333333333333333\n"
     ]
    }
   ],
   "source": [
    "# 사칙연상하기\n",
    "a = 5\n",
    "b = 15\n",
    "print(a+b)\n",
    "print(a-b)\n",
    "print(a*b)\n",
    "print(a/b)"
   ]
  },
  {
   "cell_type": "code",
   "execution_count": 12,
   "id": "a497f5f0",
   "metadata": {},
   "outputs": [
    {
     "name": "stdout",
     "output_type": "stream",
     "text": [
      "12+34\n",
      "46\n"
     ]
    }
   ],
   "source": [
    "# 숫자라 하더라도 따옴표로 감사면 문자로 인식\n",
    "\n",
    "print('12+34')\n",
    "print(12+34)"
   ]
  },
  {
   "cell_type": "code",
   "execution_count": 13,
   "id": "ddc57e5f",
   "metadata": {},
   "outputs": [
    {
     "name": "stdout",
     "output_type": "stream",
     "text": [
      "25\n",
      "25\n",
      "125\n",
      "125\n"
     ]
    }
   ],
   "source": [
    "# 제곱 **\n",
    "\n",
    "print(5**2)\n",
    "print(5*5)\n",
    "print(5**3)\n",
    "print(5*5*5)"
   ]
  },
  {
   "cell_type": "code",
   "execution_count": 14,
   "id": "4c3db1f1",
   "metadata": {},
   "outputs": [
    {
     "name": "stdout",
     "output_type": "stream",
     "text": [
      "2\n",
      "1\n"
     ]
    }
   ],
   "source": [
    "# 몫 //\n",
    "print(5//2)\n",
    "\n",
    "# 나머지 %\n",
    "print(5%2)"
   ]
  },
  {
   "cell_type": "markdown",
   "id": "1b078373",
   "metadata": {},
   "source": [
    "### 연결하여 출력하기\n",
    ">print( , ) <br>\n",
    ">print( + )"
   ]
  },
  {
   "cell_type": "code",
   "execution_count": 15,
   "id": "b3cbfff7",
   "metadata": {},
   "outputs": [
    {
     "name": "stdout",
     "output_type": "stream",
     "text": [
      "파이썬 hello!!!\n"
     ]
    }
   ],
   "source": [
    "# 콤마, 로 연결하여 출력\n",
    "\n",
    "a = '파이썬'\n",
    "b = 'hello!!!'\n",
    "\n",
    "print(a,b)"
   ]
  },
  {
   "cell_type": "code",
   "execution_count": 16,
   "id": "e342a650",
   "metadata": {},
   "outputs": [
    {
     "name": "stdout",
     "output_type": "stream",
     "text": [
      "파이썬hello!!!\n"
     ]
    }
   ],
   "source": [
    "# 더하기 + 로 연결하여 출력\n",
    "\n",
    "print(a+b)"
   ]
  }
 ],
 "metadata": {
  "kernelspec": {
   "display_name": "Python 3 (ipykernel)",
   "language": "python",
   "name": "python3"
  },
  "language_info": {
   "codemirror_mode": {
    "name": "ipython",
    "version": 3
   },
   "file_extension": ".py",
   "mimetype": "text/x-python",
   "name": "python",
   "nbconvert_exporter": "python",
   "pygments_lexer": "ipython3",
   "version": "3.9.13"
  }
 },
 "nbformat": 4,
 "nbformat_minor": 5
}
