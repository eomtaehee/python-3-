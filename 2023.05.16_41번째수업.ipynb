{
 "cells": [
  {
   "cell_type": "markdown",
   "id": "40802957",
   "metadata": {},
   "source": [
    "* 사용자가 0을 입력할 때까지 숫자를 입력받은 숫자들의 합을 구하는 프로그램을 작성하세요."
   ]
  },
  {
   "cell_type": "code",
   "execution_count": 1,
   "id": "68883c27",
   "metadata": {},
   "outputs": [
    {
     "name": "stdout",
     "output_type": "stream",
     "text": [
      "숫자 : 10\n",
      "숫자 : 20\n",
      "숫자 : 30\n",
      "숫자 : 40\n",
      "숫자 : 50\n",
      "숫자 : 0\n",
      "숫자의 합계 150\n"
     ]
    }
   ],
   "source": [
    "total = 0\n",
    "\n",
    "while True:\n",
    "    num = int(input('숫자 : '))\n",
    "    if num == 0:\n",
    "        break\n",
    "    total += num\n",
    "print(f'숫자의 합계 {total}')"
   ]
  },
  {
   "cell_type": "markdown",
   "id": "2692ed40",
   "metadata": {},
   "source": [
    "## up&down 숫자맞추기 게임\n",
    "* 1~100 사이의 정답 숫자를 랜덤으로 하나 정하고, 정답 숫자를 맞출 때까지 숫자를 입력하는 게임이다.\n",
    "내가 입력한 숫자가 정답보다 작으면 'DOWN',정답보가 크면 'UP' 을 출력하고 숫자를 다시 입력받는다.\n",
    "정답을 맞추면 '정답!'이라고 출력하고 게임을 끝낸다."
   ]
  },
  {
   "cell_type": "code",
   "execution_count": 2,
   "id": "7ef39464",
   "metadata": {},
   "outputs": [
    {
     "name": "stdout",
     "output_type": "stream",
     "text": [
      "정답숫자 71\n",
      "예상숫자 :74\n",
      "Down\n",
      "예상숫자 :71\n",
      "정답 ~~~!\n"
     ]
    }
   ],
   "source": [
    "# 정답 숫자\n",
    "import random\n",
    "num = random.randrange(1,101)\n",
    "print(f'정답숫자 {num}')\n",
    "\n",
    "# 정답을 맞출 때까지 반복하기\n",
    "while True:\n",
    "    answer = int(input('예상숫자 :'))\n",
    "    if answer == num:\n",
    "        print(f'정답 ~~~!')\n",
    "        break\n",
    "    if answer < num :\n",
    "        print(f'Up')\n",
    "    if answer > num :\n",
    "        print(f'Down')"
   ]
  },
  {
   "cell_type": "markdown",
   "id": "19b20b0a",
   "metadata": {},
   "source": [
    "* 확장 <br>\n",
    "기회는 5번가지만 주어집니다.<br>\n",
    "5회가 넘으면'횟수초과'메시지와 함께 정답을 알려줍니다.<br>\n",
    "정답을 맞추면 몇번째에 맞추었는지 출력합니다."
   ]
  },
  {
   "cell_type": "code",
   "execution_count": 3,
   "id": "7c37d4c0",
   "metadata": {},
   "outputs": [
    {
     "name": "stdout",
     "output_type": "stream",
     "text": [
      "예상숫자 : 60\n",
      "Up\n",
      "예상숫자 : 70\n",
      "Down\n",
      "예상숫자 : 65\n",
      "정답 ~~~!\n",
      "3번만에 맞추었습니다.\n"
     ]
    }
   ],
   "source": [
    "# 횟수\n",
    "cnt = 0\n",
    "\n",
    "# 정답 숫자\n",
    "import random\n",
    "num = random.randrange(1,101)\n",
    "# print(f'정답숫자 {num}')\n",
    "\n",
    "# 정답을 맞출 때까지 반복하기\n",
    "while True:\n",
    "    cnt +=1\n",
    "    if cnt>5:\n",
    "        print(f'횟수초과 정답은 {num}')\n",
    "    answer = int(input('예상숫자 : '))\n",
    "    if answer == num :\n",
    "        print(f'정답 ~~~!')\n",
    "        print(f'{cnt}번만에 맞추었습니다.')\n",
    "        break\n",
    "    if answer < num :\n",
    "        print(f'Up')\n",
    "    if answer > num :\n",
    "        print(f'Down')"
   ]
  }
 ],
 "metadata": {
  "kernelspec": {
   "display_name": "Python 3 (ipykernel)",
   "language": "python",
   "name": "python3"
  },
  "language_info": {
   "codemirror_mode": {
    "name": "ipython",
    "version": 3
   },
   "file_extension": ".py",
   "mimetype": "text/x-python",
   "name": "python",
   "nbconvert_exporter": "python",
   "pygments_lexer": "ipython3",
   "version": "3.9.13"
  }
 },
 "nbformat": 4,
 "nbformat_minor": 5
}
