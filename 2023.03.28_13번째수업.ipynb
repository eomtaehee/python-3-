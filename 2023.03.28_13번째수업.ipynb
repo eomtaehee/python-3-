{
 "cells": [
  {
   "cell_type": "markdown",
   "id": "b5426440",
   "metadata": {},
   "source": [
    "## 4. 구구단 출력 프로그램\n",
    "4단 출력하기<br>\n",
    "```\n",
    "4 x 1 = 4\n",
    "4 x 2 = 8\n",
    "...\n",
    "4 x 8 = 32\n",
    "4 x 9 = 36\n",
    "```"
   ]
  },
  {
   "cell_type": "code",
   "execution_count": 1,
   "id": "fb4fb140",
   "metadata": {},
   "outputs": [
    {
     "name": "stdout",
     "output_type": "stream",
     "text": [
      "4 x 1 = 4\n",
      "4 x 2 = 8\n",
      "4 x 3 = 12\n",
      "4 x 4 = 16\n",
      "4 x 5 = 20\n",
      "4 x 6 = 24\n",
      "4 x 7 = 28\n",
      "4 x 8 = 32\n",
      "4 x 9 = 36\n"
     ]
    }
   ],
   "source": [
    "# 구구단 프로그램\n",
    "for i in range(1,10) :\n",
    "    print('4 x', i, '=', 4*i)"
   ]
  },
  {
   "cell_type": "markdown",
   "id": "80991eba",
   "metadata": {},
   "source": [
    "## 업그레이드 구구단\n",
    "> 구구단 외울 단을 입력받아, 해당 숫자의 구구당을 외워봅시다.<br/>\n",
    " ex. 5를 입력받으면 5단 외우기"
   ]
  },
  {
   "cell_type": "code",
   "execution_count": 2,
   "id": "14e28261",
   "metadata": {},
   "outputs": [
    {
     "name": "stdout",
     "output_type": "stream",
     "text": [
      "몇 단을 외워볼까요? 18\n",
      "18 x 1 = 18\n",
      "18 x 2 = 36\n",
      "18 x 3 = 54\n",
      "18 x 4 = 72\n",
      "18 x 5 = 90\n",
      "18 x 6 = 108\n",
      "18 x 7 = 126\n",
      "18 x 8 = 144\n",
      "18 x 9 = 162\n"
     ]
    }
   ],
   "source": [
    "num = int(input('몇 단을 외워볼까요? '))\n",
    "\n",
    "for i in range(1,10) :\n",
    "    print(num, 'x', i, '=', num*i)"
   ]
  },
  {
   "cell_type": "code",
   "execution_count": 3,
   "id": "34b9ce51",
   "metadata": {},
   "outputs": [
    {
     "name": "stdout",
     "output_type": "stream",
     "text": [
      "망고\n",
      "딸기\n",
      "포도\n"
     ]
    }
   ],
   "source": [
    "과일 = ['망고','딸기','포도']\n",
    "print(과일[0])\n",
    "print(과일[1])\n",
    "print(과일[2])"
   ]
  },
  {
   "cell_type": "code",
   "execution_count": 4,
   "id": "a279bb84",
   "metadata": {},
   "outputs": [
    {
     "name": "stdout",
     "output_type": "stream",
     "text": [
      "망고\n",
      "딸기\n",
      "포도\n"
     ]
    }
   ],
   "source": [
    "과일 = ['망고','딸기','포도']\n",
    "for i in 과일 : \n",
    "    print(i)"
   ]
  },
  {
   "cell_type": "code",
   "execution_count": 5,
   "id": "2fc3e10e",
   "metadata": {},
   "outputs": [
    {
     "name": "stdout",
     "output_type": "stream",
     "text": [
      "망고 -------\n",
      "딸기 -------\n",
      "포도 -------\n"
     ]
    }
   ],
   "source": [
    "과일 = ['망고','딸기','포도']\n",
    "for i in 과일 : \n",
    "    print(i,'-------')"
   ]
  },
  {
   "cell_type": "markdown",
   "id": "cb5cc3d5",
   "metadata": {},
   "source": [
    "## 출력형식\n",
    ">오늘의 메뉴 : 김밥 <br>\n",
    "오늘의 메뉴 : 라면 <br>\n",
    "오늘의 메유 : 튀김"
   ]
  },
  {
   "cell_type": "code",
   "execution_count": 6,
   "id": "f37a3392",
   "metadata": {},
   "outputs": [
    {
     "name": "stdout",
     "output_type": "stream",
     "text": [
      "오늘의 메뉴: 김밥\n",
      "오늘의 메뉴: 라면\n",
      "오늘의 메뉴: 튀김\n"
     ]
    }
   ],
   "source": [
    "리스트 = [\"김밥\", \"라면\", \"튀김\"]\n",
    "for 메뉴 in 리스트 :\n",
    "    print(\"오늘의 메뉴:\", 메뉴) "
   ]
  }
 ],
 "metadata": {
  "kernelspec": {
   "display_name": "Python 3 (ipykernel)",
   "language": "python",
   "name": "python3"
  },
  "language_info": {
   "codemirror_mode": {
    "name": "ipython",
    "version": 3
   },
   "file_extension": ".py",
   "mimetype": "text/x-python",
   "name": "python",
   "nbconvert_exporter": "python",
   "pygments_lexer": "ipython3",
   "version": "3.9.13"
  }
 },
 "nbformat": 4,
 "nbformat_minor": 5
}
