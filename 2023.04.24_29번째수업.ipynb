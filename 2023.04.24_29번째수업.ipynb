{
 "cells": [
  {
   "cell_type": "markdown",
   "id": "ee13d25e",
   "metadata": {},
   "source": [
    "### 문제 별을 찍어보기\n",
    "출력형식\n",
    "> *을 출력합니다. <br>\n",
    "  몇 개를 출력할까요? <br>\n",
    "  몇 개마다 줄바꿈할까요?"
   ]
  },
  {
   "cell_type": "code",
   "execution_count": 1,
   "id": "7dfa7621",
   "metadata": {},
   "outputs": [
    {
     "name": "stdout",
     "output_type": "stream",
     "text": [
      "*를 출력합니다\n",
      "몇 개를 출력할까요? 14\n",
      "몇 개마다 줄바꿈할까요? 5\n",
      "*****\n",
      "*****\n",
      "****\n"
     ]
    }
   ],
   "source": [
    "# *를 n개 출력하되 w개마다 줄바꿈하기\n",
    "\n",
    "print('*를 출력합니다')\n",
    "n = int(input('몇 개를 출력할까요? '))\n",
    "w = int(input('몇 개마다 줄바꿈할까요? '))\n",
    "\n",
    "for i in range(n):  # n번 반복\n",
    "    print('*',end='')\n",
    "    if i % w == w -1:  # n번 판단\n",
    "        print()  # 줄바꿈\n",
    "\n",
    "if n % w :\n",
    "    print()"
   ]
  },
  {
   "cell_type": "code",
   "execution_count": 2,
   "id": "ba16c5ac",
   "metadata": {},
   "outputs": [
    {
     "name": "stdout",
     "output_type": "stream",
     "text": [
      "1부터 n까지 정수의 합을 구합니다.\n",
      "n값을 입력하세요 :0\n",
      "n값을 입력하세요 :-5\n",
      "n값을 입력하세요 :5\n",
      "1부터 5까지 정수의 합은 15입니다.\n"
     ]
    }
   ],
   "source": [
    "# 문제 양수만 입력 받기\n",
    "# 조건1 양수만 입력 받기\n",
    "# 조건2 1부터 n까지의 합 구합니다.\n",
    "\n",
    "print('1부터 n까지 정수의 합을 구합니다.')\n",
    "while True:\n",
    "    n = int(input('n값을 입력하세요 :'))\n",
    "    if n > 0:\n",
    "        break\n",
    "\n",
    "sum = 0\n",
    "i = 1\n",
    "\n",
    "for i in range(1, n+1):\n",
    "    sum += i\n",
    "    i += 1\n",
    "\n",
    "print(f'1부터 {n}까지 정수의 합은 {sum}입니다.')"
   ]
  }
 ],
 "metadata": {
  "kernelspec": {
   "display_name": "Python 3 (ipykernel)",
   "language": "python",
   "name": "python3"
  },
  "language_info": {
   "codemirror_mode": {
    "name": "ipython",
    "version": 3
   },
   "file_extension": ".py",
   "mimetype": "text/x-python",
   "name": "python",
   "nbconvert_exporter": "python",
   "pygments_lexer": "ipython3",
   "version": "3.9.13"
  }
 },
 "nbformat": 4,
 "nbformat_minor": 5
}
