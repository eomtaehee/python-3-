{
 "cells": [
  {
   "cell_type": "markdown",
   "id": "8644e1a0",
   "metadata": {},
   "source": [
    "## for 반복문"
   ]
  },
  {
   "cell_type": "code",
   "execution_count": 1,
   "id": "81fda1df",
   "metadata": {},
   "outputs": [
    {
     "name": "stdout",
     "output_type": "stream",
     "text": [
      "1\n",
      "2\n",
      "3\n",
      "4\n",
      "5\n"
     ]
    }
   ],
   "source": [
    "for i in [1,2,3,4,5] :\n",
    "    print(f'{i}')"
   ]
  },
  {
   "cell_type": "code",
   "execution_count": 2,
   "id": "524950c7",
   "metadata": {},
   "outputs": [
    {
     "name": "stdout",
     "output_type": "stream",
     "text": [
      "p\n",
      "y\n",
      "r\n",
      "h\n",
      "o\n",
      "n\n"
     ]
    }
   ],
   "source": [
    "for i in 'pyrhon' :\n",
    "    print(f'{i}')"
   ]
  },
  {
   "cell_type": "code",
   "execution_count": 3,
   "id": "f90c381d",
   "metadata": {},
   "outputs": [
    {
     "name": "stdout",
     "output_type": "stream",
     "text": [
      "1\n",
      "2\n",
      "3\n",
      "4\n",
      "5\n"
     ]
    }
   ],
   "source": [
    "for i in range(1,6) :   #0,1,2,3,4\n",
    "    print(f'{i}')"
   ]
  },
  {
   "cell_type": "markdown",
   "id": "abe7a989",
   "metadata": {},
   "source": [
    "* 'Hello' 10번 출력하기<br>\n",
    "특정 횟수만큼 반복할려면 range(횟수)의 형태를 사용한다."
   ]
  },
  {
   "cell_type": "code",
   "execution_count": 4,
   "id": "cfb1d4d1",
   "metadata": {},
   "outputs": [
    {
     "name": "stdout",
     "output_type": "stream",
     "text": [
      "1 Hello\n",
      "2 Hello\n",
      "3 Hello\n",
      "4 Hello\n",
      "5 Hello\n",
      "6 Hello\n",
      "7 Hello\n",
      "8 Hello\n",
      "9 Hello\n",
      "10 Hello\n"
     ]
    }
   ],
   "source": [
    "for i in range(1,11) :\n",
    "    print(f'{i} Hello')"
   ]
  },
  {
   "cell_type": "markdown",
   "id": "af5846fc",
   "metadata": {},
   "source": [
    "## 중첩반복구조\n",
    "* 내부 for문을 외부 for문의 스퀀스만큼 반복한다.\n",
    "* 내부루프와 외부루프는 동일한 제어변수를 사용해서는 안된다."
   ]
  },
  {
   "cell_type": "code",
   "execution_count": 5,
   "id": "b7189def",
   "metadata": {},
   "outputs": [
    {
     "name": "stdout",
     "output_type": "stream",
     "text": [
      "0-0\n",
      "0-1\n",
      "0-2\n",
      "0-3\n",
      "1-0\n",
      "1-1\n",
      "1-2\n",
      "1-3\n",
      "2-0\n",
      "2-1\n",
      "2-2\n",
      "2-3\n"
     ]
    }
   ],
   "source": [
    "for i in range(3) :\n",
    "    for j in range(4) :\n",
    "        print(f'{i}-{j}')"
   ]
  },
  {
   "cell_type": "markdown",
   "id": "c26046f6",
   "metadata": {},
   "source": [
    "* 2단부터 9단까지 전체 구구단 출력하기"
   ]
  },
  {
   "cell_type": "code",
   "execution_count": 6,
   "id": "44aff6c6",
   "metadata": {},
   "outputs": [
    {
     "name": "stdout",
     "output_type": "stream",
     "text": [
      "2*1=2\t2*2=4\t2*3=6\t2*4=8\t2*5=10\t2*6=12\t2*7=14\t2*8=16\t2*9=18\t\n",
      "3*1=3\t3*2=6\t3*3=9\t3*4=12\t3*5=15\t3*6=18\t3*7=21\t3*8=24\t3*9=27\t\n",
      "4*1=4\t4*2=8\t4*3=12\t4*4=16\t4*5=20\t4*6=24\t4*7=28\t4*8=32\t4*9=36\t\n",
      "5*1=5\t5*2=10\t5*3=15\t5*4=20\t5*5=25\t5*6=30\t5*7=35\t5*8=40\t5*9=45\t\n",
      "6*1=6\t6*2=12\t6*3=18\t6*4=24\t6*5=30\t6*6=36\t6*7=42\t6*8=48\t6*9=54\t\n",
      "7*1=7\t7*2=14\t7*3=21\t7*4=28\t7*5=35\t7*6=42\t7*7=49\t7*8=56\t7*9=63\t\n",
      "8*1=8\t8*2=16\t8*3=24\t8*4=32\t8*5=40\t8*6=48\t8*7=56\t8*8=64\t8*9=72\t\n",
      "9*1=9\t9*2=18\t9*3=27\t9*4=36\t9*5=45\t9*6=54\t9*7=63\t9*8=72\t9*9=81\t\n"
     ]
    }
   ],
   "source": [
    "for i in range(2,10) :\n",
    "    for j in range(1,10) :\n",
    "        print(f'{i}*{j}={i*j}',end='\\t')\n",
    "    print()\n",
    "# 행과 열이 가로로 정렬"
   ]
  },
  {
   "cell_type": "code",
   "execution_count": 7,
   "id": "f1afab49",
   "metadata": {},
   "outputs": [
    {
     "name": "stdout",
     "output_type": "stream",
     "text": [
      "2*1=2\t3*1=3\t4*1=4\t5*1=5\t6*1=6\t7*1=7\t8*1=8\t9*1=9\t\n",
      "2*2=4\t3*2=6\t4*2=8\t5*2=10\t6*2=12\t7*2=14\t8*2=16\t9*2=18\t\n",
      "2*3=6\t3*3=9\t4*3=12\t5*3=15\t6*3=18\t7*3=21\t8*3=24\t9*3=27\t\n",
      "2*4=8\t3*4=12\t4*4=16\t5*4=20\t6*4=24\t7*4=28\t8*4=32\t9*4=36\t\n",
      "2*5=10\t3*5=15\t4*5=20\t5*5=25\t6*5=30\t7*5=35\t8*5=40\t9*5=45\t\n",
      "2*6=12\t3*6=18\t4*6=24\t5*6=30\t6*6=36\t7*6=42\t8*6=48\t9*6=54\t\n",
      "2*7=14\t3*7=21\t4*7=28\t5*7=35\t6*7=42\t7*7=49\t8*7=56\t9*7=63\t\n",
      "2*8=16\t3*8=24\t4*8=32\t5*8=40\t6*8=48\t7*8=56\t8*8=64\t9*8=72\t\n",
      "2*9=18\t3*9=27\t4*9=36\t5*9=45\t6*9=54\t7*9=63\t8*9=72\t9*9=81\t\n"
     ]
    }
   ],
   "source": [
    "for i in range(1,10) :\n",
    "    for j in range(2,10) :\n",
    "        print(f'{j}*{i}={i*j}',end='\\t')\n",
    "    print()\n",
    "# 행과 열이 세로로 정렬"
   ]
  },
  {
   "cell_type": "markdown",
   "id": "5e7c8dd1",
   "metadata": {},
   "source": [
    "## 연습문제\n",
    "* 1부터 10까지 정수의 합 구하여 출력하기"
   ]
  },
  {
   "cell_type": "code",
   "execution_count": 8,
   "id": "0d858386",
   "metadata": {},
   "outputs": [
    {
     "name": "stdout",
     "output_type": "stream",
     "text": [
      "합계 55\n"
     ]
    }
   ],
   "source": [
    "total = 0\n",
    "for i in range(1,11):\n",
    "    total+=i\n",
    "print(f'합계 {total}') \n",
    "#0,1.2,3,4,5,6,7,8,9,10\n",
    "# 0+10=10, 2+8=10, 3+7=10, 4+6=10, '5'=5 , 6+4=10, 7+3=10, 8+2=10, 9+1=10"
   ]
  },
  {
   "cell_type": "markdown",
   "id": "4c9e72c6",
   "metadata": {},
   "source": [
    "* 1부터 100까지 홀수의 합 구하여 출력하기"
   ]
  },
  {
   "cell_type": "code",
   "execution_count": 9,
   "id": "ba6ccfba",
   "metadata": {},
   "outputs": [
    {
     "name": "stdout",
     "output_type": "stream",
     "text": [
      "합계 2500\n"
     ]
    }
   ],
   "source": [
    "total = 0\n",
    "for i in range(1,101):\n",
    "    if i % 2 == 1:\n",
    "        total+= i\n",
    "print(f'합계 {total}') "
   ]
  }
 ],
 "metadata": {
  "kernelspec": {
   "display_name": "Python 3 (ipykernel)",
   "language": "python",
   "name": "python3"
  },
  "language_info": {
   "codemirror_mode": {
    "name": "ipython",
    "version": 3
   },
   "file_extension": ".py",
   "mimetype": "text/x-python",
   "name": "python",
   "nbconvert_exporter": "python",
   "pygments_lexer": "ipython3",
   "version": "3.9.13"
  }
 },
 "nbformat": 4,
 "nbformat_minor": 5
}
