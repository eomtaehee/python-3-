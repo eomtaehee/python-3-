{
 "cells": [
  {
   "cell_type": "markdown",
   "id": "c9b3a5cd",
   "metadata": {},
   "source": [
    " 2) 1년마다 키가 10cm씩 자라는 농구선수가 있다.\n",
    "\n",
    "* 2017년 - 175.5cm\n",
    "* 2018년 - 185.5cm\n",
    "* 2019년 - 195.5cm\n",
    "* 2020년 - 205.5cm\n",
    "\n",
    "년도별 농구선수의 키를 출력해보자"
   ]
  },
  {
   "cell_type": "code",
   "execution_count": 1,
   "id": "525f7bf3",
   "metadata": {},
   "outputs": [
    {
     "name": "stdout",
     "output_type": "stream",
     "text": [
      "2017 년 - 175.5 cm\n",
      "2018 년 - 185.5 cm\n",
      "2019 년 - 195.5 cm\n",
      "2020 년 - 205.5 cm\n"
     ]
    }
   ],
   "source": [
    "year = 2017\n",
    "heigth = 175.5\n",
    "print(year, '년 -',heigth,'cm')\n",
    "\n",
    "year = year + 1\n",
    "heigth = heigth + 10\n",
    "print(year, '년 -',heigth,'cm')\n",
    "\n",
    "year = year + 1\n",
    "heigth = heigth + 10\n",
    "print(year, '년 -',heigth,'cm')\n",
    "\n",
    "year = year + 1\n",
    "heigth = heigth + 10\n",
    "print(year, '년 -',heigth,'cm')"
   ]
  },
  {
   "cell_type": "markdown",
   "id": "87ec1323",
   "metadata": {},
   "source": [
    "> 동일한 변수를 증가/감소시킬 때\n",
    "\n",
    "\\# a에 3을 더하시오\n",
    "a = a+3\n",
    "\n",
    "\\# 간략하게 표현\n",
    "a += 3 "
   ]
  },
  {
   "cell_type": "code",
   "execution_count": 3,
   "id": "fb20784f",
   "metadata": {},
   "outputs": [
    {
     "name": "stdout",
     "output_type": "stream",
     "text": [
      "2017 년 - 175.5 cm\n",
      "2018 년 - 185.5 cm\n",
      "2019 년 - 195.5 cm\n",
      "2020 년 - 205.5 cm\n"
     ]
    }
   ],
   "source": [
    "year = 2017\n",
    "heigth = 175.5\n",
    "print(year, '년 -',heigth,'cm')\n",
    "\n",
    "year += 1\n",
    "heigth += 10\n",
    "print(year, '년 -',heigth,'cm')\n",
    "\n",
    "year += 1\n",
    "heigth += 10\n",
    "print(year, '년 -',heigth,'cm')\n",
    "\n",
    "year += 1\n",
    "heigth += 10\n",
    "print(year, '년 -',heigth,'cm')"
   ]
  },
  {
   "cell_type": "markdown",
   "id": "c749a296",
   "metadata": {},
   "source": [
    "# 2. 데이터 타입\n",
    "\n",
    " > 정수 int\n",
    " \n",
    " > 실수 float\n",
    " \n",
    " > 문자 str"
   ]
  },
  {
   "cell_type": "code",
   "execution_count": 4,
   "id": "63fe352e",
   "metadata": {},
   "outputs": [
    {
     "name": "stdout",
     "output_type": "stream",
     "text": [
      "<class 'int'>\n",
      "<class 'float'>\n",
      "<class 'str'>\n"
     ]
    }
   ],
   "source": [
    "a= 100\n",
    "b= 100.0\n",
    "c='성일정보고'\n",
    "print(type(a))\n",
    "print(type(b))\n",
    "print(type(c))"
   ]
  },
  {
   "cell_type": "markdown",
   "id": "f671c4c7",
   "metadata": {},
   "source": [
    "# 3. 데이터타입 변경하기\n",
    "변경하려는 데이터타입으로 감싸주기\n",
    "\n",
    "> 정수로 변경하기\n",
    "<br/> int(변수)\n",
    "\n",
    "> 실수로 변경하기\n",
    "<br/> float(변수)\n",
    "\n",
    "> 문자로 변경하기\n",
    "<br/> str(변수)"
   ]
  },
  {
   "cell_type": "code",
   "execution_count": 5,
   "id": "08f13f32",
   "metadata": {},
   "outputs": [
    {
     "name": "stdout",
     "output_type": "stream",
     "text": [
      "100\n",
      "100.0\n"
     ]
    }
   ],
   "source": [
    "# 정수를 실수로\n",
    "print(a)\n",
    "a = float(a)\n",
    "print(a)"
   ]
  },
  {
   "cell_type": "code",
   "execution_count": 6,
   "id": "196ee5d4",
   "metadata": {},
   "outputs": [
    {
     "name": "stdout",
     "output_type": "stream",
     "text": [
      "100.0\n",
      "100\n"
     ]
    }
   ],
   "source": [
    "print(a)\n",
    "a = int(a)\n",
    "print(a)"
   ]
  },
  {
   "cell_type": "markdown",
   "id": "e8a989e8",
   "metadata": {},
   "source": [
    "# 4. 원의 둘레, 넓이, 구의 겉넓이, 구피 구하기"
   ]
  },
  {
   "cell_type": "code",
   "execution_count": 9,
   "id": "7e9ad08d",
   "metadata": {},
   "outputs": [
    {
     "name": "stdout",
     "output_type": "stream",
     "text": [
      "반지름을 입력하세요  5\n",
      "원의 둘레는 31.41592\n",
      "원의 넓이는 78.5398\n",
      "구의 겉넓이는 314.1592\n",
      "구의 구피는 523.5986666666666\n"
     ]
    }
   ],
   "source": [
    "r = int(input('반지름을 입력하세요  '))\n",
    "p = 3.141592\n",
    "\n",
    "#원의 둘레\n",
    "c_len = 2*p*r\n",
    "\n",
    "#원의 넓이\n",
    "c_area = p*r**2\n",
    "\n",
    "#구의 겉넓이\n",
    "s_area = 4*p*r**2\n",
    "\n",
    "#구의 구피\n",
    "s_volume = 4/3*p*r**3\n",
    "\n",
    "print('원의 둘레는',c_len)\n",
    "print('원의 넓이는',c_area)\n",
    "print('구의 겉넓이는',s_area)\n",
    "print('구의 구피는',s_volume)"
   ]
  }
 ],
 "metadata": {
  "kernelspec": {
   "display_name": "Python 3 (ipykernel)",
   "language": "python",
   "name": "python3"
  },
  "language_info": {
   "codemirror_mode": {
    "name": "ipython",
    "version": 3
   },
   "file_extension": ".py",
   "mimetype": "text/x-python",
   "name": "python",
   "nbconvert_exporter": "python",
   "pygments_lexer": "ipython3",
   "version": "3.9.13"
  }
 },
 "nbformat": 4,
 "nbformat_minor": 5
}
