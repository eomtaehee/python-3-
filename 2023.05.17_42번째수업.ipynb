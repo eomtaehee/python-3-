{
 "cells": [
  {
   "cell_type": "markdown",
   "id": "943c6d7d",
   "metadata": {},
   "source": [
    "## 사칙연산 프로그램\n",
    "* 두 수와 사칙연산기호(+,-,*,/)을 입력받아 연산 기호에 따라 연산 결과를 출력하는 프로그램을 작성하세요\n",
    "* 사칙연산기호(+,-,*,/)가 아닌 경우 '잘못입력하셨습니다' 출력"
   ]
  },
  {
   "cell_type": "code",
   "execution_count": 1,
   "id": "e0f3f531",
   "metadata": {},
   "outputs": [
    {
     "name": "stdout",
     "output_type": "stream",
     "text": [
      "숫자1 : 5\n",
      "숫자2 : 6\n",
      "연산기호 : /\n",
      "나눗셈 : 5 / 6 = 0.8333333333333334\n"
     ]
    }
   ],
   "source": [
    "num1 = int(input('숫자1 : '))\n",
    "num2 = int(input('숫자2 : '))\n",
    "op = input('연산기호 : ')\n",
    "\n",
    "if op == '+':\n",
    "    print(f'덧셈 : {num1} + {num2} = {num1+num2}')\n",
    "elif op == '-':\n",
    "    print(f'뺄셈 : {num1} - {num2} = {num1-num2}')\n",
    "elif op == '*':\n",
    "    print(f'곱셈 : {num1} * {num2} = {num1*num2}')\n",
    "elif op == '/':\n",
    "    print(f'나눗셈 : {num1} / {num2} = {num1/num2}')\n",
    "else:\n",
    "    print('잘못입력하셨습니다')"
   ]
  },
  {
   "cell_type": "markdown",
   "id": "c7acd153",
   "metadata": {},
   "source": [
    "## 할인된 금액 계산\n",
    "\n",
    "* 물건 구매가를 입력받고, 금액에 따른 할인율을 계산하여, 구매가, 할인율, 할인금액, 지불금액을 출력하세요\n",
    "|금액|할인율\n",
    "|-----|-----|\n",
    "|1만원이상 5만원미만|5%|\n",
    "|5만원이상 10만원미만|7%|\n",
    "|10만원이상|10%|\n",
    "\n",
    "- 출력\n",
    "```\n",
    "구매가 :\n",
    "할인율 :\n",
    "할인금액 :\n",
    "지불금액 :\n",
    "```"
   ]
  },
  {
   "cell_type": "code",
   "execution_count": 2,
   "id": "3516c475",
   "metadata": {},
   "outputs": [
    {
     "name": "stdout",
     "output_type": "stream",
     "text": [
      "물건 구매가 : 150000\n",
      "\n",
      "구매가 : 150000\n",
      "할인율 : 10%\n",
      "할인금액 : 15000.0\n",
      "지불금액 : 135000.0\n",
      "\n",
      "\n"
     ]
    }
   ],
   "source": [
    "# a=price\n",
    "a = int(input('물건 구매가 : '))\n",
    "\n",
    "# 할인율 결정\n",
    "if a >= 100000 :\n",
    "    dc = 10\n",
    "elif a >= 50000:\n",
    "    dc = 7\n",
    "elif a >= 10000:\n",
    "    dc = 5\n",
    "else :\n",
    "    dc = 0\n",
    "\n",
    "# 출력    \n",
    "print(f'''\n",
    "구매가 : {a}\n",
    "할인율 : {dc}%\n",
    "할인금액 : {a*(dc/100)}\n",
    "지불금액 : {a - a*(dc/100)}\n",
    "\n",
    "''')"
   ]
  }
 ],
 "metadata": {
  "kernelspec": {
   "display_name": "Python 3 (ipykernel)",
   "language": "python",
   "name": "python3"
  },
  "language_info": {
   "codemirror_mode": {
    "name": "ipython",
    "version": 3
   },
   "file_extension": ".py",
   "mimetype": "text/x-python",
   "name": "python",
   "nbconvert_exporter": "python",
   "pygments_lexer": "ipython3",
   "version": "3.9.13"
  }
 },
 "nbformat": 4,
 "nbformat_minor": 5
}
