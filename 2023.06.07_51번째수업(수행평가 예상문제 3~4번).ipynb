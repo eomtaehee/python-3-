{
 "cells": [
  {
   "cell_type": "markdown",
   "id": "5bec3281",
   "metadata": {},
   "source": [
    "## 수행평가 예상문제\n",
    "> 문제3 <br>\n",
    "상반기 가게부 만들기 프로그램 6개월 <br>\n",
    "상반기 총 수입액<br>\n",
    "상반기 수입액의 평균<br>"
   ]
  },
  {
   "cell_type": "code",
   "execution_count": 1,
   "id": "d1e059ef",
   "metadata": {},
   "outputs": [
    {
     "name": "stdout",
     "output_type": "stream",
     "text": [
      "문제3 가게부 만들기 프로그램\n",
      "월 별로 수입액을 입력시켜 주세요!\n",
      "1월 수입액을 입력시켜 주세요\n",
      "20\n",
      "2월 수입액을 입력시켜 주세요\n",
      "21\n",
      "3월 수입액을 입력시켜 주세요\n",
      "22\n",
      "4월 수입액을 입력시켜 주세요\n",
      "23\n",
      "5월 수입액을 입력시켜 주세요\n",
      "24\n",
      "6월 수입액을 입력시켜 주세요\n",
      "25\n",
      "상반기 월별 수입액 입니다.\n",
      "상반기 월별 수입액 : [20, 21, 22, 23, 24, 25]\n",
      "상반기 월 수입액의 총 합계 : 135만원 입니다.\n",
      "상반기 월 수입액의 평균 : 22.5만원 입니다\n"
     ]
    }
   ],
   "source": [
    "print('문제3 가게부 만들기 프로그램')\n",
    "\n",
    "# 빈 리스트 만들기\n",
    "money = []\n",
    "print('월 별로 수입액을 입력시켜 주세요!')\n",
    "\n",
    "# 월별 수입 입력\n",
    "for j in range(0,6):\n",
    "    print(f'{j+1}월 수입액을 입력시켜 주세요')\n",
    "    # 리스트에 추가 append\n",
    "    money.append(int(input('')))\n",
    "    \n",
    "sum = 0\n",
    "i = 0\n",
    "print('상반기 월별 수입액 입니다.')\n",
    "# 수입총합계, 평균\n",
    "while i < 6 :\n",
    "    sum = sum + money[i]\n",
    "    i +=1\n",
    "    \n",
    "avg = sum/6\n",
    "\n",
    "print(f'상반기 월별 수입액 : {money}')\n",
    "print(f'상반기 월 수입액의 총 합계 : {sum}만원 입니다.')\n",
    "print(f'상반기 월 수입액의 평균 : {avg}만원 입니다')"
   ]
  },
  {
   "cell_type": "markdown",
   "id": "15411c9f",
   "metadata": {},
   "source": [
    "## 문제4\n",
    ">문제4 <br>\n",
    "25명의 학생 번호와 무작위로 입력된 점수 리스트에서 <br>\n",
    "70점 이상인 번호와 값 출력하기"
   ]
  },
  {
   "cell_type": "code",
   "execution_count": 2,
   "id": "6666b2a6",
   "metadata": {},
   "outputs": [
    {
     "name": "stdout",
     "output_type": "stream",
     "text": [
      "점수 리스트 : [72, 99, 48, 24, 50, 78, 28, 15, 86, 35, 2, 10, 43, 36, 87, 74, 64, 36, 28, 47, 80, 55, 15, 3, 55]\n",
      "▶ 점수리스트에서 점수가 70점 이상인 학생의 번호와 점수를 출력\n",
      "1,번, 점수 : 72점\n",
      "2,번, 점수 : 99점\n",
      "6,번, 점수 : 78점\n",
      "9,번, 점수 : 86점\n",
      "15,번, 점수 : 87점\n",
      "16,번, 점수 : 74점\n",
      "21,번, 점수 : 80점\n"
     ]
    }
   ],
   "source": [
    "# 무작위 점수입력 random\n",
    "import random\n",
    "\n",
    "# 빈 리스트\n",
    "score = []\n",
    "# 랜점점수 입력\n",
    "for i in range(0,25) :\n",
    "    score.append(random.randint(0,100))\n",
    "print(f'점수 리스트 : {score}')\n",
    "print('▶ 점수리스트에서 점수가 70점 이상인 학생의 번호와 점수를 출력')\n",
    "\n",
    "# 70점이 넘는 학생의 번호와 점수\n",
    "for s in score :\n",
    "    if s>=70:\n",
    "        print(f'{score.index(s)+1},번, 점수 : {s}점')"
   ]
  }
 ],
 "metadata": {
  "kernelspec": {
   "display_name": "Python 3 (ipykernel)",
   "language": "python",
   "name": "python3"
  },
  "language_info": {
   "codemirror_mode": {
    "name": "ipython",
    "version": 3
   },
   "file_extension": ".py",
   "mimetype": "text/x-python",
   "name": "python",
   "nbconvert_exporter": "python",
   "pygments_lexer": "ipython3",
   "version": "3.9.13"
  }
 },
 "nbformat": 4,
 "nbformat_minor": 5
}
