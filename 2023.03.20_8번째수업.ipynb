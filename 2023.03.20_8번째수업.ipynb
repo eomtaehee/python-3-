{
 "cells": [
  {
   "cell_type": "markdown",
   "id": "df1faddd",
   "metadata": {},
   "source": [
    "# 1. 조건문 if\n",
    "\n",
    "**조건문 : 조건을 충족할 때에만 선택적으로 실행되는 명령어**\n",
    "</br>\n",
    "**=선택구조**\n",
    "</br>\n",
    "\n",
    "\n",
    "```\n",
    "조건 A를 충족할 때에만\n",
    "B해라\n",
    "\n",
    "ex. 성인일 때에만 주류를 판메해라\n",
    "```"
   ]
  },
  {
   "cell_type": "code",
   "execution_count": 1,
   "id": "9960f23a",
   "metadata": {},
   "outputs": [
    {
     "name": "stdout",
     "output_type": "stream",
     "text": [
      "당신의 나이를 입력하세요 : 19\n",
      "술을 구매 할 수 없습니다.\n"
     ]
    }
   ],
   "source": [
    "# 만약 미성년자라면 술을 구매할 수 없다고 출력\n",
    "age = int(input('당신의 나이를 입력하세요 : '))\n",
    "if age < 20 :\n",
    "    # 조건을 충족할 때만 실행\n",
    "    print('술을 구매 할 수 없습니다.')"
   ]
  },
  {
   "cell_type": "markdown",
   "id": "3de68c77",
   "metadata": {},
   "source": [
    "#### 문제1\n",
    "물건 금액을 입력받고 물건이 오만원 미만일 경우 배송비 2500원을 더해서 결제금액을 안내하시오.\n",
    "```\n",
    "물건 가격을 입력하세요?\n",
    "총 결제금액은\n",
    "```"
   ]
  },
  {
   "cell_type": "code",
   "execution_count": 2,
   "id": "a89f1aa9",
   "metadata": {},
   "outputs": [
    {
     "name": "stdout",
     "output_type": "stream",
     "text": [
      "물건 가격 입력 : 45000\n",
      "총 결제금액은 47500\n"
     ]
    }
   ],
   "source": [
    "price = int(input('물건 가격 입력 : '))\n",
    "if price < 50000 :\n",
    "    price += 2500\n",
    "print('총 결제금액은', price)"
   ]
  },
  {
   "cell_type": "markdown",
   "id": "6533fee6",
   "metadata": {},
   "source": [
    "# 2. 조건을 만드는 비교연산자\n",
    "\n",
    "a와 b가 같다면\n",
    "> if a == b :\n",
    "\n",
    "</br>\n",
    "\n",
    "a와 b보다 같지 않다면\n",
    "\n",
    "> if a != b :\n",
    "\n",
    "</br>\n",
    "</br>\n",
    "\n",
    "a가 b보다 크다면\n",
    "> if a > b :\n",
    "\n",
    "a가 b보다 크거나 같다면\n",
    "> if a <= b :\n",
    "\n",
    "a가 b보다 작다면\n",
    "> if a < b :\n",
    "\n",
    "a가 b보다 작거나 같다면\n",
    "> if a <= b :"
   ]
  },
  {
   "cell_type": "markdown",
   "id": "e9be1dfb",
   "metadata": {},
   "source": [
    "# 문제2\n",
    "출석 혹은 결석 둘 중 하나를 입력받고,출석을 입력받았을 경우 O를 출력하기"
   ]
  },
  {
   "cell_type": "code",
   "execution_count": 3,
   "id": "8f24bb50",
   "metadata": {},
   "outputs": [
    {
     "name": "stdout",
     "output_type": "stream",
     "text": [
      "출력 혹은 결석을 입력하세요 : 출석\n",
      "O\n"
     ]
    }
   ],
   "source": [
    "#출력 입력 변수 check\n",
    "check = input('출력 혹은 결석을 입력하세요 : ')\n",
    "if check == '출석' :\n",
    "    print('O')"
   ]
  }
 ],
 "metadata": {
  "kernelspec": {
   "display_name": "Python 3 (ipykernel)",
   "language": "python",
   "name": "python3"
  },
  "language_info": {
   "codemirror_mode": {
    "name": "ipython",
    "version": 3
   },
   "file_extension": ".py",
   "mimetype": "text/x-python",
   "name": "python",
   "nbconvert_exporter": "python",
   "pygments_lexer": "ipython3",
   "version": "3.9.13"
  }
 },
 "nbformat": 4,
 "nbformat_minor": 5
}
