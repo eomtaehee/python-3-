{
 "cells": [
  {
   "cell_type": "markdown",
   "id": "99632041",
   "metadata": {},
   "source": [
    "## 문제1\n",
    "- 1부터 1000까지 숫자 중에서 2의배수이거나 3의배수면 더하는 프로그램"
   ]
  },
  {
   "cell_type": "code",
   "execution_count": 1,
   "id": "d4a0faf5",
   "metadata": {},
   "outputs": [
    {
     "name": "stdout",
     "output_type": "stream",
     "text": [
      "1부터 1000까지 숫자 중에서 2의배수이거나 3의배수면 더하는 프로그램\n",
      "결과 : 334167\n"
     ]
    }
   ],
   "source": [
    "# 변수 결과값, 증가값, while문안에 if\n",
    "# if 2의배수 3의배수\n",
    "\n",
    "print(f'1부터 1000까지 숫자 중에서 2의배수이거나 3의배수면 더하는 프로그램')\n",
    "res = 0\n",
    "num = 1\n",
    "while num <= 1000 :\n",
    "    if num % 2 == 0 or num % 3 == 0 :\n",
    "        # res += num\n",
    "        res = res + num\n",
    "    num += 1\n",
    "print(f'결과 : {res}')"
   ]
  },
  {
   "cell_type": "markdown",
   "id": "a40c743b",
   "metadata": {},
   "source": [
    "## 문제2\n",
    "- 구구단을 외자 게임"
   ]
  },
  {
   "cell_type": "code",
   "execution_count": 2,
   "id": "e9e667de",
   "metadata": {},
   "outputs": [
    {
     "name": "stdout",
     "output_type": "stream",
     "text": [
      "구구단을 외자 게임\n",
      "8 x 2 = ?\n",
      "16\n",
      "정답!\n",
      "3 x 7 = ?\n",
      "21\n",
      "정답!\n",
      "8 x 5 = ?\n",
      "40\n",
      "정답!\n",
      "4 x 6 = ?\n",
      "24\n",
      "정답!\n",
      "9 x 3 = ?\n",
      "27\n",
      "정답!\n",
      "맞춘 횟수 : 5 , 틀린 횟수 : 0\n"
     ]
    }
   ],
   "source": [
    "# 난수 random\n",
    "import random\n",
    "print('구구단을 외자 게임')\n",
    "# 정답, 오답 카운트를 위한 변수 선언\n",
    "t_cnt = 0\n",
    "f_cnt = 0\n",
    "\n",
    "for i in range(5) :\n",
    "    a = random.randint(2,9)\n",
    "    b = random.randint(1,9)\n",
    "    print(f'{a} x {b} = ?')\n",
    "      #정답입력 받기\n",
    "    answer = int(input(''))\n",
    "      #정답인지 오답인 판별 및 갯수 증가\n",
    "    if a*b == answer :\n",
    "            print('정답!')\n",
    "            t_cnt = t_cnt + 1\n",
    "    else :\n",
    "            print('틀렸어요')\n",
    "            f_cnt = f_cnt + 1\n",
    "\n",
    "#출력하기\n",
    "print(f'맞춘 횟수 : {t_cnt} , 틀린 횟수 : {f_cnt}')"
   ]
  },
  {
   "cell_type": "markdown",
   "id": "44463dcd",
   "metadata": {},
   "source": [
    "## 문제3\n",
    "- 가게부 만들기 프로그램\n",
    "\n",
    "[조건]<br>\n",
    "1월부터 6월까지 수입을 입력 <br>\n",
    "상반기 월별 수입 총액<br>\n",
    "상반기 월별 수입 평균<br>"
   ]
  },
  {
   "cell_type": "code",
   "execution_count": 3,
   "id": "4559d687",
   "metadata": {},
   "outputs": [
    {
     "name": "stdout",
     "output_type": "stream",
     "text": [
      "문제3 상반기 가게부 만들기 프로그램\n",
      "월 별로 수입액을 입력시켜 주세요!\n",
      "1월의 수입액을 입력시켜 주세요!!\n",
      "20\n",
      "2월의 수입액을 입력시켜 주세요!!\n",
      "21\n",
      "3월의 수입액을 입력시켜 주세요!!\n",
      "22\n",
      "4월의 수입액을 입력시켜 주세요!!\n",
      "23\n",
      "5월의 수입액을 입력시켜 주세요!!\n",
      "24\n",
      "6월의 수입액을 입력시켜 주세요!!\n",
      "25\n",
      "상반기 월별 수입액 입니다.\n",
      "월별 입력 수입액 : [20, 21, 22, 23, 24, 25]\n",
      "상반기 월 수입액의 총수입 : 135만원 입니다.\n",
      "상반기 월 수입액의 평균 : 22.5만원 입니다.\n"
     ]
    }
   ],
   "source": [
    "print('문제3 상반기 가게부 만들기 프로그램')\n",
    "\n",
    "#빈 리스트 만들기\n",
    "money = []\n",
    "\n",
    "print('월 별로 수입액을 입력시켜 주세요!')\n",
    "# 월 별 수입 입력\n",
    "for j in range(0,6):\n",
    "    print(f'{j+1}월의 수입액을 입력시켜 주세요!!')\n",
    "    #입력받기 -> 빈리스트에 추가 append\n",
    "    money.append(int(input('')))\n",
    "    \n",
    "#누적 변수\n",
    "sum = 0\n",
    "#증가 변수\n",
    "i = 0\n",
    "\n",
    "print('상반기 월별 수입액 입니다.')\n",
    "#수입총합, 평균 구하기\n",
    "while i<6:\n",
    "    #누적 합계\n",
    "    sum = sum + money[i]\n",
    "    i += 1\n",
    "\n",
    "#전체 평균\n",
    "avg = sum / 6\n",
    "print(f'월별 입력 수입액 : {money}')\n",
    "print(f'상반기 월 수입액의 총수입 : {sum}만원 입니다.')\n",
    "print(f'상반기 월 수입액의 평균 : {avg}만원 입니다.')"
   ]
  },
  {
   "cell_type": "markdown",
   "id": "e451f9eb",
   "metadata": {},
   "source": [
    "## 문제4\n",
    "- 조건에 맞는 학생 번호 점수 줄력 프로그램\n",
    "\n",
    "[조건] <br>\n",
    "25명의 학생 번호와 무작위로 입력된 점수 리스트에서<br>\n",
    "70점 이상인 번호와 값 출력하기"
   ]
  },
  {
   "cell_type": "code",
   "execution_count": 4,
   "id": "2fc978e8",
   "metadata": {},
   "outputs": [
    {
     "name": "stdout",
     "output_type": "stream",
     "text": [
      "리스트 만들기 : [95, 75, 41, 78, 11, 37, 28, 33, 89, 89, 38, 25, 98, 19, 32, 7, 80, 70, 74, 5, 72, 61, 44, 94, 14]\n",
      "▶ 리스트에서 정수가 70점 이상인 번호와 값 출력하기\n",
      "1번, 값 : 95\n",
      "2번, 값 : 75\n",
      "4번, 값 : 78\n",
      "9번, 값 : 89\n",
      "9번, 값 : 89\n",
      "13번, 값 : 98\n",
      "17번, 값 : 80\n",
      "18번, 값 : 70\n",
      "19번, 값 : 74\n",
      "21번, 값 : 72\n",
      "24번, 값 : 94\n"
     ]
    }
   ],
   "source": [
    "import random\n",
    "score = []\n",
    "\n",
    "# 점수리스트 만들기\n",
    "for i in range(0,25) :\n",
    "    score.append(random.randint(0,100))\n",
    "print(f'리스트 만들기 : {score}')\n",
    "print('▶ 리스트에서 정수가 70점 이상인 번호와 값 출력하기')\n",
    "\n",
    "# 70점이 넘는 학생 번호 점수 출력\n",
    "for s in score :\n",
    "    if s>=70 :\n",
    "        print(f'{score.index(s)+1}번, 값 : {s}')"
   ]
  }
 ],
 "metadata": {
  "kernelspec": {
   "display_name": "Python 3 (ipykernel)",
   "language": "python",
   "name": "python3"
  },
  "language_info": {
   "codemirror_mode": {
    "name": "ipython",
    "version": 3
   },
   "file_extension": ".py",
   "mimetype": "text/x-python",
   "name": "python",
   "nbconvert_exporter": "python",
   "pygments_lexer": "ipython3",
   "version": "3.9.13"
  }
 },
 "nbformat": 4,
 "nbformat_minor": 5
}
