{
 "cells": [
  {
   "cell_type": "markdown",
   "id": "97d29502",
   "metadata": {},
   "source": [
    "## 문제1\n",
    "### while 문 반복 알아보기\n",
    "> - 반복 구조repetition structure 또는 루프loop\n",
    ">> - 어떤 조건이 성립하는 동안 반복해서 처리\n",
    "     (프로그램 명령문 또는 명령어의 집합)\n",
    "### 판단 반복 구조\n",
    ">> - while 문이 실행하기 전에 반복을 계속할 것인지 판단하는 구조 <br>\n",
    "> -  조건신의 평가 결과가 참인 동안 프로그램의 명령문이 반복됨\n",
    "### 실습 1-7\n",
    "> - 1부터 n까지 정수의 합을 구하는 프로그램"
   ]
  },
  {
   "cell_type": "code",
   "execution_count": 1,
   "id": "05e7640b",
   "metadata": {},
   "outputs": [
    {
     "name": "stdout",
     "output_type": "stream",
     "text": [
      "1부터 n까지 정수의 합을 구합니다.\n",
      "n값을 입력하세요.: 2\n",
      "1부터 2까지 정수의 합은 3입니다.\n"
     ]
    }
   ],
   "source": [
    "# 1부터 n까지 정수의 합 구하기 1(while 문)\n",
    "\n",
    "print('1부터 n까지 정수의 합을 구합니다.')\n",
    "n = int(input('n값을 입력하세요.: '))\n",
    "\n",
    "sum = 0\n",
    "i = 1\n",
    "\n",
    "while i <= n:   #i가 n보다 작거나 같은 동안 반복\n",
    "    sum += i    # sum에 i를 더함\n",
    "    i += 1      # i에 1을 더함\n",
    "\n",
    "print(f'1부터 {n}까지 정수의 합은 {sum}입니다.')"
   ]
  },
  {
   "cell_type": "markdown",
   "id": "ab689c9a",
   "metadata": {},
   "source": [
    "### 1부터 n까지 정수의 합 구하기 - (3)\n",
    "> - for 문 반복 알아보기\n",
    ">> - 변수가 하나만 있을 때는 while 문보다 for 문을 사용하는 것이 졸음\n",
    "### 실습 1-8\n",
    "> - 1부터 n까지 정수의 합을 for 문으로 구하는 프로그램"
   ]
  },
  {
   "cell_type": "code",
   "execution_count": 2,
   "id": "0d1f11bb",
   "metadata": {},
   "outputs": [
    {
     "name": "stdout",
     "output_type": "stream",
     "text": [
      "1부터 n까지 정수의 합을 구합니다.\n",
      "n값을 입력하세요.: 3\n",
      "1부터 3까지 정수의 합은 6입니다.\n"
     ]
    }
   ],
   "source": [
    "# 1부터 n까지 정수의 정수의 합 구하기 2(for 문)\n",
    "\n",
    "print('1부터 n까지 정수의 합을 구합니다.')\n",
    "n = int(input('n값을 입력하세요.: '))\n",
    "\n",
    "sum = 0\n",
    "for i in range(1, n + 1):\n",
    "    sum += i #sum에 i를 더함\n",
    "    \n",
    "print(f'1부터 {n}까지 정수의 합은 {sum}입니다.')"
   ]
  },
  {
   "cell_type": "markdown",
   "id": "3c33bfde",
   "metadata": {},
   "source": [
    "## 연속하는 정수의 합을 구하기 위해 값 정렬하기\n",
    "### 실습 1-9\n",
    "> - 두 정수 a와 b를 오름차순으로 정렬한 다음 해당 범위의 모든 정수를 더하는 프로그램\n",
    "> - a가  b보다 크면 둘을 교환하여 a와 b를 오름차순으로 정렬\n",
    ">> - 실행 결과 1에서는 a와 b를 교환하여 않음\n",
    ">> - 실행 결과 2에서는 a와 b를 교환하여 출력 <br>\n",
    "> - a와 b 교환 시 단일 대입문 사용"
   ]
  },
  {
   "cell_type": "code",
   "execution_count": 3,
   "id": "ef97bc3c",
   "metadata": {},
   "outputs": [
    {
     "name": "stdout",
     "output_type": "stream",
     "text": [
      "a부터 b까지 정수의 합을 구합니다.\n",
      "정수 a를 입력하세요.: 3\n",
      "정수 b를 입력하세요.: 6\n",
      "3부터 6까지 정수의 합은 18입니다.\n"
     ]
    }
   ],
   "source": [
    "# a부터 b까지 정수의 합 구하기(for 문)\n",
    "\n",
    "print('a부터 b까지 정수의 합을 구합니다.')\n",
    "a = int(input('정수 a를 입력하세요.: '))\n",
    "b = int(input('정수 b를 입력하세요.: '))\n",
    "\n",
    "if a > b:\n",
    "    a,b = b,a #a와 b를 오름차순으로 정렬\n",
    "    \n",
    "sum = 0\n",
    "for i in range(a, b + 1):\n",
    "    sum += i    #sum에 i를 더함\n",
    "    \n",
    "print(f'{a}부터 {b}까지 정수의 합은 {sum}입니다.')"
   ]
  }
 ],
 "metadata": {
  "kernelspec": {
   "display_name": "Python 3 (ipykernel)",
   "language": "python",
   "name": "python3"
  },
  "language_info": {
   "codemirror_mode": {
    "name": "ipython",
    "version": 3
   },
   "file_extension": ".py",
   "mimetype": "text/x-python",
   "name": "python",
   "nbconvert_exporter": "python",
   "pygments_lexer": "ipython3",
   "version": "3.9.13"
  }
 },
 "nbformat": 4,
 "nbformat_minor": 5
}
