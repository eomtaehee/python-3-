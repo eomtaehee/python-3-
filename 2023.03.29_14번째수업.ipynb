{
 "cells": [
  {
   "cell_type": "markdown",
   "id": "ce37983b",
   "metadata": {},
   "source": [
    "## 5. 랜덤 구구단 게임 작성하기\n",
    "\n",
    "> 랜덤으로 곱셈문제를 내고, 답을 맞추는 게임 <br>\n",
    "  라이브러리 random ->  import random"
   ]
  },
  {
   "cell_type": "code",
   "execution_count": 1,
   "id": "132d94a0",
   "metadata": {},
   "outputs": [
    {
     "data": {
      "text/plain": [
       "0.4539283183200994"
      ]
     },
     "execution_count": 1,
     "metadata": {},
     "output_type": "execute_result"
    }
   ],
   "source": [
    "# 난수 알아보기\n",
    "import random\n",
    "\n",
    "random.random()"
   ]
  },
  {
   "cell_type": "code",
   "execution_count": 2,
   "id": "f79d6033",
   "metadata": {},
   "outputs": [
    {
     "data": {
      "text/plain": [
       "4"
      ]
     },
     "execution_count": 2,
     "metadata": {},
     "output_type": "execute_result"
    }
   ],
   "source": [
    "# 난수중에 정수를 사용하는 함수 randint\n",
    "random.randint(1,10)"
   ]
  },
  {
   "cell_type": "code",
   "execution_count": 3,
   "id": "61c7891c",
   "metadata": {},
   "outputs": [
    {
     "name": "stdout",
     "output_type": "stream",
     "text": [
      "Help on method randint in module random:\n",
      "\n",
      "randint(a, b) method of random.Random instance\n",
      "    Return random integer in range [a, b], including both end points.\n",
      "\n"
     ]
    }
   ],
   "source": [
    "help(random.randint)"
   ]
  },
  {
   "cell_type": "markdown",
   "id": "f30bd9d6",
   "metadata": {},
   "source": [
    "### 구구단 게임 형식\n",
    "\n",
    "```\n",
    "구구단을 외자! 구구단을 외자!\n",
    "7 X 9 ? 63\n",
    "3 X 7 ? 21\n",
    "....\n",
    "```"
   ]
  },
  {
   "cell_type": "code",
   "execution_count": 4,
   "id": "5f3b3d90",
   "metadata": {},
   "outputs": [
    {
     "name": "stdout",
     "output_type": "stream",
     "text": [
      "8 x 8 =\n",
      "6 x 9 =\n",
      "3 x 4 =\n",
      "4 x 1 =\n",
      "3 x 6 =\n"
     ]
    }
   ],
   "source": [
    "#구구단 게임\n",
    "import random\n",
    "\n",
    "for i in range(5) :\n",
    "    num1 = random.randint(2,9)\n",
    "    num2 = random.randint(1,9)\n",
    "    print(num1, 'x', num2,'=')"
   ]
  },
  {
   "cell_type": "code",
   "execution_count": 8,
   "id": "5aa98ec2",
   "metadata": {},
   "outputs": [
    {
     "name": "stdout",
     "output_type": "stream",
     "text": [
      "구구단을 외우자 구구단을 외우자\n",
      "7 x 9 = 63\n",
      "9 x 4 = 36\n",
      "8 x 2 = 16\n",
      "2 x 6 = 12\n",
      "7 x 4 = 32\n",
      "땡!!! 정답은  28\n"
     ]
    }
   ],
   "source": [
    "# 구구단 게임에 입력칸을 만들어 봅시다. input\n",
    "import random\n",
    "print('구구단을 외우자 구구단을 외우자')\n",
    "for i in range(5) :\n",
    "    num1 = random.randint(2,9)\n",
    "    num2 = random.randint(1,9)\n",
    "    question = str(num1)+ ' x '+str(num2)+' = '\n",
    "    #입력된 답을 저장하는 변수 만들어 봅시다.\n",
    "    answer = int(input(question))\n",
    "    \n",
    "    #정답확인을 만들어 봅시다.\n",
    "    if answer != num1*num2 :\n",
    "        print('땡!!! 정답은 ', num1*num2)"
   ]
  }
 ],
 "metadata": {
  "kernelspec": {
   "display_name": "Python 3 (ipykernel)",
   "language": "python",
   "name": "python3"
  },
  "language_info": {
   "codemirror_mode": {
    "name": "ipython",
    "version": 3
   },
   "file_extension": ".py",
   "mimetype": "text/x-python",
   "name": "python",
   "nbconvert_exporter": "python",
   "pygments_lexer": "ipython3",
   "version": "3.9.13"
  }
 },
 "nbformat": 4,
 "nbformat_minor": 5
}
