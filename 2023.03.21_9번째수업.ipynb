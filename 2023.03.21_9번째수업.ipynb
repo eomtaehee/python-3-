{
 "cells": [
  {
   "cell_type": "markdown",
   "id": "dfd958e6",
   "metadata": {},
   "source": [
    "## 복습\n",
    "```\n",
    "물건 금액을 입력받고 물건이 오만원 미만일 경우\n",
    "배송비 2500원을 더해서 결제금액을 안내하시오.\n",
    "```"
   ]
  },
  {
   "cell_type": "code",
   "execution_count": 1,
   "id": "f0859d72",
   "metadata": {},
   "outputs": [
    {
     "name": "stdout",
     "output_type": "stream",
     "text": [
      "물건 가격 입력 : 49990\n",
      "총 결제금액은 52490\n"
     ]
    }
   ],
   "source": [
    "price = int(input('물건 가격 입력 : '))\n",
    "\n",
    "if price < 50000 :\n",
    "    price = price + 2500\n",
    "    \n",
    "print('총 결제금액은', price)"
   ]
  },
  {
   "cell_type": "markdown",
   "id": "128cb013",
   "metadata": {},
   "source": [
    "# 3. if-else조건문\n",
    "조건을 충족하지 않을 때 실행하는 명령어\n",
    "```\n",
    "만약 조건 A라면,\n",
    "     B해라\n",
    "그렇지 않으면,\n",
    "     C해라\n",
    "```"
   ]
  },
  {
   "cell_type": "code",
   "execution_count": 3,
   "id": "e32d5c15",
   "metadata": {},
   "outputs": [
    {
     "name": "stdout",
     "output_type": "stream",
     "text": [
      "당신의 나이는? 21\n",
      "감사합니다. 안녕히 가세요\n"
     ]
    }
   ],
   "source": [
    "age = int(input('당신의 나이는? '))\n",
    "\n",
    "# 20을 기준으로 분기해 봅시다.\n",
    "if age < 20 :\n",
    "    print('술을 구매할 수 없습니다.')\n",
    "else :\n",
    "    print('감사합니다. 안녕히 가세요')"
   ]
  },
  {
   "cell_type": "markdown",
   "id": "e9dc5a0d",
   "metadata": {},
   "source": [
    "자동 출석 시스템\n",
    "```\n",
    "출석 혹은 결석을 입력받아 출석이면 0을 출력, 출석이 아니면 X를 출력하기\n",
    "입력안내문 : 출석 혹은 결석을 입력하세요\n",
    "```"
   ]
  },
  {
   "cell_type": "code",
   "execution_count": 4,
   "id": "407ab92b",
   "metadata": {},
   "outputs": [
    {
     "name": "stdout",
     "output_type": "stream",
     "text": [
      "출석 혹은 결석을 입력하세요 결석\n",
      "X\n"
     ]
    }
   ],
   "source": [
    "check = input('출석 혹은 결석을 입력하세요 ')\n",
    "if check == '출석' :\n",
    "    print('O')\n",
    "else :\n",
    "    print('X')"
   ]
  }
 ],
 "metadata": {
  "kernelspec": {
   "display_name": "Python 3 (ipykernel)",
   "language": "python",
   "name": "python3"
  },
  "language_info": {
   "codemirror_mode": {
    "name": "ipython",
    "version": 3
   },
   "file_extension": ".py",
   "mimetype": "text/x-python",
   "name": "python",
   "nbconvert_exporter": "python",
   "pygments_lexer": "ipython3",
   "version": "3.9.13"
  }
 },
 "nbformat": 4,
 "nbformat_minor": 5
}
