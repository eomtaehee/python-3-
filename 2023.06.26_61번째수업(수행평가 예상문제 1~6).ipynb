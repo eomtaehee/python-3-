{
 "cells": [
  {
   "cell_type": "markdown",
   "id": "55fab363",
   "metadata": {},
   "source": [
    "## 수행평가 예상문제1\n",
    "> 문제1<br>\n",
    "1부터 1000까지 숫자 중에<br>\n",
    "2의배수 이거나<br>\n",
    "3의배수면<br>\n",
    "더하는 프로그램 작성"
   ]
  },
  {
   "cell_type": "code",
   "execution_count": 1,
   "id": "ecb7b64c",
   "metadata": {},
   "outputs": [
    {
     "name": "stdout",
     "output_type": "stream",
     "text": [
      "1부터 1000까지 2의배수이거나 3의배수면 더하는 프로그램\n",
      "총합계 결과 : 334167\n"
     ]
    }
   ],
   "source": [
    "# 변수 2개 결과값, 증가값\n",
    "# while for\n",
    "# if 2의배수 3의배수\n",
    "print('1부터 1000까지 2의배수이거나 3의배수면 더하는 프로그램')\n",
    "result = 0\n",
    "num = 1\n",
    "while num <= 1000:\n",
    "    if num % 2 == 0 or num % 3 == 0 :\n",
    "        result += num\n",
    "    num += 1\n",
    "print(f'총합계 결과 : {result}')"
   ]
  },
  {
   "cell_type": "markdown",
   "id": "7bf7cbbb",
   "metadata": {},
   "source": [
    "## 수행평가 예상문제\n",
    "> 문제 2<br>\n",
    "구구단을 외자!!! 게임 프로그램"
   ]
  },
  {
   "cell_type": "code",
   "execution_count": 4,
   "id": "af765991",
   "metadata": {},
   "outputs": [
    {
     "name": "stdout",
     "output_type": "stream",
     "text": [
      "구구단을 외자!!! 게임 프로그램\n",
      "8 x 2 = ?\n",
      "16\n",
      "정답!\n",
      "4 x 1 = ?\n",
      "4\n",
      "정답!\n",
      "9 x 8 = ?\n",
      "72\n",
      "정답!\n",
      "5 x 5 = ?\n",
      "25\n",
      "정답!\n",
      "2 x 1 = ?\n",
      "2\n",
      "정답!\n",
      "정답 갯수 : 5, 오답 갯수 : 0\n"
     ]
    }
   ],
   "source": [
    "# 난수 랜덤 random\n",
    "import random\n",
    "print('구구단을 외자!!! 게임 프로그램')\n",
    "\n",
    "# 정답, 오답 카운트를 위한 변수 선언\n",
    "t_cnt = 0\n",
    "f_cnt = 0\n",
    "\n",
    "for i in range(5) :\n",
    "    a = random.randint(2,9)\n",
    "    b = random.randint(1,9)\n",
    "    print(f'{a} x {b} = ?')\n",
    "    # 정답 입력 받기\n",
    "    answer = int(input(''))\n",
    "    if a * b == answer :\n",
    "        print('정답!')\n",
    "        # t_cnt += 1\n",
    "        t_cnt = t_cnt + 1\n",
    "    else :\n",
    "        print('오답!')\n",
    "        f_cnt = f_cnt + 1\n",
    "\n",
    "print(f'정답 갯수 : {t_cnt}, 오답 갯수 : {f_cnt}')"
   ]
  },
  {
   "cell_type": "markdown",
   "id": "aaef1f76",
   "metadata": {},
   "source": [
    "## 수행평가 예상문제\n",
    "> 문제3<br>\n",
    "상반기 가게부 만들기 프로그램 6개월<br>\n",
    "상반기 총 수입액<br>\n",
    "상반기 수입액의 평균"
   ]
  },
  {
   "cell_type": "code",
   "execution_count": 5,
   "id": "b07420ab",
   "metadata": {},
   "outputs": [
    {
     "name": "stdout",
     "output_type": "stream",
     "text": [
      "문제3 가게부 만들기 프로그램\n",
      "월 별로 수입액을 입력시켜 주세요!\n",
      "1월 수입액을 입력시켜 주세요\n",
      "10\n",
      "2월 수입액을 입력시켜 주세요\n",
      "20\n",
      "3월 수입액을 입력시켜 주세요\n",
      "30\n",
      "4월 수입액을 입력시켜 주세요\n",
      "40\n",
      "5월 수입액을 입력시켜 주세요\n",
      "50\n",
      "6월 수입액을 입력시켜 주세요\n",
      "60\n",
      "상반기 월별 구입액 입니다.\n",
      "상반기 월별 수입액 : [10, 20, 30, 40, 50, 60]\n",
      "상반기 월 수입액의 총합계 : 210만원 입니다.\n",
      "상반기 월 수입액의 평균 : 35.0만원 입니다.\n"
     ]
    }
   ],
   "source": [
    "print('문제3 가게부 만들기 프로그램')\n",
    "\n",
    "# 빈 리스트 만들기\n",
    "money = []\n",
    "print('월 별로 수입액을 입력시켜 주세요!')\n",
    "\n",
    "# 월별 수입 입력\n",
    "for j in range(0,6):\n",
    "    print(f'{j+1}월 수입액을 입력시켜 주세요')\n",
    "    # 리스트에 추가 append\n",
    "    money.append(int(input('')))\n",
    "    \n",
    "sum = 0\n",
    "i = 0\n",
    "print('상반기 월별 구입액 입니다.')\n",
    "# 수입총합계, 평균\n",
    "while i < 6:\n",
    "    # 누적 합계\n",
    "    sum = sum + money[i]\n",
    "    i += 1\n",
    "# 평균\n",
    "avg = sum/6\n",
    "\n",
    "print(f'상반기 월별 수입액 : {money}')\n",
    "print(f'상반기 월 수입액의 총합계 : {sum}만원 입니다.')\n",
    "print(f'상반기 월 수입액의 평균 : {avg}만원 입니다.')"
   ]
  },
  {
   "cell_type": "markdown",
   "id": "c00401de",
   "metadata": {},
   "source": [
    "## 수행평가 예상문제\n",
    "> 문제4<br>\n",
    "25명의 학생 번호와 무작위로 입력된 점수 리스트에서<br>\n",
    "70점 이상인 번호와 값 출력하기"
   ]
  },
  {
   "cell_type": "code",
   "execution_count": 6,
   "id": "569f4ec0",
   "metadata": {},
   "outputs": [
    {
     "name": "stdout",
     "output_type": "stream",
     "text": [
      "점수 리스트 : [26, 37, 52, 71, 73, 71, 93, 32, 69, 40, 30, 48, 100, 3, 18, 76, 43, 100, 45, 21, 26, 36, 70, 53, 23]\n",
      "▶ 점수리스트에서 점수가 70점 이상인 학생의 번호와 점수를 출력\n",
      "4번, 점수 : 71점\n",
      "5번, 점수 : 73점\n",
      "4번, 점수 : 71점\n",
      "7번, 점수 : 93점\n",
      "13번, 점수 : 100점\n",
      "16번, 점수 : 76점\n",
      "13번, 점수 : 100점\n",
      "23번, 점수 : 70점\n"
     ]
    }
   ],
   "source": [
    "# 무작위 점수입력 random\n",
    "import random\n",
    "\n",
    "# 빈 리스트\n",
    "score = []\n",
    "# 랜덤점수 입력\n",
    "for i in range(0,25):\n",
    "    score.append(random.randint(0,100))\n",
    "print(f'점수 리스트 : {score}')\n",
    "print('▶ 점수리스트에서 점수가 70점 이상인 학생의 번호와 점수를 출력')\n",
    "\n",
    "# 70점이 넘는 학생의 번호와 점수\n",
    "for s in score :\n",
    "    if s>=70:\n",
    "        print(f'{score.index(s)+1}번, 점수 : {s}점')"
   ]
  },
  {
   "cell_type": "markdown",
   "id": "7a6e4a60",
   "metadata": {},
   "source": [
    "## 수행평가 예상문제\n",
    "> 문제 5\n",
    "지하철 노선 맞추는 게임 프로그램\n",
    "```\n",
    "신분당선 = ['광교','광교중앙','상현','성복','수지구청','동천','미금','정자','판교','청계산입구','양재시민의숲','양재','강남','신논현','논현','신사']\n",
    "팔호선 = ['모란','수진','신흥','단대오거리','남한산성입구','산성','남위례','복정','장지','문정','가락시장','송파','석촌','잠실','몽촌토성','강동구청','천호','암사']\n",
    "```"
   ]
  },
  {
   "cell_type": "code",
   "execution_count": 7,
   "id": "72b1a27b",
   "metadata": {},
   "outputs": [
    {
     "name": "stdout",
     "output_type": "stream",
     "text": [
      "지하철~~~╰(*°▽°*)╯지하철~~~╰(*°▽°*)╯지하철~~~╰(*°▽°*)╯\n",
      "*몇호선 ?신분당선\n",
      "역이름을 입력하세요 ?강남\n",
      "역이름을 입력하세요 ?단대오거리\n",
      "땡!!! 단대오거리역은 신분당선의 노선이 아닙니다.\n",
      "벌칙 당첨!!!\n"
     ]
    }
   ],
   "source": [
    "신분당선 = ['광교','광교중앙','상현','성복','수지구청','동천','미금','정자','판교','청계산입구',\n",
    "        '양재시민의숲','양재','강남','신논현','논현','신사']\n",
    "팔호선 = ['모란','수진','신흥','단대오거리','남한산성입구','산성','남위례','복정','장지','문정',\n",
    "       '가락시장','송파','석촌','잠실','몽촌토성','강동구청','천호','암사']\n",
    "\n",
    "print('지하철~~~╰(*°▽°*)╯'*3)\n",
    "호선 = input('*몇호선 ?')\n",
    "\n",
    "# 5번 반복\n",
    "for i in range(5) :\n",
    "    if 호선 == '신분당선':\n",
    "        입력 = input('역이름을 입력하세요 ?')\n",
    "        if 입력 not in 신분당선 :\n",
    "            print(f'땡!!! {입력}역은 {호선}의 노선이 아닙니다.')\n",
    "            print('벌칙 당첨!!!')\n",
    "            break\n",
    "    if 호선 == '팔호선':\n",
    "        입력 = input('역이름을 입력하세요 ?')\n",
    "        if 입력 not in 팔호선 :\n",
    "            print(f'땡!!! {입력}역은 {호선}의 노선이 아닙니다.')\n",
    "            print('벌칙 당첨!!!')\n",
    "            break"
   ]
  },
  {
   "cell_type": "markdown",
   "id": "351361d5",
   "metadata": {},
   "source": [
    "# 수행평가 예상문제\n",
    "> 문제 6<br>\n",
    "영어단어장 만들기 프로그램"
   ]
  },
  {
   "cell_type": "code",
   "execution_count": 8,
   "id": "ba3a25ff",
   "metadata": {},
   "outputs": [
    {
     "name": "stdout",
     "output_type": "stream",
     "text": [
      "영어단어,뜻: banana,바나나\n",
      "영어단어,뜻: apple,사과\n",
      "영어단어,뜻: \n"
     ]
    },
    {
     "data": {
      "text/plain": [
       "{'banana': '바나나', 'apple': '사과'}"
      ]
     },
     "execution_count": 8,
     "metadata": {},
     "output_type": "execute_result"
    }
   ],
   "source": [
    "# 빈 딕셔너리 만들기\n",
    "dict_word={}\n",
    "\n",
    "# 공백을 입력할때까지 입력 키값과 벨류값 받기\n",
    "while True:\n",
    "    input_word = input('영어단어,뜻: ')\n",
    "    if input_word=='':\n",
    "        break\n",
    "    # 키 값과 밸류값 분리하기\n",
    "    eng = input_word.split(',')[0]\n",
    "    kor = input_word.split(',')[1]\n",
    "    \n",
    "    # 키값과 밸류값 저장하기\n",
    "    dict_word[eng] = kor\n",
    "    \n",
    "# 출력하기\n",
    "dict_word"
   ]
  }
 ],
 "metadata": {
  "kernelspec": {
   "display_name": "Python 3 (ipykernel)",
   "language": "python",
   "name": "python3"
  },
  "language_info": {
   "codemirror_mode": {
    "name": "ipython",
    "version": 3
   },
   "file_extension": ".py",
   "mimetype": "text/x-python",
   "name": "python",
   "nbconvert_exporter": "python",
   "pygments_lexer": "ipython3",
   "version": "3.9.13"
  }
 },
 "nbformat": 4,
 "nbformat_minor": 5
}
