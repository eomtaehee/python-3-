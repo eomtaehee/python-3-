{
 "cells": [
  {
   "cell_type": "markdown",
   "id": "5756cdbf",
   "metadata": {},
   "source": [
    "### 문제1\n",
    "> 반복 과정에서 조건 판단하기 <br>\n",
    "  a부터 b까지 정수의 합을 구하는 과정과 최종합을 출력하는 프로그램"
   ]
  },
  {
   "cell_type": "code",
   "execution_count": 1,
   "id": "f78273b0",
   "metadata": {},
   "outputs": [
    {
     "name": "stdout",
     "output_type": "stream",
     "text": [
      "a부터 b까지 정수의 합을 구합니다.\n",
      "정수 a를 입력하세요.: 15\n",
      "정수 b를 입력하세요.: 25\n",
      "15 + 16 + 17 + 18 + 19 + 20 + 21 + 22 + 23 + 24 + 25 = 220\n"
     ]
    }
   ],
   "source": [
    "# a부터 b까지 정수의 합 구하기 2\n",
    "\n",
    "print('a부터 b까지 정수의 합을 구합니다.')\n",
    "a = int(input('정수 a를 입력하세요.: '))\n",
    "b = int(input('정수 b를 입력하세요.: '))\n",
    "\n",
    "if a > b:\n",
    "    a, b = b, a\n",
    "    \n",
    "sum = 0\n",
    "for i in range(a, b):\n",
    "    print(f'{i} + ', end='')\n",
    "    sum += i #sum에 i를 더함\n",
    "    \n",
    "print(f'{b} = ', end ='')\n",
    "sum += b   #sum에 b를 더함\n",
    "\n",
    "print(sum)"
   ]
  },
  {
   "cell_type": "markdown",
   "id": "9021076c",
   "metadata": {},
   "source": [
    "### 문제2\n",
    "> 특정 문자를 줄바꿈 없이 연속으로 출력하는 프로그램"
   ]
  },
  {
   "cell_type": "code",
   "execution_count": 2,
   "id": "5e9e96c8",
   "metadata": {},
   "outputs": [
    {
     "name": "stdout",
     "output_type": "stream",
     "text": [
      "+와 -를 번갈아 출력합니다.\n",
      "몇 개를 출력할까요?: 10\n",
      "+-+-+-+-+-\n"
     ]
    }
   ],
   "source": [
    "# +와 -를 번갈아 출력하기 1\n",
    "\n",
    "print('+와 -를 번갈아 출력합니다.')\n",
    "n = int(input('몇 개를 출력할까요?: '))\n",
    "\n",
    "for i in range(n):\n",
    "    if i % 2:\n",
    "        print('-', end='')\n",
    "    else:\n",
    "        print('+', end='')\n",
    "        \n",
    "print()"
   ]
  },
  {
   "cell_type": "markdown",
   "id": "1d91c40d",
   "metadata": {},
   "source": [
    "### 문제3\n",
    "> *를 n개 출력하되 w개 마다 줄바꿈을 하는프로그램"
   ]
  },
  {
   "cell_type": "code",
   "execution_count": 3,
   "id": "ce512e3c",
   "metadata": {},
   "outputs": [
    {
     "name": "stdout",
     "output_type": "stream",
     "text": [
      "*를 출력합니다.\n",
      "몇 개를 출력할까요?: 10\n",
      "몇 개마다 줄바꿈할까요?: 5\n",
      "*****\n",
      "*****\n"
     ]
    }
   ],
   "source": [
    "# *를 n개 출력하되 w개마다 줄바꿈하기 1\n",
    "\n",
    "print('*를 출력합니다.')\n",
    "n = int(input('몇 개를 출력할까요?: '))\n",
    "w = int(input('몇 개마다 줄바꿈할까요?: '))\n",
    "\n",
    "for i in range(n):           #n번 반복\n",
    "    print('*', end='')       #n번 판단\n",
    "    if i % w == w - 1:      #줄바꿈\n",
    "        print()\n",
    "        \n",
    "if n % w:                   #1번 판단\n",
    "    print()                 #줄바꿈"
   ]
  }
 ],
 "metadata": {
  "kernelspec": {
   "display_name": "Python 3 (ipykernel)",
   "language": "python",
   "name": "python3"
  },
  "language_info": {
   "codemirror_mode": {
    "name": "ipython",
    "version": 3
   },
   "file_extension": ".py",
   "mimetype": "text/x-python",
   "name": "python",
   "nbconvert_exporter": "python",
   "pygments_lexer": "ipython3",
   "version": "3.9.13"
  }
 },
 "nbformat": 4,
 "nbformat_minor": 5
}
