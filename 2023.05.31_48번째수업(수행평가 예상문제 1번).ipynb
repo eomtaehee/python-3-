{
 "cells": [
  {
   "cell_type": "markdown",
   "id": "7b010d53",
   "metadata": {},
   "source": [
    "## 수행평가 예상문제 1\n",
    "> 문제1 <br>\n",
    "1부터 1000까지 숫자 중에 <br>\n",
    "2의배수 이거나 <br>\n",
    "3의배수면 <br>\n",
    "더하는 프로그램 작성"
   ]
  },
  {
   "cell_type": "code",
   "execution_count": 1,
   "id": "8ea138b5",
   "metadata": {},
   "outputs": [
    {
     "name": "stdout",
     "output_type": "stream",
     "text": [
      "1부터 1000까지 2의배수이거나 3의배수면 더하는 프로그램\n",
      "총 합계 : 334167\n"
     ]
    }
   ],
   "source": [
    "# 변수 2개 결과값, 증가값\n",
    "# (while) for\n",
    "# if 2의배수 (or) 3의배수\n",
    "print('1부터 1000까지 2의배수이거나 3의배수면 더하는 프로그램')\n",
    "result = 0\n",
    "num = 1\n",
    "while num <= 1000 :\n",
    "    if num % 2 == 0 or num % 3 == 0 :\n",
    "        result += num\n",
    "    num += 1\n",
    "print(f'총 합계 : {result}')"
   ]
  }
 ],
 "metadata": {
  "kernelspec": {
   "display_name": "Python 3 (ipykernel)",
   "language": "python",
   "name": "python3"
  },
  "language_info": {
   "codemirror_mode": {
    "name": "ipython",
    "version": 3
   },
   "file_extension": ".py",
   "mimetype": "text/x-python",
   "name": "python",
   "nbconvert_exporter": "python",
   "pygments_lexer": "ipython3",
   "version": "3.9.13"
  }
 },
 "nbformat": 4,
 "nbformat_minor": 5
}
