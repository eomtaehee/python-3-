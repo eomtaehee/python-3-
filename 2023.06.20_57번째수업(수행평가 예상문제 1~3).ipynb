{
 "cells": [
  {
   "cell_type": "markdown",
   "id": "7be93cb2",
   "metadata": {},
   "source": [
    "## 수행평가 예상문제1\n",
    "> 문제 1 <br>\n",
    "1부터 1000까지 숫자 중에<br>\n",
    "2의배수 이거나<br>\n",
    "3의배수면<br>\n",
    "더하는 프로그램 작성"
   ]
  },
  {
   "cell_type": "code",
   "execution_count": 1,
   "id": "b6a4cb81",
   "metadata": {},
   "outputs": [
    {
     "name": "stdout",
     "output_type": "stream",
     "text": [
      "1부터 1000까지 2의배수이거나 3의배수면 더하는 프로그램\n",
      "총합계 결과 : 334167\n"
     ]
    }
   ],
   "source": [
    "# 변수 2개 결과값, 증가값\n",
    "# While for\n",
    "# if 2의배수 3의배수\n",
    "print('1부터 1000까지 2의배수이거나 3의배수면 더하는 프로그램')\n",
    "result = 0\n",
    "num = 1\n",
    "while num <= 1000 :\n",
    "    if num % 2 == 0 or num % 3 == 0 :\n",
    "        result += num\n",
    "    num += 1\n",
    "print(f'총합계 결과 : {result}')"
   ]
  },
  {
   "cell_type": "markdown",
   "id": "2cdd27b8",
   "metadata": {},
   "source": [
    "## 수행평가 예상문제 2\n",
    "> 문제 2<br>\n",
    "구구단을 외자!!! 게임 프로그램"
   ]
  },
  {
   "cell_type": "code",
   "execution_count": 2,
   "id": "96ea9081",
   "metadata": {},
   "outputs": [
    {
     "name": "stdout",
     "output_type": "stream",
     "text": [
      "구구단을 외자!!! 게임 프로그램\n",
      "2 x 8 = ?\n",
      "16\n",
      "정답!\n",
      "9 x 7 = ?\n",
      "5\n",
      "오답!\n",
      "9 x 7 = ?\n",
      "5\n",
      "오답!\n",
      "6 x 3 = ?\n",
      "2\n",
      "오답!\n",
      "8 x 6 = ?\n",
      "2\n",
      "오답!\n",
      "정답 갯수 : 1, 오답 갯수 : 4\n"
     ]
    }
   ],
   "source": [
    "# 난수 랜덤 random\n",
    "import random\n",
    "print('구구단을 외자!!! 게임 프로그램')\n",
    "\n",
    "# 정답, 오답 카운트를 위한 변수 선언\n",
    "t_cnt = 0\n",
    "f_cnt = 0\n",
    "\n",
    "for i in range(5):\n",
    "    a = random.randint(2,9)\n",
    "    b = random.randint(1,9)\n",
    "    print(f'{a} x {b} = ?')\n",
    "    # 정답 입력 받기\n",
    "    answer = int(input(''))\n",
    "    if a * b == answer :\n",
    "        print('정답!')\n",
    "        #t_cnt += 1\n",
    "        t_cnt = t_cnt + 1\n",
    "    else :\n",
    "        print('오답!')\n",
    "        f_cnt = f_cnt + 1\n",
    "        \n",
    "print(f'정답 갯수 : {t_cnt}, 오답 갯수 : {f_cnt}')"
   ]
  },
  {
   "cell_type": "markdown",
   "id": "ef332fb4",
   "metadata": {},
   "source": [
    "## 수행평가 예상문제 3\n",
    "> 문제3 <br>\n",
    "상반기 가게부 만들기 프로그램 6개월<br>\n",
    "상반기 총 수입액<br>\n",
    "상반기 수입액의 평균"
   ]
  },
  {
   "cell_type": "code",
   "execution_count": 4,
   "id": "379aa70f",
   "metadata": {},
   "outputs": [
    {
     "name": "stdout",
     "output_type": "stream",
     "text": [
      "문제3 가게부 만들기 프로그램\n",
      "월 별로 수입액을 입력시켜 주세요!\n",
      "1월 수입액을 입력시켜 주세요\n",
      "10\n",
      "2월 수입액을 입력시켜 주세요\n",
      "20\n",
      "3월 수입액을 입력시켜 주세요\n",
      "30\n",
      "4월 수입액을 입력시켜 주세요\n",
      "40\n",
      "5월 수입액을 입력시켜 주세요\n",
      "50\n",
      "6월 수입액을 입력시켜 주세요\n",
      "60\n",
      "상반기 월별 수입액 입니다.\n",
      "상반기 월별 수입액 : [10, 20, 30, 40, 50, 60]\n",
      "상반기 월 수입액의 총합계 : 210만원 입니다.\n",
      "상반기 월 수입액의 평균 : 35.0만원 입니다.\n"
     ]
    }
   ],
   "source": [
    "print('문제3 가게부 만들기 프로그램')\n",
    "\n",
    "# 빈 리스트 만들기\n",
    "money = []\n",
    "print('월 별로 수입액을 입력시켜 주세요!')\n",
    "\n",
    "# 월별 수입 입력\n",
    "for j in range(0,6):\n",
    "    print(f'{j+1}월 수입액을 입력시켜 주세요')\n",
    "    # 리스트에 추가 append\n",
    "    money.append(int(input('')))\n",
    "    \n",
    "sum = 0\n",
    "i = 0\n",
    "print('상반기 월별 수입액 입니다.')\n",
    "# 수입총합계, 평균\n",
    "while i < 6 :\n",
    "    # 누적 함계\n",
    "    sum = sum + money[i]\n",
    "    i += 1\n",
    "# 평균\n",
    "avg = sum/6\n",
    "\n",
    "print(f'상반기 월별 수입액 : {money}')\n",
    "print(f'상반기 월 수입액의 총합계 : {sum}만원 입니다.')\n",
    "print(f'상반기 월 수입액의 평균 : {avg}만원 입니다.')"
   ]
  }
 ],
 "metadata": {
  "kernelspec": {
   "display_name": "Python 3 (ipykernel)",
   "language": "python",
   "name": "python3"
  },
  "language_info": {
   "codemirror_mode": {
    "name": "ipython",
    "version": 3
   },
   "file_extension": ".py",
   "mimetype": "text/x-python",
   "name": "python",
   "nbconvert_exporter": "python",
   "pygments_lexer": "ipython3",
   "version": "3.9.13"
  }
 },
 "nbformat": 4,
 "nbformat_minor": 5
}
