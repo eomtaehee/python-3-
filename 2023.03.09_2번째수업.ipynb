{
 "cells": [
  {
   "cell_type": "markdown",
   "id": "a7560c73",
   "metadata": {},
   "source": [
    "## 1. 출력 명령어\n",
    "### 출력 명령어 형식\n",
    "> print( 출력할 내용 )"
   ]
  },
  {
   "cell_type": "code",
   "execution_count": 2,
   "id": "6f2b98ec",
   "metadata": {},
   "outputs": [
    {
     "name": "stdout",
     "output_type": "stream",
     "text": [
      "안녕하세요 반갑습니다\n"
     ]
    }
   ],
   "source": [
    "print('안녕하세요 반갑습니다')"
   ]
  },
  {
   "cell_type": "code",
   "execution_count": 3,
   "id": "0404757b",
   "metadata": {},
   "outputs": [
    {
     "name": "stdout",
     "output_type": "stream",
     "text": [
      "전화번호7201350\n"
     ]
    }
   ],
   "source": [
    "# 숫자 출력 7201350\n",
    "print('전화번호7201350')"
   ]
  },
  {
   "cell_type": "code",
   "execution_count": 4,
   "id": "f9e8fd93",
   "metadata": {},
   "outputs": [
    {
     "name": "stdout",
     "output_type": "stream",
     "text": [
      "2023년 03월 09일\n"
     ]
    }
   ],
   "source": [
    "# 문자 출력 오늘 날짜를 출력해 봅시다.\n",
    "print('2023년 03월 09일')"
   ]
  },
  {
   "cell_type": "markdown",
   "id": "863ea3a6",
   "metadata": {},
   "source": [
    "- 문자는 따옴표로 감사주어야 함\n",
    "> print('문자')"
   ]
  },
  {
   "cell_type": "markdown",
   "id": "dfefbd95",
   "metadata": {},
   "source": [
    "- 연산하여 출력하기\n",
    "> print(a+b)<br>\n",
    "  print(a-b)<br>\n",
    "  print(a*b)<br>\n",
    "  print(a/b)"
   ]
  },
  {
   "cell_type": "code",
   "execution_count": 6,
   "id": "aab818ae",
   "metadata": {},
   "outputs": [
    {
     "name": "stdout",
     "output_type": "stream",
     "text": [
      "46\n",
      "-22\n",
      "408\n",
      "0.35294117647058826\n"
     ]
    }
   ],
   "source": [
    "# 연산하여 출력하기\n",
    "a = 12\n",
    "b = 34\n",
    "print(a+b)\n",
    "print(a-b)\n",
    "print(a*b)\n",
    "print(a/b)"
   ]
  }
 ],
 "metadata": {
  "kernelspec": {
   "display_name": "Python 3 (ipykernel)",
   "language": "python",
   "name": "python3"
  },
  "language_info": {
   "codemirror_mode": {
    "name": "ipython",
    "version": 3
   },
   "file_extension": ".py",
   "mimetype": "text/x-python",
   "name": "python",
   "nbconvert_exporter": "python",
   "pygments_lexer": "ipython3",
   "version": "3.9.13"
  }
 },
 "nbformat": 4,
 "nbformat_minor": 5
}
