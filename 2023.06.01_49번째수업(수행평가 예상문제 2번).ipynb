{
 "cells": [
  {
   "cell_type": "markdown",
   "id": "8a09286a",
   "metadata": {},
   "source": [
    "## 수행평가 예상문제\n",
    "> 문제 2 <br>\n",
    "구구단을 외자!!! 게임 프로그램"
   ]
  },
  {
   "cell_type": "code",
   "execution_count": 1,
   "id": "399c8a00",
   "metadata": {},
   "outputs": [
    {
     "name": "stdout",
     "output_type": "stream",
     "text": [
      "구구단을 외자!!! 게임 프로그램\n",
      "8 x 9 = ? \n",
      "72\n",
      "정답!\n",
      "2 x 8 = ? \n",
      "16\n",
      "정답!\n",
      "9 x 6 = ? \n",
      "54\n",
      "정답!\n",
      "2 x 8 = ? \n",
      "16\n",
      "정답!\n",
      "2 x 2 = ? \n",
      "4\n",
      "정답!\n",
      "정답 갯수 : 5, 오답 갯수 : 0\n"
     ]
    }
   ],
   "source": [
    "# 난수 랜덤 random\n",
    "import random\n",
    "print('구구단을 외자!!! 게임 프로그램')\n",
    "\n",
    "# 정답, 오답 카운트를 위한 변수 선언\n",
    "t_cnt = 0\n",
    "f_cnt = 0\n",
    "\n",
    "for i in range(5) :\n",
    "    a = random.randint(2,9)\n",
    "    b = random.randint(1,9)\n",
    "    print(f'{a} x {b} = ? ')\n",
    "    #정답 입력 받기\n",
    "    answer = int(input(''))\n",
    "    if a * b == answer :\n",
    "        print('정답!')\n",
    "      # t_cnt += 1\n",
    "        t_cnt = t_cnt + 1\n",
    "    else :\n",
    "        print('오답!')\n",
    "        f_cnt = f_cnt + 1\n",
    "print(f'정답 갯수 : {t_cnt}, 오답 갯수 : {f_cnt}')"
   ]
  }
 ],
 "metadata": {
  "kernelspec": {
   "display_name": "Python 3 (ipykernel)",
   "language": "python",
   "name": "python3"
  },
  "language_info": {
   "codemirror_mode": {
    "name": "ipython",
    "version": 3
   },
   "file_extension": ".py",
   "mimetype": "text/x-python",
   "name": "python",
   "nbconvert_exporter": "python",
   "pygments_lexer": "ipython3",
   "version": "3.9.13"
  }
 },
 "nbformat": 4,
 "nbformat_minor": 5
}
