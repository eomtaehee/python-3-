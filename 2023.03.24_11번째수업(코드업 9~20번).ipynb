{
 "cells": [
  {
   "cell_type": "markdown",
   "id": "b65653fd",
   "metadata": {},
   "source": [
    "## 9번 문제\n",
    "```\n",
    "문자(character)는\n",
    "0~9, a~z, A~Z, !, @, #, {, [, <, ... 과 같이 \n",
    "길이가 1인 기호라고 할 수 있다.\n",
    "\n",
    "변수에 문자 1개를 저장한 후\n",
    "변수에 저장되어 있는 문자를 그대로 출력해보자.\n",
    "\n",
    "예시\n",
    "c = input()\n",
    "print(c)\n",
    "\n",
    "와 같은 형태로 가능하다.\n",
    "```"
   ]
  },
  {
   "cell_type": "code",
   "execution_count": 2,
   "id": "aa18506a",
   "metadata": {},
   "outputs": [
    {
     "name": "stdout",
     "output_type": "stream",
     "text": [
      "a\n",
      "a\n"
     ]
    }
   ],
   "source": [
    "a = input()\n",
    "print(a)"
   ]
  },
  {
   "cell_type": "markdown",
   "id": "84c6ae56",
   "metadata": {},
   "source": [
    "## 10번 문제\n",
    "```\n",
    "정수(integer)는\n",
    "양의 정수(1, 2, 3, 4, 5, ...), 음의 정수(-1, -2, -3, -4, -5, ...), 0 과 같이\n",
    "소숫점 아래에 수가 없는 수라고 할 수 있다.\n",
    "\n",
    "변수에 정수값을 저장한 후 정수로 변환하여 출력해보자.\n",
    "\n",
    "예시\n",
    "n = input()\n",
    "n = int(n)\n",
    "print(n)\n",
    "와 같은 형태로 가능하다.\n",
    "\n",
    "```"
   ]
  },
  {
   "cell_type": "code",
   "execution_count": 3,
   "id": "95ed48b1",
   "metadata": {},
   "outputs": [
    {
     "name": "stdout",
     "output_type": "stream",
     "text": [
      "15\n",
      "15\n"
     ]
    }
   ],
   "source": [
    "n = input()\n",
    "n = int(n)\n",
    "print(n)"
   ]
  },
  {
   "cell_type": "markdown",
   "id": "22c62452",
   "metadata": {},
   "source": [
    "## 11번 문제\n",
    "```\n",
    "숫자(0~9)와 소수점(.)을 사용해 표현한 수를 실수(real number)라고 한다.\n",
    "\n",
    "변수에 실수값을 저장한 후\n",
    "변수에 저장되어 있는 값을 그대로 출력해보자.\n",
    "\n",
    "예시\n",
    "f = input()\n",
    "f = float(f)\n",
    "print(f)\n",
    "와 같은 형태로 가능하다.\n",
    "```"
   ]
  },
  {
   "cell_type": "code",
   "execution_count": 4,
   "id": "d1370d1b",
   "metadata": {},
   "outputs": [
    {
     "name": "stdout",
     "output_type": "stream",
     "text": [
      "1.414213\n",
      "1.414213\n"
     ]
    }
   ],
   "source": [
    "f = input()\n",
    "f = float(f)\n",
    "print(f)"
   ]
  },
  {
   "cell_type": "markdown",
   "id": "f69a3b45",
   "metadata": {},
   "source": [
    "## 12번 문제\n",
    "```\n",
    "줄을 바꿔 정수(integer) 2개를 입력받아 줄을 바꿔 출력해보자.\n",
    "\n",
    "예시\n",
    "a = input() \n",
    "b = input()\n",
    "a=int(a)\n",
    "b=int(b)\n",
    "print(a)\n",
    "print(b)\n",
    "과 같은 방법으로 가능하다.\n",
    "```"
   ]
  },
  {
   "cell_type": "code",
   "execution_count": 6,
   "id": "30322475",
   "metadata": {},
   "outputs": [
    {
     "name": "stdout",
     "output_type": "stream",
     "text": [
      "1\n",
      "2\n",
      "1\n",
      "2\n"
     ]
    }
   ],
   "source": [
    "a = input() \n",
    "b = input()\n",
    "a=int(a)\n",
    "b=int(b)\n",
    "print(a)\n",
    "print(b)"
   ]
  },
  {
   "cell_type": "markdown",
   "id": "ebaa99ce",
   "metadata": {},
   "source": [
    "## 13번 문제\n",
    "```\n",
    "줄을 바꿔 문자(character) 2개를 입력받고, 순서를 바꿔 한 줄씩 출력해보자.\n",
    "```"
   ]
  },
  {
   "cell_type": "code",
   "execution_count": 7,
   "id": "bc191b11",
   "metadata": {},
   "outputs": [
    {
     "name": "stdout",
     "output_type": "stream",
     "text": [
      "b\n",
      "a\n",
      "a\n",
      "b\n"
     ]
    }
   ],
   "source": [
    "a=input()\n",
    "b=input()\n",
    "print(b)\n",
    "print(a)"
   ]
  },
  {
   "cell_type": "markdown",
   "id": "4d814dcd",
   "metadata": {},
   "source": [
    "## 14번 문제\n",
    "```\n",
    "실수(real number) 1개를 입력받아 줄을 바꿔 3번 출력해보자.\n",
    "\n",
    "예시\n",
    "...\n",
    "print(f)  #f에 저장되어있는 값을 출력하고 줄을 바꾼다.\n",
    "print(f)\n",
    "print(f)\n",
    "와 같은 방법으로 3번 줄을 바꿔 출력할 수 있다.\n",
    "```"
   ]
  },
  {
   "cell_type": "code",
   "execution_count": 8,
   "id": "7d812689",
   "metadata": {},
   "outputs": [
    {
     "name": "stdout",
     "output_type": "stream",
     "text": [
      "0.1\n",
      "0.1\n",
      "0.1\n",
      "0.1\n"
     ]
    }
   ],
   "source": [
    "f = input()\n",
    "print(float(f))\n",
    "print(float(f))\n",
    "print(float(f))\n",
    "#변수를 float으로 해서 실수로 변경하면 됨"
   ]
  },
  {
   "cell_type": "markdown",
   "id": "5fad0e7e",
   "metadata": {},
   "source": [
    "## 15번 문제\n",
    "```\n",
    "공백을 두고 입력된정수(integer) 2개를 입력받아 줄을 바꿔 출력해보자.\n",
    "\n",
    "예시\n",
    "a, b = input().split()\n",
    "a=int(a)\n",
    "b=int(b)\n",
    "print(a)\n",
    "print(b)\n",
    "과 같은 방법으로 두 정수를 입력받아 출력할 수 있다.\n",
    "```"
   ]
  },
  {
   "cell_type": "code",
   "execution_count": 9,
   "id": "d10cc0db",
   "metadata": {},
   "outputs": [
    {
     "name": "stdout",
     "output_type": "stream",
     "text": [
      "1   2\n",
      "1\n",
      "2\n"
     ]
    }
   ],
   "source": [
    "a, b = input().split()\n",
    "a = int(a)\n",
    "b = int(b)\n",
    "print(a)\n",
    "print(b)"
   ]
  },
  {
   "cell_type": "markdown",
   "id": "f1dfb8ce",
   "metadata": {},
   "source": [
    "## 16번 문제\n",
    "```\n",
    "공백을 두고 문자(character) 2개를 입력받아 순서를 바꿔 출력해보자.\n",
    "```"
   ]
  },
  {
   "cell_type": "code",
   "execution_count": 10,
   "id": "21fe1536",
   "metadata": {},
   "outputs": [
    {
     "name": "stdout",
     "output_type": "stream",
     "text": [
      "a  b\n",
      "b a\n"
     ]
    }
   ],
   "source": [
    "a, b = input().split()\n",
    "\n",
    "print(b, a)"
   ]
  },
  {
   "cell_type": "markdown",
   "id": "8b534f08",
   "metadata": {},
   "source": [
    "## 17번 문제\n",
    "```\n",
    "정수(integer), 실수, 문자(character), 문자열(string) 등 1개만 입력받아 한 줄로 3번 출력해보자.\n",
    "\n",
    "예시\n",
    "s = input()\n",
    "print(s, s, s)  #공백으로 구분해 한 줄로 출력한다.\n",
    "와 같은 방법으로 3번 출력할 수 있다.\n",
    "```"
   ]
  },
  {
   "cell_type": "code",
   "execution_count": 11,
   "id": "dbb0d6ea",
   "metadata": {},
   "outputs": [
    {
     "name": "stdout",
     "output_type": "stream",
     "text": [
      "computer science\n",
      "computer science computer science computer science\n"
     ]
    }
   ],
   "source": [
    "s = input()\n",
    "print(s, s, s)"
   ]
  },
  {
   "cell_type": "markdown",
   "id": "d17307ca",
   "metadata": {},
   "source": [
    "## 18번 문제\n",
    "```\n",
    "24시간 시:분 형식으로 시간이 입력될 때, 그대로 출력하는 연습을 해보자.\n",
    "\n",
    "예시\n",
    "a, b = input().split(':')\n",
    "print(a, b, sep=':')\n",
    "와 같은 방법으로 가능하다.\n",
    "```"
   ]
  },
  {
   "cell_type": "code",
   "execution_count": 12,
   "id": "a2083212",
   "metadata": {},
   "outputs": [
    {
     "name": "stdout",
     "output_type": "stream",
     "text": [
      "3:16\n",
      "3:16\n"
     ]
    }
   ],
   "source": [
    "a, b = input().split(':')\n",
    "print(a, b, sep=':')"
   ]
  },
  {
   "cell_type": "markdown",
   "id": "50b8c506",
   "metadata": {},
   "source": [
    "## 19번 문제\n",
    "```\n",
    "\"연도.월.일\"을 입력받아 \"일-월-연도\" 순서로 바꿔 출력해보자.\n",
    "```"
   ]
  },
  {
   "cell_type": "code",
   "execution_count": 13,
   "id": "0846b7cc",
   "metadata": {},
   "outputs": [
    {
     "name": "stdout",
     "output_type": "stream",
     "text": [
      "2020.3.4\n",
      "4-3-2020\n"
     ]
    }
   ],
   "source": [
    "y, m, d = input().split('.')\n",
    "print(d, m, y, sep='-')"
   ]
  },
  {
   "cell_type": "markdown",
   "id": "3bd75362",
   "metadata": {},
   "source": [
    "## 20번 문제\n",
    "```\n",
    "주민번호는 다음과 같이 구성된다.\n",
    "XXXXXX-XXXXXXX\n",
    "\n",
    "왼쪽 6자리는 생년월일(YYMMDD)이고, 오른쪽 7자리는 성별,출생지역,확인코드로 구성되어있다.\n",
    "주민번호를 입력받아 형태를 바꿔 출력해보자.\n",
    "```"
   ]
  },
  {
   "cell_type": "code",
   "execution_count": 14,
   "id": "7a2f2346",
   "metadata": {},
   "outputs": [
    {
     "name": "stdout",
     "output_type": "stream",
     "text": [
      "000907-1121112\n",
      "0009071121112\n"
     ]
    }
   ],
   "source": [
    "f, b = map(str,input().split('-'))\n",
    "\n",
    "print(f+b)"
   ]
  }
 ],
 "metadata": {
  "kernelspec": {
   "display_name": "Python 3 (ipykernel)",
   "language": "python",
   "name": "python3"
  },
  "language_info": {
   "codemirror_mode": {
    "name": "ipython",
    "version": 3
   },
   "file_extension": ".py",
   "mimetype": "text/x-python",
   "name": "python",
   "nbconvert_exporter": "python",
   "pygments_lexer": "ipython3",
   "version": "3.9.13"
  }
 },
 "nbformat": 4,
 "nbformat_minor": 5
}
