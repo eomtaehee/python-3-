{
 "cells": [
  {
   "cell_type": "markdown",
   "id": "8908365c",
   "metadata": {},
   "source": [
    "## 21번\n",
    "```\n",
    "알파벳과 숫자로 이루어진 단어 1개가 입력된다.\n",
    "입력받은 단어의 각 문자를 한 줄에 한 문자씩 분리해 출력한다.\n",
    "\n",
    "예시\n",
    "s = input()\n",
    "print(s[0])\n",
    "print(s[1])\n",
    "...\n",
    "\n",
    "참고\n",
    "s[0] 은 첫 번째 문자를 의미한다.\n",
    "```"
   ]
  },
  {
   "cell_type": "code",
   "execution_count": 3,
   "id": "d480c1f9",
   "metadata": {},
   "outputs": [
    {
     "name": "stdout",
     "output_type": "stream",
     "text": [
      "Hello\n",
      "H\n",
      "e\n",
      "l\n",
      "l\n",
      "o\n"
     ]
    }
   ],
   "source": [
    "s = input()\n",
    "print(s[0])\n",
    "print(s[1])\n",
    "print(s[2])\n",
    "print(s[3])\n",
    "print(s[4])"
   ]
  },
  {
   "cell_type": "markdown",
   "id": "7ef4a4db",
   "metadata": {},
   "source": [
    "## 22번\n",
    "```\n",
    "6자리의 연월일(YYMMDD)을 입력받아 나누어 출력해보자.\n",
    "\n",
    "참고\n",
    "s = input()\n",
    "print(s[0:2])\n",
    "\n",
    "를 실행하면 0번째 문자부터 1번째 문자까지 잘라 출력한다.\n",
    "s[a:b] 라고 하면, s라는 단어에서 a번째 문자부터 b-1번째 문자까지 잘라낸 부분을 의미한다.\n",
    "다른 자르기 방법도 있다.\n",
    "```"
   ]
  },
  {
   "cell_type": "code",
   "execution_count": 11,
   "id": "9f7556e1",
   "metadata": {},
   "outputs": [
    {
     "name": "stdout",
     "output_type": "stream",
     "text": [
      "200304\n",
      "20\n",
      "03\n",
      "04\n"
     ]
    }
   ],
   "source": [
    "s = input()\n",
    "\n",
    "print(s[0:2])\n",
    "print(s[2:4])\n",
    "print(s[4:6])"
   ]
  },
  {
   "cell_type": "markdown",
   "id": "0d6b81cd",
   "metadata": {},
   "source": [
    "## 23번\n",
    "```\n",
    "시:분:초 형식으로 시간이 입력될 때 분만 출력해보자.\n",
    "\n",
    "어떻게 분만 출력해야 할지 주의 깊게 생각해야한다.\n",
    "```"
   ]
  },
  {
   "cell_type": "code",
   "execution_count": 15,
   "id": "1624690f",
   "metadata": {},
   "outputs": [
    {
     "name": "stdout",
     "output_type": "stream",
     "text": [
      "17:23:57\n",
      "23\n"
     ]
    }
   ],
   "source": [
    "h, m, s = input().split(':')\n",
    "print(m)"
   ]
  },
  {
   "cell_type": "markdown",
   "id": "6a3fbb47",
   "metadata": {},
   "source": [
    "## 24번\n",
    "```\n",
    "알파벳 문자와 숫자로 이루어진 단어 2개를 입력받아\n",
    "순서대로 붙여 출력하는 프로그램을 작성해보자.\n",
    "\n",
    "예시\n",
    "w1, w2 = input().split()\n",
    "s = w1 + w2\n",
    "print(s)\n",
    "\n",
    "참고\n",
    "단어는 문자(character)들로 만든다.\n",
    "문자들로 구성된 문장을 문자열(string)이라고 부른다.\n",
    "문자열에는 공백문자(' ')가 포함될 수 있는데, \n",
    "문자 1개는 길이가 1인 문자열이라고 할 수 있고, 공백문자(' ')가 없는 문자열은 단어(word)라고 할 수 있다.\n",
    "\n",
    "일반적인 문장들은 공백으로 구분된 단어들로 만들어지기 때문에,\n",
    "공백문자로 구분된 문장에서 단어를 잘라내기 위해서는 공백문자(' ')를 기준으로 자르면 된다.\n",
    "키보드로 입력되는 것들은 기본적으로 문자열로 인식되고, 문자열끼리 더하기(+)를 실행하면,\n",
    "두 문자열을 합쳐 연결한(concatenate) 결과를 만들어 낸다.\n",
    "\n",
    "```"
   ]
  },
  {
   "cell_type": "code",
   "execution_count": 16,
   "id": "443c459d",
   "metadata": {},
   "outputs": [
    {
     "name": "stdout",
     "output_type": "stream",
     "text": [
      "Hello world\n",
      "Helloworld\n"
     ]
    }
   ],
   "source": [
    "w1, w2 = input().split()\n",
    "s = w1 + w2\n",
    "print(s)"
   ]
  },
  {
   "cell_type": "markdown",
   "id": "53c20610",
   "metadata": {},
   "source": [
    "## 25번\n",
    "```\n",
    "정수 2개를 입력받아\n",
    "합을 출력하는 프로그램을 작성해보자.\n",
    "\n",
    "예시\n",
    "a, b = input().split()\n",
    "c = int(a) + int(b)\n",
    "print(c)\n",
    "\n",
    "```"
   ]
  },
  {
   "cell_type": "code",
   "execution_count": 17,
   "id": "e5b84ae9",
   "metadata": {},
   "outputs": [
    {
     "name": "stdout",
     "output_type": "stream",
     "text": [
      "123 -123\n",
      "0\n"
     ]
    }
   ],
   "source": [
    "a, b = input().split()\n",
    "c = int(a) + int(b)\n",
    "print(c)"
   ]
  },
  {
   "cell_type": "markdown",
   "id": "f4540495",
   "metadata": {},
   "source": [
    "## 26번\n",
    "```\n",
    "```"
   ]
  }
 ],
 "metadata": {
  "kernelspec": {
   "display_name": "Python 3 (ipykernel)",
   "language": "python",
   "name": "python3"
  },
  "language_info": {
   "codemirror_mode": {
    "name": "ipython",
    "version": 3
   },
   "file_extension": ".py",
   "mimetype": "text/x-python",
   "name": "python",
   "nbconvert_exporter": "python",
   "pygments_lexer": "ipython3",
   "version": "3.9.13"
  }
 },
 "nbformat": 4,
 "nbformat_minor": 5
}
