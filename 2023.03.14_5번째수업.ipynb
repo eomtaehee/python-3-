{
 "cells": [
  {
   "cell_type": "markdown",
   "id": "537bd1d1",
   "metadata": {},
   "source": [
    "### 1. 변수\n",
    "> 변수이름 = 저장할 데이터"
   ]
  },
  {
   "cell_type": "code",
   "execution_count": 1,
   "id": "492dce25",
   "metadata": {},
   "outputs": [
    {
     "name": "stdout",
     "output_type": "stream",
     "text": [
      "<class 'str'>\n"
     ]
    }
   ],
   "source": [
    "# 입력 input()\n",
    "# 출력 print()\n",
    "\n",
    "a = '안녕'\n",
    "print(type(a))"
   ]
  },
  {
   "cell_type": "code",
   "execution_count": 2,
   "id": "e237ec27",
   "metadata": {},
   "outputs": [
    {
     "name": "stdout",
     "output_type": "stream",
     "text": [
      "고등학생\n"
     ]
    }
   ],
   "source": [
    "b = '학생'\n",
    "c = '고등'\n",
    "d = '대'\n",
    "print(c+b)"
   ]
  },
  {
   "cell_type": "markdown",
   "id": "efdffb64",
   "metadata": {},
   "source": [
    "### 변수를 활용하여 연산하기\n",
    "1) 과일 가격 계산하기"
   ]
  },
  {
   "cell_type": "code",
   "execution_count": 3,
   "id": "68d7d556",
   "metadata": {},
   "outputs": [],
   "source": [
    "apple = 1200\n",
    "banana = 800\n",
    "kiwi = 1700"
   ]
  },
  {
   "cell_type": "code",
   "execution_count": 12,
   "id": "c6e39a8f",
   "metadata": {},
   "outputs": [
    {
     "data": {
      "text/plain": [
       "7800"
      ]
     },
     "execution_count": 12,
     "metadata": {},
     "output_type": "execute_result"
    }
   ],
   "source": [
    "# 사과 3개, 바나나1개, 키위2개 구매한 가격은?\n",
    "apple*3 + banana*1 + kiwi*2"
   ]
  },
  {
   "cell_type": "code",
   "execution_count": 13,
   "id": "07689163",
   "metadata": {},
   "outputs": [
    {
     "name": "stdout",
     "output_type": "stream",
     "text": [
      "7800\n"
     ]
    }
   ],
   "source": [
    "price = apple*3 + banana*1 + kiwi*2\n",
    "print(price)"
   ]
  },
  {
   "cell_type": "markdown",
   "id": "2352a683",
   "metadata": {},
   "source": [
    "vip는 20% 할인된다. 동일한 물건을 구매했을 때 vip가 내는 가격을 새로운 변수에 저장하여 출력하기"
   ]
  },
  {
   "cell_type": "code",
   "execution_count": 14,
   "id": "1958c2a4",
   "metadata": {},
   "outputs": [],
   "source": [
    "vip_price = price * 0.8"
   ]
  },
  {
   "cell_type": "code",
   "execution_count": 15,
   "id": "d69934df",
   "metadata": {},
   "outputs": [
    {
     "name": "stdout",
     "output_type": "stream",
     "text": [
      "vip가 되시면 7800 원을 6240.0 원에 구매 가능합니다.!!!\n"
     ]
    }
   ],
   "source": [
    "print('vip가 되시면', price,'원을',vip_price,'원에 구매 가능합니다.!!!')"
   ]
  }
 ],
 "metadata": {
  "kernelspec": {
   "display_name": "Python 3 (ipykernel)",
   "language": "python",
   "name": "python3"
  },
  "language_info": {
   "codemirror_mode": {
    "name": "ipython",
    "version": 3
   },
   "file_extension": ".py",
   "mimetype": "text/x-python",
   "name": "python",
   "nbconvert_exporter": "python",
   "pygments_lexer": "ipython3",
   "version": "3.9.13"
  }
 },
 "nbformat": 4,
 "nbformat_minor": 5
}
