{
 "cells": [
  {
   "cell_type": "markdown",
   "id": "6b7fab16",
   "metadata": {},
   "source": [
    "## 1. 딕셔너리\n",
    "```\n",
    "딕셔너리이름 = {키1 : 값, 키2 : 값2, ... 키n : 값n}\n",
    "```"
   ]
  },
  {
   "cell_type": "code",
   "execution_count": 1,
   "id": "2e5d7084",
   "metadata": {},
   "outputs": [],
   "source": [
    "menu = {'김밥':2500, '참치김밥':3500, '라면':3000, '치즈라면':4000}"
   ]
  },
  {
   "cell_type": "code",
   "execution_count": 2,
   "id": "90e510a8",
   "metadata": {},
   "outputs": [
    {
     "data": {
      "text/plain": [
       "{'김밥': 2500, '참치김밥': 3500, '라면': 3000, '치즈라면': 4000}"
      ]
     },
     "execution_count": 2,
     "metadata": {},
     "output_type": "execute_result"
    }
   ],
   "source": [
    "menu"
   ]
  },
  {
   "cell_type": "code",
   "execution_count": 3,
   "id": "a0f3d6c5",
   "metadata": {},
   "outputs": [
    {
     "data": {
      "text/plain": [
       "dict"
      ]
     },
     "execution_count": 3,
     "metadata": {},
     "output_type": "execute_result"
    }
   ],
   "source": [
    "type(menu)"
   ]
  },
  {
   "cell_type": "code",
   "execution_count": 4,
   "id": "c8a14b23",
   "metadata": {},
   "outputs": [
    {
     "data": {
      "text/plain": [
       "3500"
      ]
     },
     "execution_count": 4,
     "metadata": {},
     "output_type": "execute_result"
    }
   ],
   "source": [
    "menu['참치김밥']"
   ]
  },
  {
   "cell_type": "code",
   "execution_count": 5,
   "id": "b7519fa1",
   "metadata": {},
   "outputs": [
    {
     "data": {
      "text/plain": [
       "4000"
      ]
     },
     "execution_count": 5,
     "metadata": {},
     "output_type": "execute_result"
    }
   ],
   "source": [
    "menu['치즈라면']"
   ]
  },
  {
   "cell_type": "code",
   "execution_count": 6,
   "id": "d2dad938",
   "metadata": {},
   "outputs": [
    {
     "name": "stdout",
     "output_type": "stream",
     "text": [
      "{'김밥': 2500, '참치김밥': 3500, '라면': 3000, '치즈라면': 4000}\n",
      "{'김밥': 2500, '참치김밥': 3000, '라면': 3000, '치즈라면': 4000}\n"
     ]
    }
   ],
   "source": [
    "print(menu)\n",
    "\n",
    "# 참치김밥 인하 3000원\n",
    "menu['참치김밥']=3000\n",
    "\n",
    "print(menu)"
   ]
  },
  {
   "cell_type": "code",
   "execution_count": 7,
   "id": "6bb6fca6",
   "metadata": {},
   "outputs": [
    {
     "name": "stdout",
     "output_type": "stream",
     "text": [
      "{'김밥': 2500, '참치김밥': 3000, '라면': 3000, '치즈라면': 4000}\n",
      "{'김밥': 2500, '참치김밥': 3000, '라면': 3500, '치즈라면': 4000}\n"
     ]
    }
   ],
   "source": [
    "print(menu)\n",
    "\n",
    "# 라면 가격인상 인상 3000원\n",
    "menu['라면']=3500\n",
    "\n",
    "print(menu)"
   ]
  },
  {
   "cell_type": "code",
   "execution_count": 8,
   "id": "b4cd40a2",
   "metadata": {},
   "outputs": [
    {
     "name": "stdout",
     "output_type": "stream",
     "text": [
      "{'김밥': 2500, '참치김밥': 3000, '라면': 3500, '치즈라면': 4000, '돈가스': 7000}\n"
     ]
    }
   ],
   "source": [
    "# 딕셔너리 요소를 추가해 봅니다.\n",
    "menu['돈가스'] = 7000\n",
    "\n",
    "print(menu)"
   ]
  },
  {
   "cell_type": "markdown",
   "id": "fecfe330",
   "metadata": {},
   "source": [
    "## 2. 딕셔너리의 키와 값\n",
    "\n",
    "딕셔너리의 키만 꺼내기\n",
    "> 딕셔너리이름.Krys()\n",
    "<br/>\n",
    "\n",
    "딕셔너리의 값(value)만 꺼내기\n",
    "> 딕셔너리이름.value()\n",
    "<br/>\n",
    "\n",
    "딕셔너리의 키-값 모두 꺼내기\n",
    "> 딕셔너리이름.items()"
   ]
  },
  {
   "cell_type": "code",
   "execution_count": 9,
   "id": "d3bc503f",
   "metadata": {},
   "outputs": [
    {
     "name": "stdout",
     "output_type": "stream",
     "text": [
      "{'김밥': 2500, '참치김밥': 3000, '라면': 3500, '치즈라면': 4000, '돈가스': 7000}\n"
     ]
    }
   ],
   "source": [
    "print(menu)"
   ]
  },
  {
   "cell_type": "code",
   "execution_count": 10,
   "id": "5bdb944c",
   "metadata": {},
   "outputs": [
    {
     "data": {
      "text/plain": [
       "dict_keys(['김밥', '참치김밥', '라면', '치즈라면', '돈가스'])"
      ]
     },
     "execution_count": 10,
     "metadata": {},
     "output_type": "execute_result"
    }
   ],
   "source": [
    "menu.keys()"
   ]
  },
  {
   "cell_type": "code",
   "execution_count": 11,
   "id": "f879cfd5",
   "metadata": {},
   "outputs": [
    {
     "data": {
      "text/plain": [
       "dict_values([2500, 3000, 3500, 4000, 7000])"
      ]
     },
     "execution_count": 11,
     "metadata": {},
     "output_type": "execute_result"
    }
   ],
   "source": [
    "menu.values()"
   ]
  },
  {
   "cell_type": "code",
   "execution_count": 12,
   "id": "ac143293",
   "metadata": {},
   "outputs": [
    {
     "data": {
      "text/plain": [
       "dict_items([('김밥', 2500), ('참치김밥', 3000), ('라면', 3500), ('치즈라면', 4000), ('돈가스', 7000)])"
      ]
     },
     "execution_count": 12,
     "metadata": {},
     "output_type": "execute_result"
    }
   ],
   "source": [
    "menu.items()"
   ]
  },
  {
   "cell_type": "code",
   "execution_count": 13,
   "id": "319f7565",
   "metadata": {},
   "outputs": [],
   "source": [
    "mart = {'과자':1500, '아이스크림':1700, '휴지':4800, '고기':10500, '우유':2600}"
   ]
  },
  {
   "cell_type": "code",
   "execution_count": 14,
   "id": "971d5e58",
   "metadata": {},
   "outputs": [
    {
     "data": {
      "text/plain": [
       "['고기', '과자', '아이스크림', '우유', '휴지']"
      ]
     },
     "execution_count": 14,
     "metadata": {},
     "output_type": "execute_result"
    }
   ],
   "source": [
    "# 딕셔너리 키 정렬 sorted() 오름차순 내림차순 -> reverse\n",
    "\n",
    "sorted(mart.keys())"
   ]
  },
  {
   "cell_type": "markdown",
   "id": "86dcc3c4",
   "metadata": {},
   "source": [
    "오름차순, 내림차순 옵션 reverse\n",
    "> sorted(정렬할 대상, reverse = True/False)"
   ]
  },
  {
   "cell_type": "code",
   "execution_count": 15,
   "id": "db13a1a3",
   "metadata": {},
   "outputs": [
    {
     "data": {
      "text/plain": [
       "['휴지', '우유', '아이스크림', '과자', '고기']"
      ]
     },
     "execution_count": 15,
     "metadata": {},
     "output_type": "execute_result"
    }
   ],
   "source": [
    "sorted(mart.keys(),reverse=True)"
   ]
  },
  {
   "cell_type": "code",
   "execution_count": 16,
   "id": "a2b735e5",
   "metadata": {},
   "outputs": [
    {
     "data": {
      "text/plain": [
       "[1500, 1700, 2600, 4800, 10500]"
      ]
     },
     "execution_count": 16,
     "metadata": {},
     "output_type": "execute_result"
    }
   ],
   "source": [
    "# 딕셔너리의 값 정렬 sorted() 내림차순 reverse=true\n",
    "\n",
    "sorted(mart.values())"
   ]
  },
  {
   "cell_type": "code",
   "execution_count": 17,
   "id": "dfc4e8fb",
   "metadata": {},
   "outputs": [
    {
     "data": {
      "text/plain": [
       "[10500, 4800, 2600, 1700, 1500]"
      ]
     },
     "execution_count": 17,
     "metadata": {},
     "output_type": "execute_result"
    }
   ],
   "source": [
    "sorted(mart.values(), reverse=True)"
   ]
  },
  {
   "cell_type": "code",
   "execution_count": 18,
   "id": "46072f4f",
   "metadata": {},
   "outputs": [
    {
     "data": {
      "text/plain": [
       "1500"
      ]
     },
     "execution_count": 18,
     "metadata": {},
     "output_type": "execute_result"
    }
   ],
   "source": [
    "# 딕셔너리의 정렬 결과는 리스트다.\n",
    "# 가장 싼 상품의 가격은?\n",
    "sorted(mart.values())[0]"
   ]
  },
  {
   "cell_type": "code",
   "execution_count": 19,
   "id": "19ecad9e",
   "metadata": {},
   "outputs": [
    {
     "data": {
      "text/plain": [
       "[10500, 4800]"
      ]
     },
     "execution_count": 19,
     "metadata": {},
     "output_type": "execute_result"
    }
   ],
   "source": [
    "# 가장 비싼 상품의 두 개의 가격은?\n",
    "sorted(mart.values(), reverse=True)[0:2] # [:2] 0은 생략 가능"
   ]
  }
 ],
 "metadata": {
  "kernelspec": {
   "display_name": "Python 3 (ipykernel)",
   "language": "python",
   "name": "python3"
  },
  "language_info": {
   "codemirror_mode": {
    "name": "ipython",
    "version": 3
   },
   "file_extension": ".py",
   "mimetype": "text/x-python",
   "name": "python",
   "nbconvert_exporter": "python",
   "pygments_lexer": "ipython3",
   "version": "3.9.13"
  }
 },
 "nbformat": 4,
 "nbformat_minor": 5
}
