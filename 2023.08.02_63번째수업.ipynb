{
 "cells": [
  {
   "cell_type": "code",
   "execution_count": 1,
   "id": "21df4fd2",
   "metadata": {},
   "outputs": [
    {
     "data": {
      "text/plain": [
       "['밀수', '엘리멘탈', '미션 임파서블', '명탐정코난', '바비']"
      ]
     },
     "execution_count": 1,
     "metadata": {},
     "output_type": "execute_result"
    }
   ],
   "source": [
    "#nacer.com 영화순위검색 top5가져옵니다\n",
    "# 순위 밀수 엘리멘탈 미션 임파서블 명탐정코난 바비\n",
    "# 리스트 변수이름 movie_ranR\n",
    "\n",
    "movie_rank = [\"밀수\",\"엘리멘탈\",\"미션 임파서블\",\"명탐정코난\",\"바비\"]\n",
    "movie_rank"
   ]
  },
  {
   "cell_type": "code",
   "execution_count": 2,
   "id": "cea64fdc",
   "metadata": {},
   "outputs": [
    {
     "data": {
      "text/plain": [
       "['밀수', '엘리멘탈', '미션 임파서블', '명탐정코난', '바비', '인시디어스']"
      ]
     },
     "execution_count": 2,
     "metadata": {},
     "output_type": "execute_result"
    }
   ],
   "source": [
    "# 영화 인시디어스 추가\n",
    "# append를 이용하여 추가해 봅시다, 가장 마지막에 추가\n",
    "\n",
    "movie_rank.append(\"인시디어스\")\n",
    "movie_rank"
   ]
  },
  {
   "cell_type": "code",
   "execution_count": 3,
   "id": "b33e6e33",
   "metadata": {},
   "outputs": [
    {
     "data": {
      "text/plain": [
       "['밀수', '스파이더맨', '엘리멘탈', '미션 임파서블', '명탐정코난', '바비', '인시디어스']"
      ]
     },
     "execution_count": 3,
     "metadata": {},
     "output_type": "execute_result"
    }
   ],
   "source": [
    "# 인덱스번호 1번에 스파이더맨을 추가해 봅시다.\n",
    "# insert(tndex, 원소)\n",
    "\n",
    "movie_rank.insert(1, \"스파이더맨\")\n",
    "movie_rank"
   ]
  },
  {
   "cell_type": "code",
   "execution_count": 4,
   "id": "fdb0a251",
   "metadata": {},
   "outputs": [
    {
     "data": {
      "text/plain": [
       "['밀수', '엘리멘탈', '미션 임파서블', '명탐정코난', '바비', '인시디어스']"
      ]
     },
     "execution_count": 4,
     "metadata": {},
     "output_type": "execute_result"
    }
   ],
   "source": [
    "# 스파이더맨을 삭제를 해 봅니다.\n",
    "# 삭제 명령어 del index\n",
    "\n",
    "del movie_rank[1]\n",
    "movie_rank"
   ]
  }
 ],
 "metadata": {
  "kernelspec": {
   "display_name": "Python 3 (ipykernel)",
   "language": "python",
   "name": "python3"
  },
  "language_info": {
   "codemirror_mode": {
    "name": "ipython",
    "version": 3
   },
   "file_extension": ".py",
   "mimetype": "text/x-python",
   "name": "python",
   "nbconvert_exporter": "python",
   "pygments_lexer": "ipython3",
   "version": "3.9.13"
  }
 },
 "nbformat": 4,
 "nbformat_minor": 5
}
