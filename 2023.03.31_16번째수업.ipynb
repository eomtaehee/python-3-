{
 "cells": [
  {
   "cell_type": "code",
   "execution_count": 1,
   "id": "e52a41f3",
   "metadata": {},
   "outputs": [
    {
     "name": "stdout",
     "output_type": "stream",
     "text": [
      "구구단을 외자 구구단을 외자\n",
      "8 x 9 =72\n",
      "4 x 2 =8\n",
      "3 x 5 =15\n",
      "8 x 2 =16\n",
      "4 x 5 =20\n"
     ]
    }
   ],
   "source": [
    "# 구구단 게임에 입력칸을 만들어 봅시다. input\n",
    "import random   # 랭덤 라이브러리를 불러온다.\n",
    "print('구구단을 외자 구구단을 외자') #문장을 출력한다.\n",
    "for i in range(5) :  # 5번 반복한다.\n",
    "    num1 = random.randint(2,9)  # 랜덤숫자를 2에서 9를 num1에 저장해라\n",
    "    num2 = random.randint(1,9)  # 랜덤숫자를 1에서 9를 num2에 저장해라\n",
    "    question = str(num1)+' x '+str(num2)+' =' #question에 문제를 넣는다\n",
    "    # 입력된 답을 저장하는 변수 만들어 봅시다\n",
    "    answer = int(input(question))\n",
    "    \n",
    "    # 정답확인을 만들어 봅시다.\n",
    "    if answer != num1*num2 :  #정답이 아니면\n",
    "        print('땡!!! 정답은 ', num1*num2)"
   ]
  },
  {
   "cell_type": "markdown",
   "id": "0a20217a",
   "metadata": {},
   "source": [
    "### 1부터 30까지 숫자의 홀수 짝수 판별하기"
   ]
  },
  {
   "cell_type": "code",
   "execution_count": 5,
   "id": "572818d7",
   "metadata": {},
   "outputs": [
    {
     "name": "stdout",
     "output_type": "stream",
     "text": [
      "1부터 30까지의 홀수 짝수 판별하기\n",
      "1 홀수\n",
      "2 짝수\n",
      "3 홀수\n",
      "4 짝수\n",
      "5 홀수\n",
      "6 짝수\n",
      "7 홀수\n",
      "8 짝수\n",
      "9 홀수\n",
      "10 짝수\n",
      "11 홀수\n",
      "12 짝수\n",
      "13 홀수\n",
      "14 짝수\n",
      "15 홀수\n",
      "16 짝수\n",
      "17 홀수\n",
      "18 짝수\n",
      "19 홀수\n",
      "20 짝수\n",
      "21 홀수\n",
      "22 짝수\n",
      "23 홀수\n",
      "24 짝수\n",
      "25 홀수\n",
      "26 짝수\n",
      "27 홀수\n",
      "28 짝수\n",
      "29 홀수\n",
      "30 짝수\n"
     ]
    }
   ],
   "source": [
    "print('1부터 30까지의 홀수 짝수 판별하기')\n",
    "for i in  range(1,31) : #30번 반복하기\n",
    "    if i % 2 == 1: #만약 I를 나눈 나머지가 1이면\n",
    "        print(i, '홀수')\n",
    "    else : #그렇지 않으면\n",
    "        print(i, '짝수')"
   ]
  }
 ],
 "metadata": {
  "kernelspec": {
   "display_name": "Python 3 (ipykernel)",
   "language": "python",
   "name": "python3"
  },
  "language_info": {
   "codemirror_mode": {
    "name": "ipython",
    "version": 3
   },
   "file_extension": ".py",
   "mimetype": "text/x-python",
   "name": "python",
   "nbconvert_exporter": "python",
   "pygments_lexer": "ipython3",
   "version": "3.9.13"
  }
 },
 "nbformat": 4,
 "nbformat_minor": 5
}
