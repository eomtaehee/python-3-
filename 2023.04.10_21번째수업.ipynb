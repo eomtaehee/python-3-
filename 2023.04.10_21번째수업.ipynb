{
 "cells": [
  {
   "cell_type": "markdown",
   "id": "1f14caa9",
   "metadata": {},
   "source": [
    "## 1. 리스트\n",
    "```\n",
    "리스트 여러 데이터를 한 번에 묶어서 표현\n",
    "리스트이름 = [데이터1, 데이터2, ..., 데이터n]\n",
    "```\n",
    "> 실생활의 리스트\n",
    ">> - 사야할 리스트  <br>\n",
    "     1 과자  <br>\n",
    "     2 양파  <br>\n",
    "     3 아이스크림\n",
    "\n",
    "> 파이썬의 리스트\n",
    ">> <코드> spending = [25,36,8,53,24,59]   <br>"
   ]
  },
  {
   "cell_type": "code",
   "execution_count": 1,
   "id": "178a9402",
   "metadata": {},
   "outputs": [],
   "source": [
    "# 1월 지출부터 6월 지출까지 리스트를 만들어 봅시다.\n",
    "spending = [25,36,8,53,24,56]"
   ]
  },
  {
   "cell_type": "code",
   "execution_count": 2,
   "id": "f359aa6c",
   "metadata": {},
   "outputs": [
    {
     "name": "stdout",
     "output_type": "stream",
     "text": [
      "[25, 36, 8, 53, 24, 56]\n"
     ]
    }
   ],
   "source": [
    "print(spending)"
   ]
  },
  {
   "cell_type": "code",
   "execution_count": 3,
   "id": "635dc65b",
   "metadata": {},
   "outputs": [
    {
     "data": {
      "text/plain": [
       "list"
      ]
     },
     "execution_count": 3,
     "metadata": {},
     "output_type": "execute_result"
    }
   ],
   "source": [
    "# data의 형태를 알아보는 명령어 type\n",
    "type(spending)"
   ]
  },
  {
   "cell_type": "code",
   "execution_count": 4,
   "id": "fe1d4e2b",
   "metadata": {},
   "outputs": [
    {
     "name": "stdout",
     "output_type": "stream",
     "text": [
      "[25, 36, 8, 53, 24, 56]\n"
     ]
    }
   ],
   "source": [
    "print(spending)"
   ]
  },
  {
   "cell_type": "code",
   "execution_count": 5,
   "id": "e7465ac8",
   "metadata": {},
   "outputs": [
    {
     "name": "stdout",
     "output_type": "stream",
     "text": [
      "1월 지출\n",
      "25\n"
     ]
    }
   ],
   "source": [
    "print('1월 지출')\n",
    "print(spending[0])"
   ]
  },
  {
   "cell_type": "code",
   "execution_count": 6,
   "id": "659500d9",
   "metadata": {},
   "outputs": [
    {
     "name": "stdout",
     "output_type": "stream",
     "text": [
      "6월 지출\n",
      "56\n"
     ]
    }
   ],
   "source": [
    "print('6월 지출')\n",
    "print(spending[5])"
   ]
  },
  {
   "cell_type": "code",
   "execution_count": 7,
   "id": "71f67679",
   "metadata": {},
   "outputs": [
    {
     "name": "stdout",
     "output_type": "stream",
     "text": [
      "3월 지출\n",
      "8\n"
     ]
    }
   ],
   "source": [
    "print('3월 지출')\n",
    "print(spending[2])"
   ]
  },
  {
   "cell_type": "markdown",
   "id": "9ad231e7",
   "metadata": {},
   "source": [
    "####  알고보니 4월 지출이 10낮게 기록됐다. 4월 지출에 10을 더하시오"
   ]
  },
  {
   "cell_type": "code",
   "execution_count": 8,
   "id": "f21b2c1b",
   "metadata": {},
   "outputs": [
    {
     "name": "stdout",
     "output_type": "stream",
     "text": [
      "변경 전 : [25, 36, 8, 53, 24, 56]\n",
      "변경 후 : [25, 36, 8, 63, 24, 56]\n"
     ]
    }
   ],
   "source": [
    "print('변경 전 :',spending)\n",
    "\n",
    "spending[3] +=  10\n",
    "\n",
    "print('변경 후 :',spending)"
   ]
  },
  {
   "cell_type": "markdown",
   "id": "7d835d6a",
   "metadata": {},
   "source": [
    "#### 5월 지출을 2로 나누시오"
   ]
  },
  {
   "cell_type": "code",
   "execution_count": 9,
   "id": "a265b1b7",
   "metadata": {},
   "outputs": [
    {
     "name": "stdout",
     "output_type": "stream",
     "text": [
      "변경 전 : [25, 36, 8, 63, 24, 56]\n",
      "변경 후 : [25, 36, 8, 63, 12.0, 56]\n"
     ]
    }
   ],
   "source": [
    "print('변경 전 :',spending)\n",
    "\n",
    "spending[4] /=  2\n",
    "\n",
    "print('변경 후 :',spending)"
   ]
  },
  {
   "cell_type": "code",
   "execution_count": 10,
   "id": "b56d0331",
   "metadata": {},
   "outputs": [
    {
     "name": "stdout",
     "output_type": "stream",
     "text": [
      "8\n",
      "8\n"
     ]
    }
   ],
   "source": [
    "print(spending[2])\n",
    "print(spending[-4])"
   ]
  },
  {
   "cell_type": "markdown",
   "id": "54f5a107",
   "metadata": {},
   "source": [
    "## 2. 리스트의 다양한 기능\n",
    "\n",
    "### 리스트 길이 확인\n",
    "> len(리스트이름)"
   ]
  },
  {
   "cell_type": "code",
   "execution_count": 12,
   "id": "bd074559",
   "metadata": {},
   "outputs": [
    {
     "data": {
      "text/plain": [
       "6"
      ]
     },
     "execution_count": 12,
     "metadata": {},
     "output_type": "execute_result"
    }
   ],
   "source": [
    "# spending 리스트의 길이를 구하는 함수 len\n",
    "len(spending)"
   ]
  }
 ],
 "metadata": {
  "kernelspec": {
   "display_name": "Python 3 (ipykernel)",
   "language": "python",
   "name": "python3"
  },
  "language_info": {
   "codemirror_mode": {
    "name": "ipython",
    "version": 3
   },
   "file_extension": ".py",
   "mimetype": "text/x-python",
   "name": "python",
   "nbconvert_exporter": "python",
   "pygments_lexer": "ipython3",
   "version": "3.9.13"
  }
 },
 "nbformat": 4,
 "nbformat_minor": 5
}
