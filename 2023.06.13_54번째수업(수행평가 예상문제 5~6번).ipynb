{
 "cells": [
  {
   "cell_type": "markdown",
   "id": "1978fc8a",
   "metadata": {},
   "source": [
    "## 수행평가 예상문제\n",
    "\n",
    "> 문제 5 <br>\n",
    "지하철 노선 맞추는 게임 프로그램 <br>\n",
    "```\n",
    "신분당선 = ['광교','광교중앙','상현','성복','수지구청','동천','미금','정자','판교','청계산입구','양재시민의숲','양재','강남','신논현','신사']\n",
    "팔호선 = ['모란','수진','신흥','단대오거리','남한산성입구','산성','남위례','장지','문정','가락시장','송파','석촌','잠실','몽촌토성','강동구청','천호','암사']\n",
    "```"
   ]
  },
  {
   "cell_type": "code",
   "execution_count": 1,
   "id": "64af39f8",
   "metadata": {},
   "outputs": [
    {
     "name": "stdout",
     "output_type": "stream",
     "text": [
      "지하철༼ つ ◕_◕ ༽つ지하철༼ つ ◕_◕ ༽つ지하철༼ つ ◕_◕ ༽つ\n",
      "＊ 몇호선 ?팔호선\n",
      "역이름을 입력하세요 ?신흥\n",
      "역이름을 입력하세요 ?남위례\n",
      "역이름을 입력하세요 ?장지\n",
      "역이름을 입력하세요 ?야탑\n",
      "땡!! 야탑역은 팔호선의 노선이 아닙니다.\n",
      "벌칙 당첨\n"
     ]
    }
   ],
   "source": [
    "신분당선 = ['광교','광교중앙','상현','성복','수지구청','동천','미금','정자','판교','청계산입구',\n",
    "        '양재시민의숲','양재','강남','신논현','신사']\n",
    "팔호선 = ['모란','수진','신흥','단대오거리','남한산성입구','산성','남위례','장지','문정','가락시장',\n",
    "       '송파','석촌','잠실','몽촌토성','강동구청','천호','암사']\n",
    "\n",
    "print('지하철༼ つ ◕_◕ ༽つ'*3)\n",
    "호선 = input('＊ 몇호선 ?')\n",
    "\n",
    "# 5번 반복\n",
    "for i in range(5):\n",
    "    if 호선 == '신분당선':\n",
    "        입력 = input('역이름을 입력하세요 ?')\n",
    "        if 입력 not in 신분당선 :\n",
    "            print(f'땡!! {입력}역은 {호선}의 노선이 아닙니다.')\n",
    "            print('벌칙 당첨!!')\n",
    "            break\n",
    "    if 호선 == '팔호선':\n",
    "        입력 = input('역이름을 입력하세요 ?')\n",
    "        if 입력 not in 팔호선 :\n",
    "            print(f'땡!! {입력}역은 {호선}의 노선이 아닙니다.')\n",
    "            print('벌칙 당첨')\n",
    "            break"
   ]
  },
  {
   "cell_type": "markdown",
   "id": "4d2defdb",
   "metadata": {},
   "source": [
    "## 수행평가 예상문제\n",
    "\n",
    "> 문제 6 <br>\n",
    "영어 단어장 만들기 프로그램 <br>"
   ]
  },
  {
   "cell_type": "code",
   "execution_count": 2,
   "id": "16557ce8",
   "metadata": {},
   "outputs": [
    {
     "name": "stdout",
     "output_type": "stream",
     "text": [
      "영어단어,뜻:danana,바나나\n",
      "영어단어,뜻:apple,사과\n",
      "영어단어,뜻:\n"
     ]
    },
    {
     "data": {
      "text/plain": [
       "{'danana': '바나나', 'apple': '사과'}"
      ]
     },
     "execution_count": 2,
     "metadata": {},
     "output_type": "execute_result"
    }
   ],
   "source": [
    "#빈 딕셔너리 말들기\n",
    "dict_word={}\n",
    "\n",
    "# 공백을 입력할때까지 입력 키값과 밸류값 받기\n",
    "while True:\n",
    "    input_word = input('영어단어,뜻:')\n",
    "    if input_word=='':\n",
    "             break\n",
    "      #키값과 밸류값 분리하기\n",
    "    eng = input_word.split(',')[0]\n",
    "    kor = input_word.split(',')[1]\n",
    "\n",
    "      # 키값과 밸류값 저장하기\n",
    "    dict_word[eng] = kor\n",
    "\n",
    "# 출력하기\n",
    "dict_word "
   ]
  }
 ],
 "metadata": {
  "kernelspec": {
   "display_name": "Python 3 (ipykernel)",
   "language": "python",
   "name": "python3"
  },
  "language_info": {
   "codemirror_mode": {
    "name": "ipython",
    "version": 3
   },
   "file_extension": ".py",
   "mimetype": "text/x-python",
   "name": "python",
   "nbconvert_exporter": "python",
   "pygments_lexer": "ipython3",
   "version": "3.9.13"
  }
 },
 "nbformat": 4,
 "nbformat_minor": 5
}
