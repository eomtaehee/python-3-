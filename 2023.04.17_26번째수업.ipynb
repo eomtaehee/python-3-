{
 "cells": [
  {
   "cell_type": "code",
   "execution_count": 1,
   "id": "b94c4cfa",
   "metadata": {},
   "outputs": [
    {
     "name": "stdout",
     "output_type": "stream",
     "text": [
      "정수를 입력하세요: -1\n",
      "-1 은 음수 입니다.\n"
     ]
    }
   ],
   "source": [
    "#문제1 음수 양수 0이 기준\n",
    "#조건 입력함수, 출력함수, 분기문 if elif else\n",
    "\n",
    "n = int(input('정수를 입력하세요: '))\n",
    "if n > 0 :     #만약에\n",
    "    print(n,'은 양수 입니다.')\n",
    "elif n < 0 :  #만약에\n",
    "    print(n,'은 음수 입니다.')\n",
    "else :     #만약에 그렇지 않다면\n",
    "    print(n,'입니다.')"
   ]
  },
  {
   "cell_type": "code",
   "execution_count": 2,
   "id": "b0ea94e2",
   "metadata": {},
   "outputs": [
    {
     "name": "stdout",
     "output_type": "stream",
     "text": [
      "숫자를 입력하세요: 3\n",
      "C\n"
     ]
    }
   ],
   "source": [
    "# 3개로 분기하는 조건문\n",
    "# 1 -> A, 2 -> B, 3 -> C를 출력하는 프로그램 작성\n",
    "n = int(input('숫자를 입력하세요: '))\n",
    "if n == 1:\n",
    "    print('A')\n",
    "elif n == 2 :  \n",
    "    print('B')\n",
    "else :     \n",
    "    print('C')"
   ]
  },
  {
   "cell_type": "code",
   "execution_count": 3,
   "id": "59a6d422",
   "metadata": {},
   "outputs": [
    {
     "name": "stdout",
     "output_type": "stream",
     "text": [
      "1부터 n까지 정수의 합을 구합니다.\n",
      "n값을 입력하세요: 100\n",
      "1부터 100까지 정수의 합은 5050입니다.\n"
     ]
    }
   ],
   "source": [
    "#문제3 1부터 n까지 정수의 합을 구하기 (for)\n",
    "\n",
    "print('1부터 n까지 정수의 합을 구합니다.')\n",
    "n = int(input('n값을 입력하세요: '))\n",
    "\n",
    "sum = 0  #누적값을 저장하기 위해\n",
    "for i in range(1, n+1):\n",
    "    sum += i\n",
    "    \n",
    "#출력 표현의 f''\n",
    "print(f'1부터 {n}까지 정수의 합은 {sum}입니다.')"
   ]
  }
 ],
 "metadata": {
  "kernelspec": {
   "display_name": "Python 3 (ipykernel)",
   "language": "python",
   "name": "python3"
  },
  "language_info": {
   "codemirror_mode": {
    "name": "ipython",
    "version": 3
   },
   "file_extension": ".py",
   "mimetype": "text/x-python",
   "name": "python",
   "nbconvert_exporter": "python",
   "pygments_lexer": "ipython3",
   "version": "3.9.13"
  }
 },
 "nbformat": 4,
 "nbformat_minor": 5
}
