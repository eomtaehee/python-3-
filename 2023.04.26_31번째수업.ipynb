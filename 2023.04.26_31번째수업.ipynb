{
 "cells": [
  {
   "cell_type": "code",
   "execution_count": 1,
   "id": "170c5f26",
   "metadata": {},
   "outputs": [],
   "source": [
    "# 딕셔너리의 키 정렬하기\n",
    "\n",
    "mart = {'과자':1500, '아이스크림':1700, '휴지':4800, '고기':10500, '우유':2600}"
   ]
  },
  {
   "cell_type": "code",
   "execution_count": 2,
   "id": "83572085",
   "metadata": {},
   "outputs": [
    {
     "data": {
      "text/plain": [
       "['고기', '과자', '아이스크림', '우유', '휴지']"
      ]
     },
     "execution_count": 2,
     "metadata": {},
     "output_type": "execute_result"
    }
   ],
   "source": [
    "# 정렬 sorted\n",
    "# Reys()\n",
    "sorted(mart.keys())"
   ]
  },
  {
   "cell_type": "code",
   "execution_count": 3,
   "id": "781ad9f3",
   "metadata": {},
   "outputs": [
    {
     "data": {
      "text/plain": [
       "['휴지', '우유', '아이스크림', '과자', '고기']"
      ]
     },
     "execution_count": 3,
     "metadata": {},
     "output_type": "execute_result"
    }
   ],
   "source": [
    "# 오름차순 작 -> 큰\n",
    "# 내림차순 reverse=True 큰 -> 작\n",
    "sorted(mart.keys(), reverse=True)"
   ]
  },
  {
   "cell_type": "code",
   "execution_count": 4,
   "id": "a7391190",
   "metadata": {},
   "outputs": [
    {
     "data": {
      "text/plain": [
       "[1500, 1700, 2600, 4800, 10500]"
      ]
     },
     "execution_count": 4,
     "metadata": {},
     "output_type": "execute_result"
    }
   ],
   "source": [
    "sorted(mart.values())"
   ]
  },
  {
   "cell_type": "code",
   "execution_count": 5,
   "id": "254d074d",
   "metadata": {},
   "outputs": [
    {
     "data": {
      "text/plain": [
       "[10500, 4800, 2600, 1700, 1500]"
      ]
     },
     "execution_count": 5,
     "metadata": {},
     "output_type": "execute_result"
    }
   ],
   "source": [
    "sorted(mart.values(), reverse=True)"
   ]
  },
  {
   "cell_type": "code",
   "execution_count": 6,
   "id": "55369e90",
   "metadata": {},
   "outputs": [
    {
     "data": {
      "text/plain": [
       "[('고기', 10500), ('과자', 1500), ('아이스크림', 1700), ('우유', 2600), ('휴지', 4800)]"
      ]
     },
     "execution_count": 6,
     "metadata": {},
     "output_type": "execute_result"
    }
   ],
   "source": [
    "sorted(mart.items())"
   ]
  },
  {
   "cell_type": "code",
   "execution_count": 7,
   "id": "5a8c168b",
   "metadata": {},
   "outputs": [
    {
     "data": {
      "text/plain": [
       "[('휴지', 4800), ('우유', 2600), ('아이스크림', 1700), ('과자', 1500), ('고기', 10500)]"
      ]
     },
     "execution_count": 7,
     "metadata": {},
     "output_type": "execute_result"
    }
   ],
   "source": [
    "sorted(mart.items(), reverse=True)"
   ]
  },
  {
   "cell_type": "code",
   "execution_count": 8,
   "id": "fd019204",
   "metadata": {},
   "outputs": [
    {
     "data": {
      "text/plain": [
       "[('과자', 1500), ('아이스크림', 1700), ('우유', 2600), ('휴지', 4800), ('고기', 10500)]"
      ]
     },
     "execution_count": 8,
     "metadata": {},
     "output_type": "execute_result"
    }
   ],
   "source": [
    "# 딕셔너리 키-값 정렬시 값을 기준으로 정렬하기\n",
    "\n",
    "import operator\n",
    "\n",
    "sorted(mart.items(), key = operator.itemgetter(1))"
   ]
  },
  {
   "cell_type": "code",
   "execution_count": 9,
   "id": "a3e2410a",
   "metadata": {},
   "outputs": [
    {
     "data": {
      "text/plain": [
       "[('고기', 10500), ('휴지', 4800), ('우유', 2600), ('아이스크림', 1700), ('과자', 1500)]"
      ]
     },
     "execution_count": 9,
     "metadata": {},
     "output_type": "execute_result"
    }
   ],
   "source": [
    "import operator\n",
    "\n",
    "sorted(mart.items(), key = operator.itemgetter(1), reverse=True)"
   ]
  },
  {
   "cell_type": "code",
   "execution_count": 10,
   "id": "58fc70fa",
   "metadata": {},
   "outputs": [
    {
     "data": {
      "text/plain": [
       "('고기', 10500)"
      ]
     },
     "execution_count": 10,
     "metadata": {},
     "output_type": "execute_result"
    }
   ],
   "source": [
    "# 가장 비싼 상품과 가격을 출력하시오\n",
    "import operator\n",
    "\n",
    "sorted(mart.items(), key = operator.itemgetter(1), reverse=True)[0]"
   ]
  },
  {
   "cell_type": "markdown",
   "id": "0ff3cc77",
   "metadata": {},
   "source": [
    "## 4. 딕셔너리와 제어구조\n",
    "```\n",
    "# 다섯 명의 중간고사 점수를 저장한 딕셔너리\n",
    "midterm = {'도윤':43, '하윤':82, '시우':76, '지유':61, '주원':94}\n",
    "```"
   ]
  },
  {
   "cell_type": "code",
   "execution_count": 11,
   "id": "1374fd21",
   "metadata": {},
   "outputs": [
    {
     "name": "stdout",
     "output_type": "stream",
     "text": [
      "어떤 학생의 점수 궁굼 한가요? 도겸\n",
      "해당 학생이 없습니다.\n"
     ]
    }
   ],
   "source": [
    "# 학생 이름을 입력받나, 딕셔너리에 학생 이름이 있으면 점수를 출력\n",
    "# 없다면 '해당 학생이 없습니다.' 출력하기\n",
    "\n",
    "midterm = {'도윤':43, '하윤':82, '시우':76, '지유':61, '주원':94}\n",
    "\n",
    "s = input('어떤 학생의 점수 궁굼 한가요? ')\n",
    "\n",
    "if s in midterm.keys() :\n",
    "    print(midterm[s], '점 입니다.')\n",
    "else :\n",
    "    print(f'해당 학생이 없습니다.')"
   ]
  },
  {
   "cell_type": "code",
   "execution_count": 12,
   "id": "daa0f0ea",
   "metadata": {},
   "outputs": [
    {
     "name": "stdout",
     "output_type": "stream",
     "text": [
      "도윤\n",
      "하윤\n",
      "시우\n",
      "지유\n",
      "주원\n"
     ]
    }
   ],
   "source": [
    "# 딕셔너리에 저장된 모든 학생의 이름 출력해 봅시다.\n",
    "\n",
    "for i in midterm.keys() :    # items() = 이름, 점수 출력\n",
    "    print(i)"
   ]
  },
  {
   "cell_type": "code",
   "execution_count": 13,
   "id": "a6bb8098",
   "metadata": {},
   "outputs": [
    {
     "name": "stdout",
     "output_type": "stream",
     "text": [
      "도윤의 점수는 43입니다.\n",
      "하윤의 점수는 82입니다.\n",
      "시우의 점수는 76입니다.\n",
      "지유의 점수는 61입니다.\n",
      "주원의 점수는 94입니다.\n"
     ]
    }
   ],
   "source": [
    "# 도윤의 점수는 43 점입니다.\n",
    "for i,j in midterm.items() :\n",
    "    print(f'{i}의 점수는 {j}입니다.')"
   ]
  }
 ],
 "metadata": {
  "kernelspec": {
   "display_name": "Python 3 (ipykernel)",
   "language": "python",
   "name": "python3"
  },
  "language_info": {
   "codemirror_mode": {
    "name": "ipython",
    "version": 3
   },
   "file_extension": ".py",
   "mimetype": "text/x-python",
   "name": "python",
   "nbconvert_exporter": "python",
   "pygments_lexer": "ipython3",
   "version": "3.9.13"
  }
 },
 "nbformat": 4,
 "nbformat_minor": 5
}
