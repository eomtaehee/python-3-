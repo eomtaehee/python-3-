{
 "cells": [
  {
   "cell_type": "markdown",
   "id": "125aa693",
   "metadata": {},
   "source": [
    "### split()으로 문자열 슬라이싱"
   ]
  },
  {
   "cell_type": "code",
   "execution_count": 1,
   "id": "31bfeddc",
   "metadata": {},
   "outputs": [
    {
     "name": "stdout",
     "output_type": "stream",
     "text": [
      "2023-04-12 수요일\n"
     ]
    }
   ],
   "source": [
    "date = '2023-04-12 수요일'\n",
    "print(date)"
   ]
  },
  {
   "cell_type": "code",
   "execution_count": 2,
   "id": "83be08b3",
   "metadata": {},
   "outputs": [
    {
     "data": {
      "text/plain": [
       "['2023-04-12', '수요일']"
      ]
     },
     "execution_count": 2,
     "metadata": {},
     "output_type": "execute_result"
    }
   ],
   "source": [
    "# 공백을 기준으로 잘라내기 split\n",
    "date.split()"
   ]
  },
  {
   "cell_type": "code",
   "execution_count": 3,
   "id": "970f92d7",
   "metadata": {},
   "outputs": [
    {
     "name": "stdout",
     "output_type": "stream",
     "text": [
      "2023-04-12 수요일\n"
     ]
    }
   ],
   "source": [
    "print(date)"
   ]
  },
  {
   "cell_type": "code",
   "execution_count": 4,
   "id": "090c94c0",
   "metadata": {},
   "outputs": [
    {
     "data": {
      "text/plain": [
       "['2', '23-', '4-12 수요일']"
      ]
     },
     "execution_count": 4,
     "metadata": {},
     "output_type": "execute_result"
    }
   ],
   "source": [
    "# 0을 기준으로 잘라내기\n",
    "date.split('0')"
   ]
  },
  {
   "cell_type": "code",
   "execution_count": 5,
   "id": "7852a319",
   "metadata": {},
   "outputs": [
    {
     "data": {
      "text/plain": [
       "['2023', '04', '12 수요일']"
      ]
     },
     "execution_count": 5,
     "metadata": {},
     "output_type": "execute_result"
    }
   ],
   "source": [
    "# -을 기준으로 split\n",
    "date.split('-')"
   ]
  },
  {
   "cell_type": "code",
   "execution_count": 6,
   "id": "19ca2f7d",
   "metadata": {},
   "outputs": [
    {
     "data": {
      "text/plain": [
       "'2023'"
      ]
     },
     "execution_count": 6,
     "metadata": {},
     "output_type": "execute_result"
    }
   ],
   "source": [
    "date.split('-')[0]"
   ]
  },
  {
   "cell_type": "code",
   "execution_count": 7,
   "id": "d8b49b23",
   "metadata": {},
   "outputs": [
    {
     "data": {
      "text/plain": [
       "2023"
      ]
     },
     "execution_count": 7,
     "metadata": {},
     "output_type": "execute_result"
    }
   ],
   "source": [
    "# split한 결과를 형변환 int\n",
    "int(date.split('-')[0])"
   ]
  },
  {
   "cell_type": "markdown",
   "id": "7e74cff3",
   "metadata": {},
   "source": [
    "실습\n",
    "```\n",
    "date = '2023-04-12'\n",
    "```\n",
    "위 date에서 월(month)만 골라내 숫자형태로 변수 mon에 저장하시오."
   ]
  },
  {
   "cell_type": "code",
   "execution_count": 9,
   "id": "80ae22d5",
   "metadata": {},
   "outputs": [
    {
     "name": "stdout",
     "output_type": "stream",
     "text": [
      "4\n"
     ]
    }
   ],
   "source": [
    "# date 변수를 만들고 값을 넣어 준다\n",
    "date = '2023-04-12'\n",
    "\n",
    "#월만 골라내기\n",
    "mon = int(date.split('-')[1])\n",
    "print(mon)"
   ]
  },
  {
   "cell_type": "code",
   "execution_count": 10,
   "id": "705bbe4f",
   "metadata": {},
   "outputs": [
    {
     "name": "stdout",
     "output_type": "stream",
     "text": [
      "12\n"
     ]
    }
   ],
   "source": [
    "# day만 출력해 봅시다\n",
    "day = int(date.split('-')[2])\n",
    "print(day)"
   ]
  },
  {
   "cell_type": "code",
   "execution_count": 11,
   "id": "b2a4bc03",
   "metadata": {},
   "outputs": [
    {
     "name": "stdout",
     "output_type": "stream",
     "text": [
      "12\n"
     ]
    }
   ],
   "source": [
    "# day만 출력해 봅시다\n",
    "day = int(date.split('-')[-1])\n",
    "print(day)"
   ]
  },
  {
   "cell_type": "markdown",
   "id": "31201712",
   "metadata": {},
   "source": [
    "## 3. 리스트와 제어구조\n",
    "### 1) for a in date 에서 date에 리스트를 넣을 때\n",
    "- 다음 spend의 모든 원소를 차례대로 출력하시오\n",
    "```\n",
    "spend = [25, 36, 8, 53, 24, 56]\n",
    "```"
   ]
  },
  {
   "cell_type": "code",
   "execution_count": 12,
   "id": "c1b99c9f",
   "metadata": {},
   "outputs": [
    {
     "name": "stdout",
     "output_type": "stream",
     "text": [
      "지출은 25\n",
      "지출은 36\n",
      "지출은 8\n",
      "지출은 53\n",
      "지출은 24\n",
      "지출은 56\n"
     ]
    }
   ],
   "source": [
    "spend = [25, 36, 8, 53, 24, 56]\n",
    "\n",
    "for i in spend :\n",
    "    print('지출은', i)"
   ]
  },
  {
   "cell_type": "code",
   "execution_count": 13,
   "id": "2a3d7197",
   "metadata": {},
   "outputs": [
    {
     "name": "stdout",
     "output_type": "stream",
     "text": [
      "지출은 53\n",
      "지출은 56\n"
     ]
    }
   ],
   "source": [
    "# 문제 50이상 쓴 금액만 출력하시오.\n",
    "spend = [25, 36, 8, 53, 24, 56]\n",
    "\n",
    "for i in spend :\n",
    "    if i >= 50 :\n",
    "        print('지출은', i)"
   ]
  },
  {
   "cell_type": "markdown",
   "id": "938d6cf8",
   "metadata": {},
   "source": [
    "### 2) for a in date 에서 date에 range()를 넣을 때"
   ]
  },
  {
   "cell_type": "code",
   "execution_count": 14,
   "id": "40d48b61",
   "metadata": {},
   "outputs": [
    {
     "name": "stdout",
     "output_type": "stream",
     "text": [
      "1 월 지출은 25\n",
      "2 월 지출은 36\n",
      "3 월 지출은 8\n",
      "4 월 지출은 53\n",
      "5 월 지출은 24\n",
      "6 월 지출은 56\n",
      "7 월 지출은 80\n",
      "8 월 지출은 12\n"
     ]
    }
   ],
   "source": [
    "# 인덱스를 활용하고 싶을 때 range()\n",
    "spend = [25, 36, 8, 53, 24, 56, 80, 12]\n",
    "\n",
    "for i in range(len(spend)) :\n",
    "    print(i+1,'월 지출은', spend[i])"
   ]
  }
 ],
 "metadata": {
  "kernelspec": {
   "display_name": "Python 3 (ipykernel)",
   "language": "python",
   "name": "python3"
  },
  "language_info": {
   "codemirror_mode": {
    "name": "ipython",
    "version": 3
   },
   "file_extension": ".py",
   "mimetype": "text/x-python",
   "name": "python",
   "nbconvert_exporter": "python",
   "pygments_lexer": "ipython3",
   "version": "3.9.13"
  }
 },
 "nbformat": 4,
 "nbformat_minor": 5
}
