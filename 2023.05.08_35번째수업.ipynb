{
 "cells": [
  {
   "cell_type": "markdown",
   "id": "46ec54b0",
   "metadata": {},
   "source": [
    "## if구조\n",
    "* 점수를 입력받아, 점수가 60점 이상이면'합격'을 출력합니다."
   ]
  },
  {
   "cell_type": "code",
   "execution_count": 2,
   "id": "478c9ba1",
   "metadata": {},
   "outputs": [
    {
     "name": "stdout",
     "output_type": "stream",
     "text": [
      "점수 :65\n",
      "합격\n",
      "축하합니다\n",
      "수고하셨습니다\n"
     ]
    }
   ],
   "source": [
    "# 입력설계\n",
    "s = int(input('점수 :'))\n",
    "\n",
    "# 판단 if 조건 60점이상\n",
    "if s >= 60 :\n",
    "    print(f'합격')\n",
    "    print(f'축하합니다')\n",
    "print(f'수고하셨습니다')"
   ]
  },
  {
   "cell_type": "markdown",
   "id": "7c71e744",
   "metadata": {},
   "source": [
    "## if..else..구조\n",
    "* 점수를 입력받아, 점수가 60점 이상이면'합격'을 출력하고, 아니면'불합격'을 출력합니다."
   ]
  },
  {
   "cell_type": "code",
   "execution_count": 6,
   "id": "f96617ad",
   "metadata": {},
   "outputs": [
    {
     "name": "stdout",
     "output_type": "stream",
     "text": [
      "점수 :60\n",
      "합격\n",
      "수고하셨습니다\n"
     ]
    }
   ],
   "source": [
    "# 입력설계\n",
    "s = int(input('점수 :'))\n",
    "\n",
    "# 판단 if 조건 60점이상\n",
    "if s >= 60 :\n",
    "    print(f'합격')\n",
    "else :\n",
    "    print(f'불합격')\n",
    "print(f'수고하셨습니다')"
   ]
  },
  {
   "cell_type": "markdown",
   "id": "6d39fb43",
   "metadata": {},
   "source": [
    "## if..elif..구조\n",
    "* 점수를 입력받고 점수의 범위에 따라 등급을 출력하는 프로그램을 작성하세요.\n",
    "\n",
    "|등금|A|B|C|D|F|\n",
    "|----|--|--|--|--|--|\n",
    "|점수|90이상|80~89|70~79|60~69|0~59|"
   ]
  },
  {
   "cell_type": "code",
   "execution_count": 5,
   "id": "2c987ecc",
   "metadata": {},
   "outputs": [
    {
     "name": "stdout",
     "output_type": "stream",
     "text": [
      "점수 :90\n",
      "등급은 A입니다\n"
     ]
    }
   ],
   "source": [
    "score = int(input('점수 :'))\n",
    "\n",
    "if score>=90:\n",
    "    grade='A'\n",
    "elif score>=80:\n",
    "    grade='B'\n",
    "elif score>=70:\n",
    "    grade='C'\n",
    "elif score>=60:\n",
    "    grade='D'\n",
    "elif score>=50:\n",
    "    grade='F'\n",
    "\n",
    "print(f'등급은 {grade}입니다')"
   ]
  },
  {
   "cell_type": "markdown",
   "id": "1cc28ec8",
   "metadata": {},
   "source": [
    "## 연습문제\n",
    "* 정수를 입력받아 짝수/홀수를 판별하세요."
   ]
  },
  {
   "cell_type": "code",
   "execution_count": 7,
   "id": "a73e60f7",
   "metadata": {},
   "outputs": [
    {
     "name": "stdout",
     "output_type": "stream",
     "text": [
      "정수:1117\n",
      "홀수\n"
     ]
    }
   ],
   "source": [
    "num = int(input('정수:'))\n",
    "\n",
    "if num%2 ==1:\n",
    "    print(f'홀수')\n",
    "elif num==0:\n",
    "    print(f'0')\n",
    "else:\n",
    "    print(f'짝수')"
   ]
  }
 ],
 "metadata": {
  "kernelspec": {
   "display_name": "Python 3 (ipykernel)",
   "language": "python",
   "name": "python3"
  },
  "language_info": {
   "codemirror_mode": {
    "name": "ipython",
    "version": 3
   },
   "file_extension": ".py",
   "mimetype": "text/x-python",
   "name": "python",
   "nbconvert_exporter": "python",
   "pygments_lexer": "ipython3",
   "version": "3.9.13"
  }
 },
 "nbformat": 4,
 "nbformat_minor": 5
}
