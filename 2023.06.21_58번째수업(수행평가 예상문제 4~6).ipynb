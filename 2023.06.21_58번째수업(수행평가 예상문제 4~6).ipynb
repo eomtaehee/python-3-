{
 "cells": [
  {
   "cell_type": "markdown",
   "id": "4a688ade",
   "metadata": {},
   "source": [
    "## 수행평가 예상문제\n",
    "문제4\n",
    "> 25명의 학생 번호와 무작위로 입력된 점수 리스트에서 <br>\n",
    "70점 이상인 번호와 값 출력하기"
   ]
  },
  {
   "cell_type": "code",
   "execution_count": 1,
   "id": "44ad05d6",
   "metadata": {},
   "outputs": [
    {
     "name": "stdout",
     "output_type": "stream",
     "text": [
      "점수 리스트 : [9, 57, 70, 99, 26, 88, 10, 68, 27, 45, 72, 90, 69, 44, 38, 51, 97, 98, 25, 54, 36, 25, 4, 57, 42]\n",
      "▶ 점수리스트에서 점수가 70점 이상인 학생의 점수를 출력\n",
      "3번, 점수 : 70점\n",
      "4번, 점수 : 99점\n",
      "6번, 점수 : 88점\n",
      "11번, 점수 : 72점\n",
      "12번, 점수 : 90점\n",
      "17번, 점수 : 97점\n",
      "18번, 점수 : 98점\n"
     ]
    }
   ],
   "source": [
    "# 무작위 점수입력 random\n",
    "import random\n",
    "\n",
    "# 빈 리스트\n",
    "score = []\n",
    "# 랜덤점수 입력\n",
    "for i in range(0,25) :\n",
    "    score.append(random.randint(0,100))\n",
    "print(f'점수 리스트 : {score}')\n",
    "print('▶ 점수리스트에서 점수가 70점 이상인 학생의 점수를 출력')\n",
    "\n",
    "# 70점이 넘는 학생의 번호와 점수\n",
    "for s in score :\n",
    "    if s>=70:\n",
    "        print(f'{score.index(s)+1}번, 점수 : {s}점')"
   ]
  },
  {
   "cell_type": "markdown",
   "id": "e5686014",
   "metadata": {},
   "source": [
    "## 수행평가 예상문제\n",
    "문제 5\n",
    "> 지하철 노선 맞추는 게임 프로그램\n",
    "```\n",
    "신분당선 = ['광교','광교중앙','상현','성복','수지구청','동천','미금','정자','판교','청계산입구','양재시민의숲','양재','강남','신논현','논현','신사']\n",
    "팔호선 = ['모란','수진','신흥','단대오거리','남한산성입구','산성','남위례','복정','장지','문정','가락시장','송파','석촌','잠실','몽촌토성','강동구청','천호','암사']\n",
    "```"
   ]
  },
  {
   "cell_type": "code",
   "execution_count": 2,
   "id": "79b78d94",
   "metadata": {},
   "outputs": [
    {
     "name": "stdout",
     "output_type": "stream",
     "text": [
      "지하철~~~༼ つ ◕_◕ ༽つ지하철~~~༼ つ ◕_◕ ༽つ지하철~~~༼ つ ◕_◕ ༽つ\n",
      "＊몇호선 ?팔호선\n",
      "역이름을 입력하세요 ?신흥\n",
      "역이름을 입력하세요 ?모란\n",
      "역이름을 입력하세요 ?천호\n",
      "역이름을 입력하세요 ?신사\n",
      "땡!!! 신사역은 팔호선의 노선이 아닙니다\n",
      "벌칙 당첨!!!\n"
     ]
    }
   ],
   "source": [
    "신분당선 = ['광교','광교중앙','상현','성복','수지구청','동천','미금','정자','판교',\n",
    "        '청계산입구','양재시민의숲','양재','강남','신논현','논현','신사']\n",
    "팔호선 = ['모란','수진','신흥','단대오거리','남한산성입구','산성','남위례','복정',\n",
    "       '장지','문정','가락시장','송파','석촌','잠실','몽촌토성','강동구청','천호','암사']\n",
    "\n",
    "print('지하철~~~༼ つ ◕_◕ ༽つ'*3)\n",
    "호선 = input('＊몇호선 ?')\n",
    "\n",
    "# 5번 반복\n",
    "for i in range(5):\n",
    "    if 호선 == '신분당선':\n",
    "        입력 = input('역이름을 입력하세요 ?')\n",
    "        if 입력 not in 신분당선 :\n",
    "            print(f'땡!!! {입력}역은 {호선}의 노선이 아닙니다')\n",
    "            print('벌칙 당첨!!!')\n",
    "            break\n",
    "    elif 호선 == '팔호선':\n",
    "        입력 = input('역이름을 입력하세요 ?')\n",
    "        if 입력 not in 팔호선 :\n",
    "            print(f'땡!!! {입력}역은 {호선}의 노선이 아닙니다')\n",
    "            print('벌칙 당첨!!!')\n",
    "            break"
   ]
  },
  {
   "cell_type": "markdown",
   "id": "d72226de",
   "metadata": {},
   "source": [
    "## 수행평가 예상문제\n",
    "문제 6\n",
    "> 영어단어장 만들기 프로그램"
   ]
  },
  {
   "cell_type": "code",
   "execution_count": 4,
   "id": "b51809bd",
   "metadata": {},
   "outputs": [
    {
     "name": "stdout",
     "output_type": "stream",
     "text": [
      "영어단어,뜻: banana,바나나\n",
      "영어단어,뜻: apple,사과\n",
      "영어단어,뜻: \n"
     ]
    },
    {
     "data": {
      "text/plain": [
       "{'banana': '바나나', 'apple': '사과'}"
      ]
     },
     "execution_count": 4,
     "metadata": {},
     "output_type": "execute_result"
    }
   ],
   "source": [
    "# 빈 딕셔너리 만들기\n",
    "dict_word={}\n",
    "\n",
    "# 공백을 입력할때까지 입력 키값과 밸류값 받기\n",
    "while True:\n",
    "    input_word = input('영어단어,뜻: ')\n",
    "    if input_word=='':\n",
    "        break\n",
    "    # 키값돠 밸류값 분리하기\n",
    "    eng = input_word.split(',')[0]\n",
    "    kor = input_word.split(',')[1]\n",
    "    \n",
    "    # 키값과 밸류값 저장하기\n",
    "    dict_word[eng] = kor\n",
    "\n",
    "# 출력하기\n",
    "dict_word"
   ]
  }
 ],
 "metadata": {
  "kernelspec": {
   "display_name": "Python 3 (ipykernel)",
   "language": "python",
   "name": "python3"
  },
  "language_info": {
   "codemirror_mode": {
    "name": "ipython",
    "version": 3
   },
   "file_extension": ".py",
   "mimetype": "text/x-python",
   "name": "python",
   "nbconvert_exporter": "python",
   "pygments_lexer": "ipython3",
   "version": "3.9.13"
  }
 },
 "nbformat": 4,
 "nbformat_minor": 5
}
